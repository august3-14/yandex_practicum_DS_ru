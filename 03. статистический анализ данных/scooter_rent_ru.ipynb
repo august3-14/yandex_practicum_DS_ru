{
 "cells": [
  {
   "cell_type": "markdown",
   "id": "5ace0761",
   "metadata": {},
   "source": [
    "# Статистический анализ сервиса аренды самокатов\n",
    "\n",
    "исходные датасеты содержат инфрмацию о пользователях сервиса аренды самокатов. в ходе исследования мы проанализируем данные и проверим несколько гипотез:\n",
    "* `Гипотеза №1`. Пользователи с подпиской тратят больше времени на поездки\n",
    "* `Гипотеза №2`. Среднее расстояние, которое проезжает пользователь с подпиской, не превышает оптимальую дистанцию поездки\n",
    "* `Гипотеза №3`. Помесячная выручка от пользователей с подпиской больше, чем от обычных пользователей.\n",
    "\n",
    "условия пользования сервисом:\n",
    "* без подписки:\n",
    "  * абонентская плата отсутствует;\n",
    "  * стоимость одной минуты поездки — 8 рублей;\n",
    "  * стоимость старта (начала поездки) — 50 рублей;  \n",
    "  \n",
    "* с подпиской Ultra:\n",
    "    * абонентская плата — 199 рублей в месяц;\n",
    "    * стоимость одной минуты поездки — 6 рублей;\n",
    "    * стоимость старта — бесплатно.\n",
    "\n",
    "## Описание данных\n",
    "\n",
    "**датасет №1. Пользователи**:\n",
    "* `user_id` &mdash; уникальный идентификатор пользователя\n",
    "* `name` &mdash; имя пользователя\n",
    "* `age` &mdash; возраст пользователя\n",
    "* `city` &mdash; город\n",
    "* `subscription_type` &mdash; тип подписки (free или ultra)\n",
    "\n",
    "**датасет №2. Поездки**:\n",
    "* `user_id` &mdash; уникальный идентификатор пользователя\n",
    "* `distance` &mdash; дистанция одной поездки, в метрах\n",
    "* `duration` &mdash; продолжительность одной поездки, в минутах\n",
    "* `date` &mdash; дата поездки\n",
    "\n",
    "**датасет №3. Тарифы**:\n",
    "* `subscription_type` &mdash; тип подписки\n",
    "* `minute_price` &mdash; стоимость одной минуты поездки\n",
    "* `start_ride_price` &mdash; стоимость начала поездки\n",
    "* `ubscription_fee` &mdash; стоимость ежемесячного платежа\n",
    "\n",
    "\n",
    "## План\n",
    "1. Ознакомление с данными\n",
    "2. Предобработка данных\n",
    "3. Исследовательский анализ данных  \n",
    "    3.1. CITY  \n",
    "    3.2. SUBSCRIPTION TYPE  \n",
    "    3.3. AGE  \n",
    "    3.4. DISTANCE  \n",
    "    3.5. DURATION  \n",
    "4. Объединение данных и сравнение показателей  \n",
    "    4.1. Создание датасетов, необходимых для статистического анализа данных  \n",
    "    4.2. Сравнение распределений данных  \n",
    "5. Подсчёт выручки\n",
    "6. Проверка гипотез  \n",
    "    6.1. Гипотеза 1. Продолжительность  \n",
    "    6.2. Гипотеза 2. Дистанция  \n",
    "    6.3. Гипотеза 3. Выручка  \n",
    "    6.4. Обращения в техподдержку  \n",
    "7. Рассчёт маркетинговых активностей  \n",
    "    7.1. Промокоды на подписку  \n",
    "    7.2. Рассылка push-уведомлений  \n",
    "8. Выводы"
   ]
  },
  {
   "cell_type": "markdown",
   "id": "c42cbe00",
   "metadata": {},
   "source": [
    "## 1. Ознакомление с данными.\n",
    "\n",
    "запишем датасеты в переменные с соответствующими названиями:\n",
    "* `users` &mdash; тут будут храниться данные о пользователях сервиса\n",
    "* `rides` &mdash; тут будут храниться данные о поездках, которые они совершили\n",
    "* `subscriptions` &mdash; а тут информация о тарифах "
   ]
  },
  {
   "cell_type": "code",
   "execution_count": 1,
   "id": "12c0befa",
   "metadata": {},
   "outputs": [],
   "source": [
    "# импортируем необходимые для работы библиотеки.\n",
    "import pandas as pd\n",
    "import numpy as np\n",
    "from scipy import stats as st\n",
    "from scipy.stats import binom\n",
    "import matplotlib.pyplot as plt\n",
    "import seaborn as sns\n",
    "sns.set_theme(rc={'figure.figsize':(11.7,8.27)}, style='white')"
   ]
  },
  {
   "cell_type": "code",
   "execution_count": 2,
   "id": "eff9f206",
   "metadata": {},
   "outputs": [],
   "source": [
    "# импортируем данные:\n",
    "try:\n",
    "    users = pd.read_csv('D:\\docs\\DS\\\\users_go.csv')\n",
    "except:\n",
    "    users = pd.read_csv('https://code.s3.yandex.net/datasets/users_go.csv')\n",
    "\n",
    "try:\n",
    "    rides = pd.read_csv('D:\\docs\\DS\\\\rides_go.csv')\n",
    "except:\n",
    "    rides = pd.read_csv('https://code.s3.yandex.net/datasets/rides_go.csv')\n",
    "    \n",
    "try:\n",
    "    subscriptions = pd.read_csv('D:\\docs\\DS\\\\subscriptions_go.csv')\n",
    "except:\n",
    "    subscriptions = pd.read_csv('https://code.s3.yandex.net/datasets/subscriptions_go.csv')"
   ]
  },
  {
   "cell_type": "markdown",
   "id": "8c16f2b8",
   "metadata": {},
   "source": [
    "теперь посмотрим на каждый датасет. начнём с пользователей:"
   ]
  },
  {
   "cell_type": "code",
   "execution_count": 3,
   "id": "77346f85",
   "metadata": {},
   "outputs": [
    {
     "name": "stdout",
     "output_type": "stream",
     "text": [
      "<class 'pandas.core.frame.DataFrame'>\n",
      "RangeIndex: 1565 entries, 0 to 1564\n",
      "Data columns (total 5 columns):\n",
      " #   Column             Non-Null Count  Dtype \n",
      "---  ------             --------------  ----- \n",
      " 0   user_id            1565 non-null   int64 \n",
      " 1   name               1565 non-null   object\n",
      " 2   age                1565 non-null   int64 \n",
      " 3   city               1565 non-null   object\n",
      " 4   subscription_type  1565 non-null   object\n",
      "dtypes: int64(2), object(3)\n",
      "memory usage: 61.3+ KB\n"
     ]
    },
    {
     "data": {
      "text/html": [
       "<div>\n",
       "<style scoped>\n",
       "    .dataframe tbody tr th:only-of-type {\n",
       "        vertical-align: middle;\n",
       "    }\n",
       "\n",
       "    .dataframe tbody tr th {\n",
       "        vertical-align: top;\n",
       "    }\n",
       "\n",
       "    .dataframe thead th {\n",
       "        text-align: right;\n",
       "    }\n",
       "</style>\n",
       "<table border=\"1\" class=\"dataframe\">\n",
       "  <thead>\n",
       "    <tr style=\"text-align: right;\">\n",
       "      <th></th>\n",
       "      <th>user_id</th>\n",
       "      <th>name</th>\n",
       "      <th>age</th>\n",
       "      <th>city</th>\n",
       "      <th>subscription_type</th>\n",
       "    </tr>\n",
       "  </thead>\n",
       "  <tbody>\n",
       "    <tr>\n",
       "      <th>0</th>\n",
       "      <td>1</td>\n",
       "      <td>Кира</td>\n",
       "      <td>22</td>\n",
       "      <td>Тюмень</td>\n",
       "      <td>ultra</td>\n",
       "    </tr>\n",
       "    <tr>\n",
       "      <th>1</th>\n",
       "      <td>2</td>\n",
       "      <td>Станислав</td>\n",
       "      <td>31</td>\n",
       "      <td>Омск</td>\n",
       "      <td>ultra</td>\n",
       "    </tr>\n",
       "    <tr>\n",
       "      <th>2</th>\n",
       "      <td>3</td>\n",
       "      <td>Алексей</td>\n",
       "      <td>20</td>\n",
       "      <td>Москва</td>\n",
       "      <td>ultra</td>\n",
       "    </tr>\n",
       "    <tr>\n",
       "      <th>3</th>\n",
       "      <td>4</td>\n",
       "      <td>Константин</td>\n",
       "      <td>26</td>\n",
       "      <td>Ростов-на-Дону</td>\n",
       "      <td>ultra</td>\n",
       "    </tr>\n",
       "    <tr>\n",
       "      <th>4</th>\n",
       "      <td>5</td>\n",
       "      <td>Адель</td>\n",
       "      <td>28</td>\n",
       "      <td>Омск</td>\n",
       "      <td>ultra</td>\n",
       "    </tr>\n",
       "  </tbody>\n",
       "</table>\n",
       "</div>"
      ],
      "text/plain": [
       "   user_id        name  age            city subscription_type\n",
       "0        1        Кира   22          Тюмень             ultra\n",
       "1        2   Станислав   31            Омск             ultra\n",
       "2        3     Алексей   20          Москва             ultra\n",
       "3        4  Константин   26  Ростов-на-Дону             ultra\n",
       "4        5       Адель   28            Омск             ultra"
      ]
     },
     "execution_count": 3,
     "metadata": {},
     "output_type": "execute_result"
    }
   ],
   "source": [
    "users.info()\n",
    "users.head()"
   ]
  },
  {
   "cell_type": "markdown",
   "id": "0c43d40e",
   "metadata": {},
   "source": [
    "нет пропусков, столбцы названы корректно, корректно задан тип данных. на первый взгляд всё выглядит отлично. ознакомимся с информацией о поездках:"
   ]
  },
  {
   "cell_type": "code",
   "execution_count": 4,
   "id": "9b4de123",
   "metadata": {},
   "outputs": [
    {
     "name": "stdout",
     "output_type": "stream",
     "text": [
      "<class 'pandas.core.frame.DataFrame'>\n",
      "RangeIndex: 18068 entries, 0 to 18067\n",
      "Data columns (total 4 columns):\n",
      " #   Column    Non-Null Count  Dtype  \n",
      "---  ------    --------------  -----  \n",
      " 0   user_id   18068 non-null  int64  \n",
      " 1   distance  18068 non-null  float64\n",
      " 2   duration  18068 non-null  float64\n",
      " 3   date      18068 non-null  object \n",
      "dtypes: float64(2), int64(1), object(1)\n",
      "memory usage: 564.8+ KB\n"
     ]
    },
    {
     "data": {
      "text/html": [
       "<div>\n",
       "<style scoped>\n",
       "    .dataframe tbody tr th:only-of-type {\n",
       "        vertical-align: middle;\n",
       "    }\n",
       "\n",
       "    .dataframe tbody tr th {\n",
       "        vertical-align: top;\n",
       "    }\n",
       "\n",
       "    .dataframe thead th {\n",
       "        text-align: right;\n",
       "    }\n",
       "</style>\n",
       "<table border=\"1\" class=\"dataframe\">\n",
       "  <thead>\n",
       "    <tr style=\"text-align: right;\">\n",
       "      <th></th>\n",
       "      <th>user_id</th>\n",
       "      <th>distance</th>\n",
       "      <th>duration</th>\n",
       "      <th>date</th>\n",
       "    </tr>\n",
       "  </thead>\n",
       "  <tbody>\n",
       "    <tr>\n",
       "      <th>0</th>\n",
       "      <td>1</td>\n",
       "      <td>4409.919140</td>\n",
       "      <td>25.599769</td>\n",
       "      <td>2021-01-01</td>\n",
       "    </tr>\n",
       "    <tr>\n",
       "      <th>1</th>\n",
       "      <td>1</td>\n",
       "      <td>2617.592153</td>\n",
       "      <td>15.816871</td>\n",
       "      <td>2021-01-18</td>\n",
       "    </tr>\n",
       "    <tr>\n",
       "      <th>2</th>\n",
       "      <td>1</td>\n",
       "      <td>754.159807</td>\n",
       "      <td>6.232113</td>\n",
       "      <td>2021-04-20</td>\n",
       "    </tr>\n",
       "    <tr>\n",
       "      <th>3</th>\n",
       "      <td>1</td>\n",
       "      <td>2694.783254</td>\n",
       "      <td>18.511000</td>\n",
       "      <td>2021-08-11</td>\n",
       "    </tr>\n",
       "    <tr>\n",
       "      <th>4</th>\n",
       "      <td>1</td>\n",
       "      <td>4028.687306</td>\n",
       "      <td>26.265803</td>\n",
       "      <td>2021-08-28</td>\n",
       "    </tr>\n",
       "    <tr>\n",
       "      <th>5</th>\n",
       "      <td>1</td>\n",
       "      <td>2770.890808</td>\n",
       "      <td>16.650138</td>\n",
       "      <td>2021-10-09</td>\n",
       "    </tr>\n",
       "    <tr>\n",
       "      <th>6</th>\n",
       "      <td>1</td>\n",
       "      <td>3039.020292</td>\n",
       "      <td>14.927879</td>\n",
       "      <td>2021-10-19</td>\n",
       "    </tr>\n",
       "    <tr>\n",
       "      <th>7</th>\n",
       "      <td>1</td>\n",
       "      <td>2842.118050</td>\n",
       "      <td>23.117468</td>\n",
       "      <td>2021-11-06</td>\n",
       "    </tr>\n",
       "    <tr>\n",
       "      <th>8</th>\n",
       "      <td>1</td>\n",
       "      <td>3412.690668</td>\n",
       "      <td>15.238072</td>\n",
       "      <td>2021-11-14</td>\n",
       "    </tr>\n",
       "    <tr>\n",
       "      <th>9</th>\n",
       "      <td>1</td>\n",
       "      <td>748.690645</td>\n",
       "      <td>15.041884</td>\n",
       "      <td>2021-11-22</td>\n",
       "    </tr>\n",
       "  </tbody>\n",
       "</table>\n",
       "</div>"
      ],
      "text/plain": [
       "   user_id     distance   duration        date\n",
       "0        1  4409.919140  25.599769  2021-01-01\n",
       "1        1  2617.592153  15.816871  2021-01-18\n",
       "2        1   754.159807   6.232113  2021-04-20\n",
       "3        1  2694.783254  18.511000  2021-08-11\n",
       "4        1  4028.687306  26.265803  2021-08-28\n",
       "5        1  2770.890808  16.650138  2021-10-09\n",
       "6        1  3039.020292  14.927879  2021-10-19\n",
       "7        1  2842.118050  23.117468  2021-11-06\n",
       "8        1  3412.690668  15.238072  2021-11-14\n",
       "9        1   748.690645  15.041884  2021-11-22"
      ]
     },
     "execution_count": 4,
     "metadata": {},
     "output_type": "execute_result"
    }
   ],
   "source": [
    "rides.info()\n",
    "rides.head(10)"
   ]
  },
  {
   "cell_type": "markdown",
   "id": "ea387323",
   "metadata": {},
   "source": [
    "здесь также без пропусков. количество строк в поездках в 11 раз превышает количество строк в пользователях, что ожидаемо: на одного клиента может приходиться несколько поездок. информация о дате имеет некорректный тип. исправим это, прежде чем переходить к следующему датасету: "
   ]
  },
  {
   "cell_type": "code",
   "execution_count": 5,
   "id": "7d2b1aa0",
   "metadata": {},
   "outputs": [
    {
     "name": "stdout",
     "output_type": "stream",
     "text": [
      "<class 'pandas.core.frame.DataFrame'>\n",
      "RangeIndex: 18068 entries, 0 to 18067\n",
      "Data columns (total 4 columns):\n",
      " #   Column    Non-Null Count  Dtype         \n",
      "---  ------    --------------  -----         \n",
      " 0   user_id   18068 non-null  int64         \n",
      " 1   distance  18068 non-null  float64       \n",
      " 2   duration  18068 non-null  float64       \n",
      " 3   date      18068 non-null  datetime64[ns]\n",
      "dtypes: datetime64[ns](1), float64(2), int64(1)\n",
      "memory usage: 564.8 KB\n"
     ]
    }
   ],
   "source": [
    "rides['date'] = pd.to_datetime(rides['date'])\n",
    "rides.info()"
   ]
  },
  {
   "cell_type": "code",
   "execution_count": 6,
   "id": "87164fac",
   "metadata": {},
   "outputs": [
    {
     "name": "stdout",
     "output_type": "stream",
     "text": [
      "<class 'pandas.core.frame.DataFrame'>\n",
      "RangeIndex: 2 entries, 0 to 1\n",
      "Data columns (total 4 columns):\n",
      " #   Column             Non-Null Count  Dtype \n",
      "---  ------             --------------  ----- \n",
      " 0   subscription_type  2 non-null      object\n",
      " 1   minute_price       2 non-null      int64 \n",
      " 2   start_ride_price   2 non-null      int64 \n",
      " 3   subscription_fee   2 non-null      int64 \n",
      "dtypes: int64(3), object(1)\n",
      "memory usage: 196.0+ bytes\n"
     ]
    },
    {
     "data": {
      "text/html": [
       "<div>\n",
       "<style scoped>\n",
       "    .dataframe tbody tr th:only-of-type {\n",
       "        vertical-align: middle;\n",
       "    }\n",
       "\n",
       "    .dataframe tbody tr th {\n",
       "        vertical-align: top;\n",
       "    }\n",
       "\n",
       "    .dataframe thead th {\n",
       "        text-align: right;\n",
       "    }\n",
       "</style>\n",
       "<table border=\"1\" class=\"dataframe\">\n",
       "  <thead>\n",
       "    <tr style=\"text-align: right;\">\n",
       "      <th></th>\n",
       "      <th>subscription_type</th>\n",
       "      <th>minute_price</th>\n",
       "      <th>start_ride_price</th>\n",
       "      <th>subscription_fee</th>\n",
       "    </tr>\n",
       "  </thead>\n",
       "  <tbody>\n",
       "    <tr>\n",
       "      <th>0</th>\n",
       "      <td>free</td>\n",
       "      <td>8</td>\n",
       "      <td>50</td>\n",
       "      <td>0</td>\n",
       "    </tr>\n",
       "    <tr>\n",
       "      <th>1</th>\n",
       "      <td>ultra</td>\n",
       "      <td>6</td>\n",
       "      <td>0</td>\n",
       "      <td>199</td>\n",
       "    </tr>\n",
       "  </tbody>\n",
       "</table>\n",
       "</div>"
      ],
      "text/plain": [
       "  subscription_type  minute_price  start_ride_price  subscription_fee\n",
       "0              free             8                50                 0\n",
       "1             ultra             6                 0               199"
      ]
     },
     "execution_count": 6,
     "metadata": {},
     "output_type": "execute_result"
    }
   ],
   "source": [
    "subscriptions.info()\n",
    "subscriptions.head()"
   ]
  },
  {
   "cell_type": "markdown",
   "id": "a81bcb4a",
   "metadata": {},
   "source": [
    "как и было заявлено, у сервиса только два тарифа: с подпиской и без. стоимость поездок соответствует фактической информации. можно приступать к предобработке данных.\n",
    "\n",
    "#### Промежуточный итог\n",
    "в процессе ознакомления с датасетами мы убедлились в корректности оформления данных и в отсутствии промущенных значений, а также задали корректный тип данных для информации о дате поездки. все три датасета готовы к предобработке данных."
   ]
  },
  {
   "cell_type": "markdown",
   "id": "e95ebca7",
   "metadata": {},
   "source": [
    "## 2. Предобработка данных"
   ]
  },
  {
   "cell_type": "markdown",
   "id": "3628e52a",
   "metadata": {},
   "source": [
    "в датасете, содержащем информацию о поездках, создадим новый столбец `month`, в который внесём информацию о месяце поездки, что пригодится нам в дальнейшем при расчёте помесячной выручки от каждого клиента. предварительно оценим, данные за какой период времени содержит датасет (если данные о поездках более, чем два года, нужно будет учесть это при подсчёте выручки за месяц): "
   ]
  },
  {
   "cell_type": "code",
   "execution_count": 7,
   "id": "54a370ba",
   "metadata": {},
   "outputs": [
    {
     "data": {
      "text/plain": [
       "array([2021])"
      ]
     },
     "execution_count": 7,
     "metadata": {},
     "output_type": "execute_result"
    }
   ],
   "source": [
    "rides['date'].dt.year.unique()"
   ]
  },
  {
   "cell_type": "markdown",
   "id": "1e5822ca",
   "metadata": {},
   "source": [
    "датасет содержит данные о поездках только за 2021 год &mdash; можно смело отделять месяц в самостоятельную колонку:"
   ]
  },
  {
   "cell_type": "code",
   "execution_count": 8,
   "id": "6b281f9f",
   "metadata": {},
   "outputs": [
    {
     "data": {
      "text/html": [
       "<div>\n",
       "<style scoped>\n",
       "    .dataframe tbody tr th:only-of-type {\n",
       "        vertical-align: middle;\n",
       "    }\n",
       "\n",
       "    .dataframe tbody tr th {\n",
       "        vertical-align: top;\n",
       "    }\n",
       "\n",
       "    .dataframe thead th {\n",
       "        text-align: right;\n",
       "    }\n",
       "</style>\n",
       "<table border=\"1\" class=\"dataframe\">\n",
       "  <thead>\n",
       "    <tr style=\"text-align: right;\">\n",
       "      <th></th>\n",
       "      <th>user_id</th>\n",
       "      <th>distance</th>\n",
       "      <th>duration</th>\n",
       "      <th>date</th>\n",
       "      <th>month</th>\n",
       "    </tr>\n",
       "  </thead>\n",
       "  <tbody>\n",
       "    <tr>\n",
       "      <th>0</th>\n",
       "      <td>1</td>\n",
       "      <td>4409.919140</td>\n",
       "      <td>25.599769</td>\n",
       "      <td>2021-01-01</td>\n",
       "      <td>1</td>\n",
       "    </tr>\n",
       "    <tr>\n",
       "      <th>1</th>\n",
       "      <td>1</td>\n",
       "      <td>2617.592153</td>\n",
       "      <td>15.816871</td>\n",
       "      <td>2021-01-18</td>\n",
       "      <td>1</td>\n",
       "    </tr>\n",
       "    <tr>\n",
       "      <th>2</th>\n",
       "      <td>1</td>\n",
       "      <td>754.159807</td>\n",
       "      <td>6.232113</td>\n",
       "      <td>2021-04-20</td>\n",
       "      <td>4</td>\n",
       "    </tr>\n",
       "    <tr>\n",
       "      <th>3</th>\n",
       "      <td>1</td>\n",
       "      <td>2694.783254</td>\n",
       "      <td>18.511000</td>\n",
       "      <td>2021-08-11</td>\n",
       "      <td>8</td>\n",
       "    </tr>\n",
       "    <tr>\n",
       "      <th>4</th>\n",
       "      <td>1</td>\n",
       "      <td>4028.687306</td>\n",
       "      <td>26.265803</td>\n",
       "      <td>2021-08-28</td>\n",
       "      <td>8</td>\n",
       "    </tr>\n",
       "  </tbody>\n",
       "</table>\n",
       "</div>"
      ],
      "text/plain": [
       "   user_id     distance   duration       date  month\n",
       "0        1  4409.919140  25.599769 2021-01-01      1\n",
       "1        1  2617.592153  15.816871 2021-01-18      1\n",
       "2        1   754.159807   6.232113 2021-04-20      4\n",
       "3        1  2694.783254  18.511000 2021-08-11      8\n",
       "4        1  4028.687306  26.265803 2021-08-28      8"
      ]
     },
     "execution_count": 8,
     "metadata": {},
     "output_type": "execute_result"
    }
   ],
   "source": [
    "rides['month'] = pd.DatetimeIndex(rides['date']).month\n",
    "rides.head()"
   ]
  },
  {
   "cell_type": "markdown",
   "id": "1fe82301",
   "metadata": {},
   "source": [
    "в столбце `distance` округлим значения до двух знаков после запятой:"
   ]
  },
  {
   "cell_type": "code",
   "execution_count": 9,
   "id": "eec25833",
   "metadata": {},
   "outputs": [
    {
     "data": {
      "text/html": [
       "<div>\n",
       "<style scoped>\n",
       "    .dataframe tbody tr th:only-of-type {\n",
       "        vertical-align: middle;\n",
       "    }\n",
       "\n",
       "    .dataframe tbody tr th {\n",
       "        vertical-align: top;\n",
       "    }\n",
       "\n",
       "    .dataframe thead th {\n",
       "        text-align: right;\n",
       "    }\n",
       "</style>\n",
       "<table border=\"1\" class=\"dataframe\">\n",
       "  <thead>\n",
       "    <tr style=\"text-align: right;\">\n",
       "      <th></th>\n",
       "      <th>user_id</th>\n",
       "      <th>distance</th>\n",
       "      <th>duration</th>\n",
       "      <th>date</th>\n",
       "      <th>month</th>\n",
       "    </tr>\n",
       "  </thead>\n",
       "  <tbody>\n",
       "    <tr>\n",
       "      <th>0</th>\n",
       "      <td>1</td>\n",
       "      <td>4409.92</td>\n",
       "      <td>25.599769</td>\n",
       "      <td>2021-01-01</td>\n",
       "      <td>1</td>\n",
       "    </tr>\n",
       "    <tr>\n",
       "      <th>1</th>\n",
       "      <td>1</td>\n",
       "      <td>2617.59</td>\n",
       "      <td>15.816871</td>\n",
       "      <td>2021-01-18</td>\n",
       "      <td>1</td>\n",
       "    </tr>\n",
       "    <tr>\n",
       "      <th>2</th>\n",
       "      <td>1</td>\n",
       "      <td>754.16</td>\n",
       "      <td>6.232113</td>\n",
       "      <td>2021-04-20</td>\n",
       "      <td>4</td>\n",
       "    </tr>\n",
       "    <tr>\n",
       "      <th>3</th>\n",
       "      <td>1</td>\n",
       "      <td>2694.78</td>\n",
       "      <td>18.511000</td>\n",
       "      <td>2021-08-11</td>\n",
       "      <td>8</td>\n",
       "    </tr>\n",
       "    <tr>\n",
       "      <th>4</th>\n",
       "      <td>1</td>\n",
       "      <td>4028.69</td>\n",
       "      <td>26.265803</td>\n",
       "      <td>2021-08-28</td>\n",
       "      <td>8</td>\n",
       "    </tr>\n",
       "    <tr>\n",
       "      <th>...</th>\n",
       "      <td>...</td>\n",
       "      <td>...</td>\n",
       "      <td>...</td>\n",
       "      <td>...</td>\n",
       "      <td>...</td>\n",
       "    </tr>\n",
       "    <tr>\n",
       "      <th>18063</th>\n",
       "      <td>1534</td>\n",
       "      <td>3781.10</td>\n",
       "      <td>19.822962</td>\n",
       "      <td>2021-11-04</td>\n",
       "      <td>11</td>\n",
       "    </tr>\n",
       "    <tr>\n",
       "      <th>18064</th>\n",
       "      <td>1534</td>\n",
       "      <td>2840.42</td>\n",
       "      <td>21.409799</td>\n",
       "      <td>2021-11-16</td>\n",
       "      <td>11</td>\n",
       "    </tr>\n",
       "    <tr>\n",
       "      <th>18065</th>\n",
       "      <td>1534</td>\n",
       "      <td>3826.19</td>\n",
       "      <td>18.435051</td>\n",
       "      <td>2021-11-18</td>\n",
       "      <td>11</td>\n",
       "    </tr>\n",
       "    <tr>\n",
       "      <th>18066</th>\n",
       "      <td>1534</td>\n",
       "      <td>2902.31</td>\n",
       "      <td>16.674362</td>\n",
       "      <td>2021-11-27</td>\n",
       "      <td>11</td>\n",
       "    </tr>\n",
       "    <tr>\n",
       "      <th>18067</th>\n",
       "      <td>1534</td>\n",
       "      <td>2371.71</td>\n",
       "      <td>15.893917</td>\n",
       "      <td>2021-12-29</td>\n",
       "      <td>12</td>\n",
       "    </tr>\n",
       "  </tbody>\n",
       "</table>\n",
       "<p>18068 rows × 5 columns</p>\n",
       "</div>"
      ],
      "text/plain": [
       "       user_id  distance   duration       date  month\n",
       "0            1   4409.92  25.599769 2021-01-01      1\n",
       "1            1   2617.59  15.816871 2021-01-18      1\n",
       "2            1    754.16   6.232113 2021-04-20      4\n",
       "3            1   2694.78  18.511000 2021-08-11      8\n",
       "4            1   4028.69  26.265803 2021-08-28      8\n",
       "...        ...       ...        ...        ...    ...\n",
       "18063     1534   3781.10  19.822962 2021-11-04     11\n",
       "18064     1534   2840.42  21.409799 2021-11-16     11\n",
       "18065     1534   3826.19  18.435051 2021-11-18     11\n",
       "18066     1534   2902.31  16.674362 2021-11-27     11\n",
       "18067     1534   2371.71  15.893917 2021-12-29     12\n",
       "\n",
       "[18068 rows x 5 columns]"
      ]
     },
     "execution_count": 9,
     "metadata": {},
     "output_type": "execute_result"
    }
   ],
   "source": [
    "rides['distance'] = rides['distance'].round(2)\n",
    "rides"
   ]
  },
  {
   "cell_type": "markdown",
   "id": "0cc46e7a",
   "metadata": {},
   "source": [
    "далее в исследовании для подсчёта выручки нам потребуется округлённое значение длительности поездки. согласно рекомендациям, используем округление до целого в большую сторону, так же изменим тип данных столбца на `int`"
   ]
  },
  {
   "cell_type": "code",
   "execution_count": 10,
   "id": "3306772a",
   "metadata": {},
   "outputs": [
    {
     "data": {
      "text/html": [
       "<div>\n",
       "<style scoped>\n",
       "    .dataframe tbody tr th:only-of-type {\n",
       "        vertical-align: middle;\n",
       "    }\n",
       "\n",
       "    .dataframe tbody tr th {\n",
       "        vertical-align: top;\n",
       "    }\n",
       "\n",
       "    .dataframe thead th {\n",
       "        text-align: right;\n",
       "    }\n",
       "</style>\n",
       "<table border=\"1\" class=\"dataframe\">\n",
       "  <thead>\n",
       "    <tr style=\"text-align: right;\">\n",
       "      <th></th>\n",
       "      <th>user_id</th>\n",
       "      <th>distance</th>\n",
       "      <th>duration</th>\n",
       "      <th>date</th>\n",
       "      <th>month</th>\n",
       "    </tr>\n",
       "  </thead>\n",
       "  <tbody>\n",
       "    <tr>\n",
       "      <th>0</th>\n",
       "      <td>1</td>\n",
       "      <td>4409.92</td>\n",
       "      <td>26</td>\n",
       "      <td>2021-01-01</td>\n",
       "      <td>1</td>\n",
       "    </tr>\n",
       "    <tr>\n",
       "      <th>1</th>\n",
       "      <td>1</td>\n",
       "      <td>2617.59</td>\n",
       "      <td>16</td>\n",
       "      <td>2021-01-18</td>\n",
       "      <td>1</td>\n",
       "    </tr>\n",
       "    <tr>\n",
       "      <th>2</th>\n",
       "      <td>1</td>\n",
       "      <td>754.16</td>\n",
       "      <td>7</td>\n",
       "      <td>2021-04-20</td>\n",
       "      <td>4</td>\n",
       "    </tr>\n",
       "    <tr>\n",
       "      <th>3</th>\n",
       "      <td>1</td>\n",
       "      <td>2694.78</td>\n",
       "      <td>19</td>\n",
       "      <td>2021-08-11</td>\n",
       "      <td>8</td>\n",
       "    </tr>\n",
       "    <tr>\n",
       "      <th>4</th>\n",
       "      <td>1</td>\n",
       "      <td>4028.69</td>\n",
       "      <td>27</td>\n",
       "      <td>2021-08-28</td>\n",
       "      <td>8</td>\n",
       "    </tr>\n",
       "    <tr>\n",
       "      <th>...</th>\n",
       "      <td>...</td>\n",
       "      <td>...</td>\n",
       "      <td>...</td>\n",
       "      <td>...</td>\n",
       "      <td>...</td>\n",
       "    </tr>\n",
       "    <tr>\n",
       "      <th>18063</th>\n",
       "      <td>1534</td>\n",
       "      <td>3781.10</td>\n",
       "      <td>20</td>\n",
       "      <td>2021-11-04</td>\n",
       "      <td>11</td>\n",
       "    </tr>\n",
       "    <tr>\n",
       "      <th>18064</th>\n",
       "      <td>1534</td>\n",
       "      <td>2840.42</td>\n",
       "      <td>22</td>\n",
       "      <td>2021-11-16</td>\n",
       "      <td>11</td>\n",
       "    </tr>\n",
       "    <tr>\n",
       "      <th>18065</th>\n",
       "      <td>1534</td>\n",
       "      <td>3826.19</td>\n",
       "      <td>19</td>\n",
       "      <td>2021-11-18</td>\n",
       "      <td>11</td>\n",
       "    </tr>\n",
       "    <tr>\n",
       "      <th>18066</th>\n",
       "      <td>1534</td>\n",
       "      <td>2902.31</td>\n",
       "      <td>17</td>\n",
       "      <td>2021-11-27</td>\n",
       "      <td>11</td>\n",
       "    </tr>\n",
       "    <tr>\n",
       "      <th>18067</th>\n",
       "      <td>1534</td>\n",
       "      <td>2371.71</td>\n",
       "      <td>16</td>\n",
       "      <td>2021-12-29</td>\n",
       "      <td>12</td>\n",
       "    </tr>\n",
       "  </tbody>\n",
       "</table>\n",
       "<p>18068 rows × 5 columns</p>\n",
       "</div>"
      ],
      "text/plain": [
       "       user_id  distance  duration       date  month\n",
       "0            1   4409.92        26 2021-01-01      1\n",
       "1            1   2617.59        16 2021-01-18      1\n",
       "2            1    754.16         7 2021-04-20      4\n",
       "3            1   2694.78        19 2021-08-11      8\n",
       "4            1   4028.69        27 2021-08-28      8\n",
       "...        ...       ...       ...        ...    ...\n",
       "18063     1534   3781.10        20 2021-11-04     11\n",
       "18064     1534   2840.42        22 2021-11-16     11\n",
       "18065     1534   3826.19        19 2021-11-18     11\n",
       "18066     1534   2902.31        17 2021-11-27     11\n",
       "18067     1534   2371.71        16 2021-12-29     12\n",
       "\n",
       "[18068 rows x 5 columns]"
      ]
     },
     "execution_count": 10,
     "metadata": {},
     "output_type": "execute_result"
    }
   ],
   "source": [
    "rides['duration'] = np.ceil(rides['duration']).astype('int')\n",
    "rides"
   ]
  },
  {
   "cell_type": "markdown",
   "id": "940d8db5",
   "metadata": {},
   "source": [
    "на этапе знакомства с данными мы определили, что в датасетах нет пропусков, теперь проверим `rides` и `users` на наличие дубликатов:"
   ]
  },
  {
   "cell_type": "code",
   "execution_count": 11,
   "id": "4a11005e",
   "metadata": {},
   "outputs": [
    {
     "name": "stdout",
     "output_type": "stream",
     "text": [
      "Количество дубликатов в данных о поездках: 0 \n",
      "Количество дубликатов в данных о пользователях: 31\n"
     ]
    }
   ],
   "source": [
    "print(f\"Количество дубликатов в данных о поездках: {rides.duplicated().sum()} \\n\"\n",
    "      f\"Количество дубликатов в данных о пользователях: {users.duplicated().sum()}\"\n",
    "     )"
   ]
  },
  {
   "cell_type": "markdown",
   "id": "79e63c72",
   "metadata": {},
   "source": [
    "31 пользователя случайно вписали дважды. уберём полностью дублирующиеся строки из датасета: поставленные перед нами задачи исключают возможность задвоения данных о пользователях."
   ]
  },
  {
   "cell_type": "code",
   "execution_count": 12,
   "id": "bba1056c",
   "metadata": {},
   "outputs": [
    {
     "data": {
      "text/plain": [
       "0"
      ]
     },
     "execution_count": 12,
     "metadata": {},
     "output_type": "execute_result"
    }
   ],
   "source": [
    "users = users.drop_duplicates().reset_index(drop=True)\n",
    "users.duplicated().sum()"
   ]
  },
  {
   "cell_type": "markdown",
   "id": "223b3141",
   "metadata": {},
   "source": [
    "#### Промежуточный итог\n",
    "на этапе предобработки данных мы создали новый столбец `month`, округлили данные в столбцах `distance` и `duration`, а также выявили и устранили 11 дублирующихся записей о пользоватлях. датасеты готовы к исследовательскому анализу.\n",
    "## 3. Исследовательский анализ данных\n",
    "\n",
    "перед тем как приступить к анализу данных, напишем функции, которыми в дальнейшем будем пользоваться при построении графиков."
   ]
  },
  {
   "cell_type": "code",
   "execution_count": 13,
   "id": "5af6fb0f",
   "metadata": {},
   "outputs": [],
   "source": [
    "# функция для построения ящика с усами\n",
    "def data_boxplot (df, column, title):    \n",
    "    plt.title(title)\n",
    "    df.boxplot(column=[column])\n",
    "    q1 = df[column].quantile(0.25).round(1)\n",
    "    q3 = df[column].quantile(0.75).round(1)\n",
    "    IQR = q3 - q1\n",
    "    plt.show()\n",
    "    print(f\"медиана: {df[column].median()} \\n\"\n",
    "          f\"среднее: {df[column].mean().round(1)} \\n\"\n",
    "          f\"min: {df[column].min()} \\n\"\n",
    "          f\"max: {df[column].max()} \\n\"\n",
    "          f\"верхний порог выбросов: {(q3 + 1.5 * IQR).round(2)} \\n\"\n",
    "          f\"нижний порог выбросов: {(q1 - 1.5 * IQR).round(2)} \\n\"\n",
    "          f\"Q1: {q1} \\n\"\n",
    "          f\"Q3: {q3}\"\n",
    "         )\n",
    "\n",
    "# функция для построения гистограммы\n",
    "def data_hist (df, column, title, xlabel, ylabel, bins, range_ox):    \n",
    "    plt.title(title)\n",
    "    plt.xlabel(xlabel)\n",
    "    plt.ylabel(ylabel)\n",
    "    df[column].hist(bins = bins, range = range_ox)\n",
    "    plt.show()\n",
    "    q1 = df[column].quantile(0.25).round(1)\n",
    "    q3 = df[column].quantile(0.75).round(1)\n",
    "    IQR = q3 - q1\n",
    "    print(f\"медиана: {df[column].median()} \\n\"\n",
    "          f\"среднее: {df[column].mean().round(1)} \\n\"\n",
    "          f\"min: {df[column].min()} \\n\"\n",
    "          f\"max: {df[column].max()} \\n\"\n",
    "          f\"порог выбросов: {(q3 + 1.5 * IQR).round(2)} \\n\"\n",
    "          f\"нижний порог выбросов: {(q1 - 1.5 * IQR).round(2)}\"\n",
    "         )"
   ]
  },
  {
   "cell_type": "markdown",
   "id": "1945063f",
   "metadata": {},
   "source": [
    "для понимания особенностей работы сервиса изучим денные в разрезе основных ключевых показателей: город, наличие подписки, возраст, расстояния и продолжительность поездки.\n",
    "### 3.1. CITY\n",
    "посмотрим, пользователи из каких городов пользуются нашим сервисом и каково их распределение межу городами."
   ]
  },
  {
   "cell_type": "code",
   "execution_count": 40,
   "id": "e3a4274c",
   "metadata": {},
   "outputs": [
    {
     "data": {
      "image/png": "[encoded data removed]",
      "text/plain": [
       "<Figure size 1170x827 with 1 Axes>"
      ]
     },
     "metadata": {},
     "output_type": "display_data"
    },
    {
     "data": {
      "text/html": [
       "<div>\n",
       "<style scoped>\n",
       "    .dataframe tbody tr th:only-of-type {\n",
       "        vertical-align: middle;\n",
       "    }\n",
       "\n",
       "    .dataframe tbody tr th {\n",
       "        vertical-align: top;\n",
       "    }\n",
       "\n",
       "    .dataframe thead th {\n",
       "        text-align: right;\n",
       "    }\n",
       "</style>\n",
       "<table border=\"1\" class=\"dataframe\">\n",
       "  <thead>\n",
       "    <tr style=\"text-align: right;\">\n",
       "      <th></th>\n",
       "      <th>user_id</th>\n",
       "    </tr>\n",
       "    <tr>\n",
       "      <th>city</th>\n",
       "      <th></th>\n",
       "    </tr>\n",
       "  </thead>\n",
       "  <tbody>\n",
       "    <tr>\n",
       "      <th>Пятигорск</th>\n",
       "      <td>219</td>\n",
       "    </tr>\n",
       "    <tr>\n",
       "      <th>Екатеринбург</th>\n",
       "      <td>204</td>\n",
       "    </tr>\n",
       "    <tr>\n",
       "      <th>Ростов-на-Дону</th>\n",
       "      <td>198</td>\n",
       "    </tr>\n",
       "    <tr>\n",
       "      <th>Краснодар</th>\n",
       "      <td>193</td>\n",
       "    </tr>\n",
       "    <tr>\n",
       "      <th>Сочи</th>\n",
       "      <td>189</td>\n",
       "    </tr>\n",
       "    <tr>\n",
       "      <th>Омск</th>\n",
       "      <td>183</td>\n",
       "    </tr>\n",
       "    <tr>\n",
       "      <th>Тюмень</th>\n",
       "      <td>180</td>\n",
       "    </tr>\n",
       "    <tr>\n",
       "      <th>Москва</th>\n",
       "      <td>168</td>\n",
       "    </tr>\n",
       "  </tbody>\n",
       "</table>\n",
       "</div>"
      ],
      "text/plain": [
       "                user_id\n",
       "city                   \n",
       "Пятигорск           219\n",
       "Екатеринбург        204\n",
       "Ростов-на-Дону      198\n",
       "Краснодар           193\n",
       "Сочи                189\n",
       "Омск                183\n",
       "Тюмень              180\n",
       "Москва              168"
      ]
     },
     "execution_count": 40,
     "metadata": {},
     "output_type": "execute_result"
    }
   ],
   "source": [
    "sns.barplot(data=users, x='city', y='user_id', hue='city')\n",
    "sns.set(font_scale=1.1)\n",
    "plt.show()\n",
    "\n",
    "users.pivot_table(index='city', \n",
    "                  values='user_id', \n",
    "                  aggfunc='count').sort_values('user_id', ascending=False)"
   ]
  },
  {
   "cell_type": "markdown",
   "id": "5d589c60",
   "metadata": {},
   "source": [
    "наиболее востребованным сервис является в городах с более долгим тёплым сезоном. и, на удивление, в Екатеринбурге. можно предположить, что в данном городе сложились наиболее благоприятные условия для развития сервиса. однако в задачу данного исследование не входит исследование лояльности пользователей в зависимости отрегиона, пока ограничимся этим предположением.\n",
    "\n",
    "### 3.2. SUBSCRIPTION TYPE\n",
    "\n",
    "составим сводную таблицу и график, для того чтобы оценить соотношение пользователей без подписки к пользователям с подпиской."
   ]
  },
  {
   "cell_type": "code",
   "execution_count": 15,
   "id": "a9e86088",
   "metadata": {},
   "outputs": [
    {
     "data": {
      "image/png": "[encoded data removed]",
      "text/plain": [
       "<Figure size 1170x827 with 1 Axes>"
      ]
     },
     "metadata": {},
     "output_type": "display_data"
    },
    {
     "data": {
      "text/html": [
       "<div>\n",
       "<style scoped>\n",
       "    .dataframe tbody tr th:only-of-type {\n",
       "        vertical-align: middle;\n",
       "    }\n",
       "\n",
       "    .dataframe tbody tr th {\n",
       "        vertical-align: top;\n",
       "    }\n",
       "\n",
       "    .dataframe thead th {\n",
       "        text-align: right;\n",
       "    }\n",
       "</style>\n",
       "<table border=\"1\" class=\"dataframe\">\n",
       "  <thead>\n",
       "    <tr style=\"text-align: right;\">\n",
       "      <th></th>\n",
       "      <th>quantity</th>\n",
       "      <th>%_of_total</th>\n",
       "    </tr>\n",
       "    <tr>\n",
       "      <th>subscription_type</th>\n",
       "      <th></th>\n",
       "      <th></th>\n",
       "    </tr>\n",
       "  </thead>\n",
       "  <tbody>\n",
       "    <tr>\n",
       "      <th>free</th>\n",
       "      <td>835</td>\n",
       "      <td>54.4</td>\n",
       "    </tr>\n",
       "    <tr>\n",
       "      <th>ultra</th>\n",
       "      <td>699</td>\n",
       "      <td>45.6</td>\n",
       "    </tr>\n",
       "  </tbody>\n",
       "</table>\n",
       "</div>"
      ],
      "text/plain": [
       "                   quantity  %_of_total\n",
       "subscription_type                      \n",
       "free                    835        54.4\n",
       "ultra                   699        45.6"
      ]
     },
     "execution_count": 15,
     "metadata": {},
     "output_type": "execute_result"
    }
   ],
   "source": [
    "subcribtion_pivot = (users.pivot_table(index='subscription_type', \n",
    "                  values='user_id', \n",
    "                  aggfunc='count').sort_values('user_id', ascending=False)\n",
    "                     )\n",
    "\n",
    "subcribtion_pivot.rename(columns = {'user_id': 'quantity'}, inplace=True)\n",
    "subcribtion_pivot['%_of_total'] = (subcribtion_pivot['quantity'] / len(users) * 100).round(1)\n",
    "\n",
    "subcribtion_pivot.plot(y='quantity', kind='pie')\n",
    "plt.title('соотношение количества пользователей free и ultra')\n",
    "plt.show()\n",
    "\n",
    "subcribtion_pivot"
   ]
  },
  {
   "cell_type": "markdown",
   "id": "9a2d9244",
   "metadata": {},
   "source": [
    "пользователей с подпиской меньше, чем доля тех, кто катается просто так, что не критично с учётом того, что размер обеих подвыборок достаточен для проведения статистического анализа."
   ]
  },
  {
   "cell_type": "markdown",
   "id": "9c1ed760",
   "metadata": {},
   "source": [
    "### 3.3. AGE\n",
    "\n",
    "визуализируем распределение пользователей по возрасту с помощью гистограммы, обратившись к ранее написанной функции data_hist:"
   ]
  },
  {
   "cell_type": "code",
   "execution_count": 16,
   "id": "3ab454de",
   "metadata": {},
   "outputs": [
    {
     "data": {
      "image/png": "[encoded data removed]",
      "text/plain": [
       "<Figure size 1170x827 with 1 Axes>"
      ]
     },
     "metadata": {},
     "output_type": "display_data"
    },
    {
     "name": "stdout",
     "output_type": "stream",
     "text": [
      "медиана: 25.0 \n",
      "среднее: 24.9 \n",
      "min: 12 \n",
      "max: 43 \n",
      "порог выбросов: 37.0 \n",
      "нижний порог выбросов: 13.0\n"
     ]
    }
   ],
   "source": [
    "data_hist(users, 'age', 'возраст пользователей', \n",
    "          'возраст', 'количество человек', \n",
    "          30, (users['age'].min(), users['age'].max())\n",
    "         )"
   ]
  },
  {
   "cell_type": "markdown",
   "id": "ea5f5404",
   "metadata": {},
   "source": [
    "медиана почти совпадает со средим &mdash; нормальное распределение пользователей по возрасту. основная доля катающихся приходится на возраст 22-28 лет.\n",
    "\n",
    "### 3.4. DISTANCE\n",
    "с помощью ранее написанной функции data_boxplot визуализируем распределение дистанций отдельно взятых заездов:"
   ]
  },
  {
   "cell_type": "code",
   "execution_count": 17,
   "id": "63c9e7e7",
   "metadata": {},
   "outputs": [
    {
     "data": {
      "image/png": "[encoded data removed]",
      "text/plain": [
       "<Figure size 1170x827 with 1 Axes>"
      ]
     },
     "metadata": {},
     "output_type": "display_data"
    },
    {
     "name": "stdout",
     "output_type": "stream",
     "text": [
      "медиана: 3133.61 \n",
      "среднее: 3070.7 \n",
      "min: 0.86 \n",
      "max: 7211.01 \n",
      "верхний порог выбросов: 5625.7 \n",
      "нижний порог выбросов: 693.7 \n",
      "Q1: 2543.2 \n",
      "Q3: 3776.2\n"
     ]
    }
   ],
   "source": [
    "data_boxplot(rides, 'distance', 'дистанции')"
   ]
  },
  {
   "cell_type": "markdown",
   "id": "092e3ee7",
   "metadata": {},
   "source": [
    "на графике видна плотная полоса выбросов: есть слишком короткие поездки, в которых что-то пошло не так (возможно, поломка самоката, либо по каким-то причинам пользователь решил отменить поездку), а также поездки на дистанции более 5.6 километров. разрыв между медианой и средним уже сильнее.\n",
    "\n",
    "в рамках данного исследования мы не будем отсекать экстремальные значения. однако проверим, не связаны ли такие выбросы с месяцем поездки. возможно, летом люди предпочитают более долгие поездки, нежели осенью или зимой."
   ]
  },
  {
   "cell_type": "code",
   "execution_count": 18,
   "id": "43d90369",
   "metadata": {},
   "outputs": [
    {
     "name": "stdout",
     "output_type": "stream",
     "text": [
      "Количество экстремально дальних заездов: 126 \n",
      "Доля от общего числа поездок: 0.6973655080805844 \n",
      "Медианное расстояние по месяцам:\n"
     ]
    },
    {
     "data": {
      "text/html": [
       "<div>\n",
       "<style scoped>\n",
       "    .dataframe tbody tr th:only-of-type {\n",
       "        vertical-align: middle;\n",
       "    }\n",
       "\n",
       "    .dataframe tbody tr th {\n",
       "        vertical-align: top;\n",
       "    }\n",
       "\n",
       "    .dataframe thead tr th {\n",
       "        text-align: left;\n",
       "    }\n",
       "\n",
       "    .dataframe thead tr:last-of-type th {\n",
       "        text-align: right;\n",
       "    }\n",
       "</style>\n",
       "<table border=\"1\" class=\"dataframe\">\n",
       "  <thead>\n",
       "    <tr>\n",
       "      <th></th>\n",
       "      <th>median</th>\n",
       "      <th>count</th>\n",
       "    </tr>\n",
       "    <tr>\n",
       "      <th></th>\n",
       "      <th>distance</th>\n",
       "      <th>distance</th>\n",
       "    </tr>\n",
       "    <tr>\n",
       "      <th>month</th>\n",
       "      <th></th>\n",
       "      <th></th>\n",
       "    </tr>\n",
       "  </thead>\n",
       "  <tbody>\n",
       "    <tr>\n",
       "      <th>1</th>\n",
       "      <td>5801.695</td>\n",
       "      <td>14</td>\n",
       "    </tr>\n",
       "    <tr>\n",
       "      <th>2</th>\n",
       "      <td>6112.270</td>\n",
       "      <td>10</td>\n",
       "    </tr>\n",
       "    <tr>\n",
       "      <th>3</th>\n",
       "      <td>5868.240</td>\n",
       "      <td>8</td>\n",
       "    </tr>\n",
       "    <tr>\n",
       "      <th>4</th>\n",
       "      <td>5830.545</td>\n",
       "      <td>10</td>\n",
       "    </tr>\n",
       "    <tr>\n",
       "      <th>5</th>\n",
       "      <td>5916.955</td>\n",
       "      <td>10</td>\n",
       "    </tr>\n",
       "    <tr>\n",
       "      <th>6</th>\n",
       "      <td>5758.300</td>\n",
       "      <td>8</td>\n",
       "    </tr>\n",
       "    <tr>\n",
       "      <th>7</th>\n",
       "      <td>6115.130</td>\n",
       "      <td>10</td>\n",
       "    </tr>\n",
       "    <tr>\n",
       "      <th>8</th>\n",
       "      <td>5800.730</td>\n",
       "      <td>7</td>\n",
       "    </tr>\n",
       "    <tr>\n",
       "      <th>9</th>\n",
       "      <td>5959.045</td>\n",
       "      <td>16</td>\n",
       "    </tr>\n",
       "    <tr>\n",
       "      <th>10</th>\n",
       "      <td>5825.690</td>\n",
       "      <td>5</td>\n",
       "    </tr>\n",
       "    <tr>\n",
       "      <th>11</th>\n",
       "      <td>6012.590</td>\n",
       "      <td>9</td>\n",
       "    </tr>\n",
       "    <tr>\n",
       "      <th>12</th>\n",
       "      <td>5821.110</td>\n",
       "      <td>19</td>\n",
       "    </tr>\n",
       "  </tbody>\n",
       "</table>\n",
       "</div>"
      ],
      "text/plain": [
       "         median    count\n",
       "       distance distance\n",
       "month                   \n",
       "1      5801.695       14\n",
       "2      6112.270       10\n",
       "3      5868.240        8\n",
       "4      5830.545       10\n",
       "5      5916.955       10\n",
       "6      5758.300        8\n",
       "7      6115.130       10\n",
       "8      5800.730        7\n",
       "9      5959.045       16\n",
       "10     5825.690        5\n",
       "11     6012.590        9\n",
       "12     5821.110       19"
      ]
     },
     "execution_count": 18,
     "metadata": {},
     "output_type": "execute_result"
    }
   ],
   "source": [
    "print(f\"Количество экстремально дальних заездов: {len(rides.query('distance > 5625.7'))} \\n\"\n",
    "      f\"Доля от общего числа поездок: {len(rides.query('distance > 5625.7')) / rides.shape[0] * 100} \\n\" \n",
    "      f\"Медианное расстояние по месяцам:\"\n",
    "     )\n",
    "rides.query('distance > 5625.7').pivot_table(index='month', \n",
    "                                             values='distance', \n",
    "                                             aggfunc=['median', 'count'])"
   ]
  },
  {
   "cell_type": "markdown",
   "id": "d5992e4f",
   "metadata": {},
   "source": [
    "дальние заезды случаются не так часто и составляют менее 1% всех поездок, при этом дальность заеда совершенно не зависит от времени года: даже в южных регионах, где кататься на самокате зимой некомфортно, есть отчаянные пользователи.   теперь обратимся к суперкоротким поездкам:"
   ]
  },
  {
   "cell_type": "code",
   "execution_count": 19,
   "id": "2d7a609b",
   "metadata": {},
   "outputs": [
    {
     "name": "stdout",
     "output_type": "stream",
     "text": [
      "Количество экстремально коротких заездов: 910 \n",
      "Доля от общего числа поездок: 5.036528669470887 \n",
      "Медианное расстояние по месяцам:\n"
     ]
    },
    {
     "data": {
      "text/html": [
       "<div>\n",
       "<style scoped>\n",
       "    .dataframe tbody tr th:only-of-type {\n",
       "        vertical-align: middle;\n",
       "    }\n",
       "\n",
       "    .dataframe tbody tr th {\n",
       "        vertical-align: top;\n",
       "    }\n",
       "\n",
       "    .dataframe thead tr th {\n",
       "        text-align: left;\n",
       "    }\n",
       "\n",
       "    .dataframe thead tr:last-of-type th {\n",
       "        text-align: right;\n",
       "    }\n",
       "</style>\n",
       "<table border=\"1\" class=\"dataframe\">\n",
       "  <thead>\n",
       "    <tr>\n",
       "      <th></th>\n",
       "      <th>median</th>\n",
       "      <th>count</th>\n",
       "    </tr>\n",
       "    <tr>\n",
       "      <th></th>\n",
       "      <th>distance</th>\n",
       "      <th>distance</th>\n",
       "    </tr>\n",
       "    <tr>\n",
       "      <th>month</th>\n",
       "      <th></th>\n",
       "      <th></th>\n",
       "    </tr>\n",
       "  </thead>\n",
       "  <tbody>\n",
       "    <tr>\n",
       "      <th>1</th>\n",
       "      <td>402.270</td>\n",
       "      <td>68</td>\n",
       "    </tr>\n",
       "    <tr>\n",
       "      <th>2</th>\n",
       "      <td>420.425</td>\n",
       "      <td>78</td>\n",
       "    </tr>\n",
       "    <tr>\n",
       "      <th>3</th>\n",
       "      <td>416.750</td>\n",
       "      <td>89</td>\n",
       "    </tr>\n",
       "    <tr>\n",
       "      <th>4</th>\n",
       "      <td>488.410</td>\n",
       "      <td>75</td>\n",
       "    </tr>\n",
       "    <tr>\n",
       "      <th>5</th>\n",
       "      <td>387.580</td>\n",
       "      <td>66</td>\n",
       "    </tr>\n",
       "    <tr>\n",
       "      <th>6</th>\n",
       "      <td>474.400</td>\n",
       "      <td>63</td>\n",
       "    </tr>\n",
       "    <tr>\n",
       "      <th>7</th>\n",
       "      <td>402.040</td>\n",
       "      <td>67</td>\n",
       "    </tr>\n",
       "    <tr>\n",
       "      <th>8</th>\n",
       "      <td>384.580</td>\n",
       "      <td>90</td>\n",
       "    </tr>\n",
       "    <tr>\n",
       "      <th>9</th>\n",
       "      <td>303.090</td>\n",
       "      <td>71</td>\n",
       "    </tr>\n",
       "    <tr>\n",
       "      <th>10</th>\n",
       "      <td>441.835</td>\n",
       "      <td>76</td>\n",
       "    </tr>\n",
       "    <tr>\n",
       "      <th>11</th>\n",
       "      <td>413.185</td>\n",
       "      <td>78</td>\n",
       "    </tr>\n",
       "    <tr>\n",
       "      <th>12</th>\n",
       "      <td>423.370</td>\n",
       "      <td>89</td>\n",
       "    </tr>\n",
       "  </tbody>\n",
       "</table>\n",
       "</div>"
      ],
      "text/plain": [
       "        median    count\n",
       "      distance distance\n",
       "month                  \n",
       "1      402.270       68\n",
       "2      420.425       78\n",
       "3      416.750       89\n",
       "4      488.410       75\n",
       "5      387.580       66\n",
       "6      474.400       63\n",
       "7      402.040       67\n",
       "8      384.580       90\n",
       "9      303.090       71\n",
       "10     441.835       76\n",
       "11     413.185       78\n",
       "12     423.370       89"
      ]
     },
     "execution_count": 19,
     "metadata": {},
     "output_type": "execute_result"
    }
   ],
   "source": [
    "print(f\"Количество экстремально коротких заездов: {len(rides.query('distance < 693.7'))} \\n\"\n",
    "      f\"Доля от общего числа поездок: {len(rides.query('distance < 693.7')) / rides.shape[0] * 100} \\n\" \n",
    "      f\"Медианное расстояние по месяцам:\"\n",
    "     )\n",
    "rides.query('distance < 693.7').pivot_table(index='month', \n",
    "                                             values='distance', \n",
    "                                             aggfunc=['median', 'count'])"
   ]
  },
  {
   "cell_type": "markdown",
   "id": "d18a5339",
   "metadata": {},
   "source": [
    "сверхкоротких поездок значительно больше (уже 5% от общего числа поездок),  как и в случае с дальними дистанциями, тут ожидаемо не прослеживается зависимость от времени года. вероятно, короткие поездки связаны с техническими неполадками, которые мы не рассматриваем в нашем датасете.\n",
    "\n",
    "### 3.5. DURATION\n",
    "естественно предположить: раз есть выбросы в дистанции заездов, должны быть выбросы и в продолжительности. визуализируем распределение данных:"
   ]
  },
  {
   "cell_type": "code",
   "execution_count": 20,
   "id": "adc02b9e",
   "metadata": {},
   "outputs": [
    {
     "data": {
      "image/png": "[encoded data removed]",
      "text/plain": [
       "<Figure size 1170x827 with 1 Axes>"
      ]
     },
     "metadata": {},
     "output_type": "display_data"
    },
    {
     "name": "stdout",
     "output_type": "stream",
     "text": [
      "медиана: 18.0 \n",
      "среднее: 18.3 \n",
      "min: 1 \n",
      "max: 41 \n",
      "верхний порог выбросов: 34.0 \n",
      "нижний порог выбросов: 2.0 \n",
      "Q1: 14.0 \n",
      "Q3: 22.0\n"
     ]
    }
   ],
   "source": [
    "data_boxplot(rides, 'duration', 'продолжительность поездки в минутах')"
   ]
  },
  {
   "cell_type": "code",
   "execution_count": 21,
   "id": "1c637574",
   "metadata": {},
   "outputs": [
    {
     "name": "stdout",
     "output_type": "stream",
     "text": [
      "Количество экстремально долгих заездов: 75 \n",
      "Доля от общего числа поездок: 0.4150985167146336 \n",
      " \n",
      "Количество экстремально быстрых заездов: 95 \n",
      "Доля от общего числа поездок: 0.5257914545052026 \n",
      "\n"
     ]
    }
   ],
   "source": [
    "print(f\"Количество экстремально долгих заездов: {len(rides.query('duration > 34'))} \\n\"\n",
    "      f\"Доля от общего числа поездок: {len(rides.query('duration > 34')) / rides.shape[0] * 100} \\n \\n\"\n",
    "      f\"Количество экстремально быстрых заездов: {len(rides.query('duration < 2'))} \\n\"\n",
    "      f\"Доля от общего числа поездок: {len(rides.query('duration < 2')) / rides.shape[0] * 100} \\n\"\n",
    "     )      "
   ]
  },
  {
   "cell_type": "markdown",
   "id": "9fff19db",
   "metadata": {},
   "source": [
    "на **126** экстремально дальних заездов приходится всего **75** экстремально долгих заездов. очевидно, среди наших пользователей есть любители стремительной езды на большие расстояния. надеюсь, они не забывают надевать шлем и соблюдают ПДД (:\n",
    "\n",
    "ещё существеннее разница между короткими дистанциями и непродолжительными поездками: **910** против **95** соответственно. вероятно, не все пользователи, передумавшие ехать, смогли оперативно прервать поездку в приложении. в дальнейшем посмотрим, как много из них согласились пользоваться сервисом во второй раз и есть ли среди них те, кто решил оформить подписку.\n",
    "\n",
    "#### Промежуточный итог\n",
    "проведя исследовательский анализ данных, мы установили, что:\n",
    "1. больше клиентов сервис имеет в регионах с более долгим тёплым периодом, а так же - в Екатеринбурге, где, вероятно, сложились благоприятные условия для развития сервиса.\n",
    "2. пользователей, оформивших подписку, на 16% меньге, чем пользователей без подписки\n",
    "3. средний (он же медианный) возраст нашего клиента &mdash; 25 лет. при этом больша часть наших пользователей &mdash; люди 22-28 лет\n",
    "4. медианное значение дистанции поездки - 3.1 км, при этом наблюдаются суперкороткие поездки (менее полукилометра), а такде экстремальо длинные заезды: более 5.6 км.\n",
    "5. в среднем длительность поездки составляет 18 минут, при этом основная доля длительности поездок приходится на 14-22 минуты.\n",
    "\n",
    "## 4. Объединение данных и сравнение показателей\n",
    "### 4.1. Создание датасетов, необходимых для статистического анализа данных\n",
    "\n",
    "подготовим три датасета:\n",
    "* `all_users` &mdash; здесь будет особрана полная инофрмация обо всех пользователях: поездки, тарифы и т.д.\n",
    "* `ultra_users` &mdash; для пользователей, оформивших подписку\n",
    "* `free_usrers` &mdash; для пользователей без подписки"
   ]
  },
  {
   "cell_type": "code",
   "execution_count": 22,
   "id": "6bf288b5",
   "metadata": {},
   "outputs": [
    {
     "data": {
      "text/html": [
       "<div>\n",
       "<style scoped>\n",
       "    .dataframe tbody tr th:only-of-type {\n",
       "        vertical-align: middle;\n",
       "    }\n",
       "\n",
       "    .dataframe tbody tr th {\n",
       "        vertical-align: top;\n",
       "    }\n",
       "\n",
       "    .dataframe thead th {\n",
       "        text-align: right;\n",
       "    }\n",
       "</style>\n",
       "<table border=\"1\" class=\"dataframe\">\n",
       "  <thead>\n",
       "    <tr style=\"text-align: right;\">\n",
       "      <th></th>\n",
       "      <th>user_id</th>\n",
       "      <th>distance</th>\n",
       "      <th>duration</th>\n",
       "      <th>date</th>\n",
       "      <th>month</th>\n",
       "      <th>name</th>\n",
       "      <th>age</th>\n",
       "      <th>city</th>\n",
       "      <th>subscription_type</th>\n",
       "      <th>minute_price</th>\n",
       "      <th>start_ride_price</th>\n",
       "      <th>subscription_fee</th>\n",
       "    </tr>\n",
       "  </thead>\n",
       "  <tbody>\n",
       "    <tr>\n",
       "      <th>0</th>\n",
       "      <td>1</td>\n",
       "      <td>4409.92</td>\n",
       "      <td>26</td>\n",
       "      <td>2021-01-01</td>\n",
       "      <td>1</td>\n",
       "      <td>Кира</td>\n",
       "      <td>22</td>\n",
       "      <td>Тюмень</td>\n",
       "      <td>ultra</td>\n",
       "      <td>6</td>\n",
       "      <td>0</td>\n",
       "      <td>199</td>\n",
       "    </tr>\n",
       "    <tr>\n",
       "      <th>1</th>\n",
       "      <td>1</td>\n",
       "      <td>2617.59</td>\n",
       "      <td>16</td>\n",
       "      <td>2021-01-18</td>\n",
       "      <td>1</td>\n",
       "      <td>Кира</td>\n",
       "      <td>22</td>\n",
       "      <td>Тюмень</td>\n",
       "      <td>ultra</td>\n",
       "      <td>6</td>\n",
       "      <td>0</td>\n",
       "      <td>199</td>\n",
       "    </tr>\n",
       "    <tr>\n",
       "      <th>2</th>\n",
       "      <td>1</td>\n",
       "      <td>754.16</td>\n",
       "      <td>7</td>\n",
       "      <td>2021-04-20</td>\n",
       "      <td>4</td>\n",
       "      <td>Кира</td>\n",
       "      <td>22</td>\n",
       "      <td>Тюмень</td>\n",
       "      <td>ultra</td>\n",
       "      <td>6</td>\n",
       "      <td>0</td>\n",
       "      <td>199</td>\n",
       "    </tr>\n",
       "    <tr>\n",
       "      <th>3</th>\n",
       "      <td>1</td>\n",
       "      <td>2694.78</td>\n",
       "      <td>19</td>\n",
       "      <td>2021-08-11</td>\n",
       "      <td>8</td>\n",
       "      <td>Кира</td>\n",
       "      <td>22</td>\n",
       "      <td>Тюмень</td>\n",
       "      <td>ultra</td>\n",
       "      <td>6</td>\n",
       "      <td>0</td>\n",
       "      <td>199</td>\n",
       "    </tr>\n",
       "    <tr>\n",
       "      <th>4</th>\n",
       "      <td>1</td>\n",
       "      <td>4028.69</td>\n",
       "      <td>27</td>\n",
       "      <td>2021-08-28</td>\n",
       "      <td>8</td>\n",
       "      <td>Кира</td>\n",
       "      <td>22</td>\n",
       "      <td>Тюмень</td>\n",
       "      <td>ultra</td>\n",
       "      <td>6</td>\n",
       "      <td>0</td>\n",
       "      <td>199</td>\n",
       "    </tr>\n",
       "    <tr>\n",
       "      <th>...</th>\n",
       "      <td>...</td>\n",
       "      <td>...</td>\n",
       "      <td>...</td>\n",
       "      <td>...</td>\n",
       "      <td>...</td>\n",
       "      <td>...</td>\n",
       "      <td>...</td>\n",
       "      <td>...</td>\n",
       "      <td>...</td>\n",
       "      <td>...</td>\n",
       "      <td>...</td>\n",
       "      <td>...</td>\n",
       "    </tr>\n",
       "    <tr>\n",
       "      <th>18063</th>\n",
       "      <td>1534</td>\n",
       "      <td>3781.10</td>\n",
       "      <td>20</td>\n",
       "      <td>2021-11-04</td>\n",
       "      <td>11</td>\n",
       "      <td>Альберт</td>\n",
       "      <td>25</td>\n",
       "      <td>Краснодар</td>\n",
       "      <td>free</td>\n",
       "      <td>8</td>\n",
       "      <td>50</td>\n",
       "      <td>0</td>\n",
       "    </tr>\n",
       "    <tr>\n",
       "      <th>18064</th>\n",
       "      <td>1534</td>\n",
       "      <td>2840.42</td>\n",
       "      <td>22</td>\n",
       "      <td>2021-11-16</td>\n",
       "      <td>11</td>\n",
       "      <td>Альберт</td>\n",
       "      <td>25</td>\n",
       "      <td>Краснодар</td>\n",
       "      <td>free</td>\n",
       "      <td>8</td>\n",
       "      <td>50</td>\n",
       "      <td>0</td>\n",
       "    </tr>\n",
       "    <tr>\n",
       "      <th>18065</th>\n",
       "      <td>1534</td>\n",
       "      <td>3826.19</td>\n",
       "      <td>19</td>\n",
       "      <td>2021-11-18</td>\n",
       "      <td>11</td>\n",
       "      <td>Альберт</td>\n",
       "      <td>25</td>\n",
       "      <td>Краснодар</td>\n",
       "      <td>free</td>\n",
       "      <td>8</td>\n",
       "      <td>50</td>\n",
       "      <td>0</td>\n",
       "    </tr>\n",
       "    <tr>\n",
       "      <th>18066</th>\n",
       "      <td>1534</td>\n",
       "      <td>2902.31</td>\n",
       "      <td>17</td>\n",
       "      <td>2021-11-27</td>\n",
       "      <td>11</td>\n",
       "      <td>Альберт</td>\n",
       "      <td>25</td>\n",
       "      <td>Краснодар</td>\n",
       "      <td>free</td>\n",
       "      <td>8</td>\n",
       "      <td>50</td>\n",
       "      <td>0</td>\n",
       "    </tr>\n",
       "    <tr>\n",
       "      <th>18067</th>\n",
       "      <td>1534</td>\n",
       "      <td>2371.71</td>\n",
       "      <td>16</td>\n",
       "      <td>2021-12-29</td>\n",
       "      <td>12</td>\n",
       "      <td>Альберт</td>\n",
       "      <td>25</td>\n",
       "      <td>Краснодар</td>\n",
       "      <td>free</td>\n",
       "      <td>8</td>\n",
       "      <td>50</td>\n",
       "      <td>0</td>\n",
       "    </tr>\n",
       "  </tbody>\n",
       "</table>\n",
       "<p>18068 rows × 12 columns</p>\n",
       "</div>"
      ],
      "text/plain": [
       "       user_id  distance  duration       date  month     name  age       city  \\\n",
       "0            1   4409.92        26 2021-01-01      1     Кира   22     Тюмень   \n",
       "1            1   2617.59        16 2021-01-18      1     Кира   22     Тюмень   \n",
       "2            1    754.16         7 2021-04-20      4     Кира   22     Тюмень   \n",
       "3            1   2694.78        19 2021-08-11      8     Кира   22     Тюмень   \n",
       "4            1   4028.69        27 2021-08-28      8     Кира   22     Тюмень   \n",
       "...        ...       ...       ...        ...    ...      ...  ...        ...   \n",
       "18063     1534   3781.10        20 2021-11-04     11  Альберт   25  Краснодар   \n",
       "18064     1534   2840.42        22 2021-11-16     11  Альберт   25  Краснодар   \n",
       "18065     1534   3826.19        19 2021-11-18     11  Альберт   25  Краснодар   \n",
       "18066     1534   2902.31        17 2021-11-27     11  Альберт   25  Краснодар   \n",
       "18067     1534   2371.71        16 2021-12-29     12  Альберт   25  Краснодар   \n",
       "\n",
       "      subscription_type  minute_price  start_ride_price  subscription_fee  \n",
       "0                 ultra             6                 0               199  \n",
       "1                 ultra             6                 0               199  \n",
       "2                 ultra             6                 0               199  \n",
       "3                 ultra             6                 0               199  \n",
       "4                 ultra             6                 0               199  \n",
       "...                 ...           ...               ...               ...  \n",
       "18063              free             8                50                 0  \n",
       "18064              free             8                50                 0  \n",
       "18065              free             8                50                 0  \n",
       "18066              free             8                50                 0  \n",
       "18067              free             8                50                 0  \n",
       "\n",
       "[18068 rows x 12 columns]"
      ]
     },
     "execution_count": 22,
     "metadata": {},
     "output_type": "execute_result"
    }
   ],
   "source": [
    "all_users = rides.merge(users, on='user_id', how='outer')\n",
    "all_users = all_users.merge(subscriptions, on='subscription_type', how='outer')\n",
    "all_users"
   ]
  },
  {
   "cell_type": "markdown",
   "id": "314687fe",
   "metadata": {},
   "source": [
    "проверим результат объединения таблиц: количество строк в исходной таблице `rides` должно совпадать с количеством строк в получившейся табдице `all_users`. так же проверим, не появились ли в новом датасет пропуски."
   ]
  },
  {
   "cell_type": "code",
   "execution_count": 23,
   "id": "eec5061f",
   "metadata": {},
   "outputs": [
    {
     "name": "stdout",
     "output_type": "stream",
     "text": [
      "Количество строк в исходном датасете rides: 18068 \n",
      "Количество строк в конечном датасете all_users: 18068 \n",
      "Количество пропущенных значений в датасете all users: \n",
      "user_id              0\n",
      "distance             0\n",
      "duration             0\n",
      "date                 0\n",
      "month                0\n",
      "name                 0\n",
      "age                  0\n",
      "city                 0\n",
      "subscription_type    0\n",
      "minute_price         0\n",
      "start_ride_price     0\n",
      "subscription_fee     0\n",
      "dtype: int64\n"
     ]
    }
   ],
   "source": [
    "print(f\"Количество строк в исходном датасете rides: {len(rides)} \\n\"\n",
    "     f\"Количество строк в конечном датасете all_users: {len(all_users)} \\n\"\n",
    "     f\"Количество пропущенных значений в датасете all users: \\n{all_users.isna().sum()}\")"
   ]
  },
  {
   "cell_type": "markdown",
   "id": "15ea1a07",
   "metadata": {},
   "source": [
    "все строки на месте, пропущенные значения не появились &mdash; объединение таблиц прошло успешно."
   ]
  },
  {
   "cell_type": "markdown",
   "id": "d09212c8",
   "metadata": {},
   "source": [
    "отсечём от общего датасета поездки пользователей, оформивших подписку:"
   ]
  },
  {
   "cell_type": "code",
   "execution_count": 24,
   "id": "54cb60d8",
   "metadata": {},
   "outputs": [
    {
     "data": {
      "text/html": [
       "<div>\n",
       "<style scoped>\n",
       "    .dataframe tbody tr th:only-of-type {\n",
       "        vertical-align: middle;\n",
       "    }\n",
       "\n",
       "    .dataframe tbody tr th {\n",
       "        vertical-align: top;\n",
       "    }\n",
       "\n",
       "    .dataframe thead th {\n",
       "        text-align: right;\n",
       "    }\n",
       "</style>\n",
       "<table border=\"1\" class=\"dataframe\">\n",
       "  <thead>\n",
       "    <tr style=\"text-align: right;\">\n",
       "      <th></th>\n",
       "      <th>user_id</th>\n",
       "      <th>distance</th>\n",
       "      <th>duration</th>\n",
       "      <th>date</th>\n",
       "      <th>month</th>\n",
       "      <th>name</th>\n",
       "      <th>age</th>\n",
       "      <th>city</th>\n",
       "      <th>subscription_type</th>\n",
       "      <th>minute_price</th>\n",
       "      <th>start_ride_price</th>\n",
       "      <th>subscription_fee</th>\n",
       "    </tr>\n",
       "  </thead>\n",
       "  <tbody>\n",
       "    <tr>\n",
       "      <th>0</th>\n",
       "      <td>1</td>\n",
       "      <td>4409.92</td>\n",
       "      <td>26</td>\n",
       "      <td>2021-01-01</td>\n",
       "      <td>1</td>\n",
       "      <td>Кира</td>\n",
       "      <td>22</td>\n",
       "      <td>Тюмень</td>\n",
       "      <td>ultra</td>\n",
       "      <td>6</td>\n",
       "      <td>0</td>\n",
       "      <td>199</td>\n",
       "    </tr>\n",
       "    <tr>\n",
       "      <th>1</th>\n",
       "      <td>1</td>\n",
       "      <td>2617.59</td>\n",
       "      <td>16</td>\n",
       "      <td>2021-01-18</td>\n",
       "      <td>1</td>\n",
       "      <td>Кира</td>\n",
       "      <td>22</td>\n",
       "      <td>Тюмень</td>\n",
       "      <td>ultra</td>\n",
       "      <td>6</td>\n",
       "      <td>0</td>\n",
       "      <td>199</td>\n",
       "    </tr>\n",
       "    <tr>\n",
       "      <th>2</th>\n",
       "      <td>1</td>\n",
       "      <td>754.16</td>\n",
       "      <td>7</td>\n",
       "      <td>2021-04-20</td>\n",
       "      <td>4</td>\n",
       "      <td>Кира</td>\n",
       "      <td>22</td>\n",
       "      <td>Тюмень</td>\n",
       "      <td>ultra</td>\n",
       "      <td>6</td>\n",
       "      <td>0</td>\n",
       "      <td>199</td>\n",
       "    </tr>\n",
       "    <tr>\n",
       "      <th>3</th>\n",
       "      <td>1</td>\n",
       "      <td>2694.78</td>\n",
       "      <td>19</td>\n",
       "      <td>2021-08-11</td>\n",
       "      <td>8</td>\n",
       "      <td>Кира</td>\n",
       "      <td>22</td>\n",
       "      <td>Тюмень</td>\n",
       "      <td>ultra</td>\n",
       "      <td>6</td>\n",
       "      <td>0</td>\n",
       "      <td>199</td>\n",
       "    </tr>\n",
       "    <tr>\n",
       "      <th>4</th>\n",
       "      <td>1</td>\n",
       "      <td>4028.69</td>\n",
       "      <td>27</td>\n",
       "      <td>2021-08-28</td>\n",
       "      <td>8</td>\n",
       "      <td>Кира</td>\n",
       "      <td>22</td>\n",
       "      <td>Тюмень</td>\n",
       "      <td>ultra</td>\n",
       "      <td>6</td>\n",
       "      <td>0</td>\n",
       "      <td>199</td>\n",
       "    </tr>\n",
       "    <tr>\n",
       "      <th>...</th>\n",
       "      <td>...</td>\n",
       "      <td>...</td>\n",
       "      <td>...</td>\n",
       "      <td>...</td>\n",
       "      <td>...</td>\n",
       "      <td>...</td>\n",
       "      <td>...</td>\n",
       "      <td>...</td>\n",
       "      <td>...</td>\n",
       "      <td>...</td>\n",
       "      <td>...</td>\n",
       "      <td>...</td>\n",
       "    </tr>\n",
       "    <tr>\n",
       "      <th>6495</th>\n",
       "      <td>699</td>\n",
       "      <td>3973.05</td>\n",
       "      <td>25</td>\n",
       "      <td>2021-08-29</td>\n",
       "      <td>8</td>\n",
       "      <td>Оксана</td>\n",
       "      <td>22</td>\n",
       "      <td>Москва</td>\n",
       "      <td>ultra</td>\n",
       "      <td>6</td>\n",
       "      <td>0</td>\n",
       "      <td>199</td>\n",
       "    </tr>\n",
       "    <tr>\n",
       "      <th>6496</th>\n",
       "      <td>699</td>\n",
       "      <td>3288.70</td>\n",
       "      <td>16</td>\n",
       "      <td>2021-09-12</td>\n",
       "      <td>9</td>\n",
       "      <td>Оксана</td>\n",
       "      <td>22</td>\n",
       "      <td>Москва</td>\n",
       "      <td>ultra</td>\n",
       "      <td>6</td>\n",
       "      <td>0</td>\n",
       "      <td>199</td>\n",
       "    </tr>\n",
       "    <tr>\n",
       "      <th>6497</th>\n",
       "      <td>699</td>\n",
       "      <td>3076.16</td>\n",
       "      <td>15</td>\n",
       "      <td>2021-09-26</td>\n",
       "      <td>9</td>\n",
       "      <td>Оксана</td>\n",
       "      <td>22</td>\n",
       "      <td>Москва</td>\n",
       "      <td>ultra</td>\n",
       "      <td>6</td>\n",
       "      <td>0</td>\n",
       "      <td>199</td>\n",
       "    </tr>\n",
       "    <tr>\n",
       "      <th>6498</th>\n",
       "      <td>699</td>\n",
       "      <td>4707.85</td>\n",
       "      <td>16</td>\n",
       "      <td>2021-10-17</td>\n",
       "      <td>10</td>\n",
       "      <td>Оксана</td>\n",
       "      <td>22</td>\n",
       "      <td>Москва</td>\n",
       "      <td>ultra</td>\n",
       "      <td>6</td>\n",
       "      <td>0</td>\n",
       "      <td>199</td>\n",
       "    </tr>\n",
       "    <tr>\n",
       "      <th>6499</th>\n",
       "      <td>699</td>\n",
       "      <td>3202.89</td>\n",
       "      <td>26</td>\n",
       "      <td>2021-12-03</td>\n",
       "      <td>12</td>\n",
       "      <td>Оксана</td>\n",
       "      <td>22</td>\n",
       "      <td>Москва</td>\n",
       "      <td>ultra</td>\n",
       "      <td>6</td>\n",
       "      <td>0</td>\n",
       "      <td>199</td>\n",
       "    </tr>\n",
       "  </tbody>\n",
       "</table>\n",
       "<p>6500 rows × 12 columns</p>\n",
       "</div>"
      ],
      "text/plain": [
       "      user_id  distance  duration       date  month    name  age    city  \\\n",
       "0           1   4409.92        26 2021-01-01      1    Кира   22  Тюмень   \n",
       "1           1   2617.59        16 2021-01-18      1    Кира   22  Тюмень   \n",
       "2           1    754.16         7 2021-04-20      4    Кира   22  Тюмень   \n",
       "3           1   2694.78        19 2021-08-11      8    Кира   22  Тюмень   \n",
       "4           1   4028.69        27 2021-08-28      8    Кира   22  Тюмень   \n",
       "...       ...       ...       ...        ...    ...     ...  ...     ...   \n",
       "6495      699   3973.05        25 2021-08-29      8  Оксана   22  Москва   \n",
       "6496      699   3288.70        16 2021-09-12      9  Оксана   22  Москва   \n",
       "6497      699   3076.16        15 2021-09-26      9  Оксана   22  Москва   \n",
       "6498      699   4707.85        16 2021-10-17     10  Оксана   22  Москва   \n",
       "6499      699   3202.89        26 2021-12-03     12  Оксана   22  Москва   \n",
       "\n",
       "     subscription_type  minute_price  start_ride_price  subscription_fee  \n",
       "0                ultra             6                 0               199  \n",
       "1                ultra             6                 0               199  \n",
       "2                ultra             6                 0               199  \n",
       "3                ultra             6                 0               199  \n",
       "4                ultra             6                 0               199  \n",
       "...                ...           ...               ...               ...  \n",
       "6495             ultra             6                 0               199  \n",
       "6496             ultra             6                 0               199  \n",
       "6497             ultra             6                 0               199  \n",
       "6498             ultra             6                 0               199  \n",
       "6499             ultra             6                 0               199  \n",
       "\n",
       "[6500 rows x 12 columns]"
      ]
     },
     "execution_count": 24,
     "metadata": {},
     "output_type": "execute_result"
    }
   ],
   "source": [
    "ultra_users = all_users.query(\"subscription_type == 'ultra'\")\n",
    "ultra_users"
   ]
  },
  {
   "cell_type": "markdown",
   "id": "931c2f81",
   "metadata": {},
   "source": [
    "то же самое сделаем для пользователей, катающихся без подписки:"
   ]
  },
  {
   "cell_type": "code",
   "execution_count": 25,
   "id": "3f14225c",
   "metadata": {},
   "outputs": [
    {
     "data": {
      "text/html": [
       "<div>\n",
       "<style scoped>\n",
       "    .dataframe tbody tr th:only-of-type {\n",
       "        vertical-align: middle;\n",
       "    }\n",
       "\n",
       "    .dataframe tbody tr th {\n",
       "        vertical-align: top;\n",
       "    }\n",
       "\n",
       "    .dataframe thead th {\n",
       "        text-align: right;\n",
       "    }\n",
       "</style>\n",
       "<table border=\"1\" class=\"dataframe\">\n",
       "  <thead>\n",
       "    <tr style=\"text-align: right;\">\n",
       "      <th></th>\n",
       "      <th>user_id</th>\n",
       "      <th>distance</th>\n",
       "      <th>duration</th>\n",
       "      <th>date</th>\n",
       "      <th>month</th>\n",
       "      <th>name</th>\n",
       "      <th>age</th>\n",
       "      <th>city</th>\n",
       "      <th>subscription_type</th>\n",
       "      <th>minute_price</th>\n",
       "      <th>start_ride_price</th>\n",
       "      <th>subscription_fee</th>\n",
       "    </tr>\n",
       "  </thead>\n",
       "  <tbody>\n",
       "    <tr>\n",
       "      <th>6500</th>\n",
       "      <td>700</td>\n",
       "      <td>2515.69</td>\n",
       "      <td>15</td>\n",
       "      <td>2021-01-02</td>\n",
       "      <td>1</td>\n",
       "      <td>Айдар</td>\n",
       "      <td>22</td>\n",
       "      <td>Омск</td>\n",
       "      <td>free</td>\n",
       "      <td>8</td>\n",
       "      <td>50</td>\n",
       "      <td>0</td>\n",
       "    </tr>\n",
       "    <tr>\n",
       "      <th>6501</th>\n",
       "      <td>700</td>\n",
       "      <td>846.93</td>\n",
       "      <td>17</td>\n",
       "      <td>2021-02-01</td>\n",
       "      <td>2</td>\n",
       "      <td>Айдар</td>\n",
       "      <td>22</td>\n",
       "      <td>Омск</td>\n",
       "      <td>free</td>\n",
       "      <td>8</td>\n",
       "      <td>50</td>\n",
       "      <td>0</td>\n",
       "    </tr>\n",
       "    <tr>\n",
       "      <th>6502</th>\n",
       "      <td>700</td>\n",
       "      <td>4004.43</td>\n",
       "      <td>21</td>\n",
       "      <td>2021-02-04</td>\n",
       "      <td>2</td>\n",
       "      <td>Айдар</td>\n",
       "      <td>22</td>\n",
       "      <td>Омск</td>\n",
       "      <td>free</td>\n",
       "      <td>8</td>\n",
       "      <td>50</td>\n",
       "      <td>0</td>\n",
       "    </tr>\n",
       "    <tr>\n",
       "      <th>6503</th>\n",
       "      <td>700</td>\n",
       "      <td>1205.91</td>\n",
       "      <td>10</td>\n",
       "      <td>2021-02-10</td>\n",
       "      <td>2</td>\n",
       "      <td>Айдар</td>\n",
       "      <td>22</td>\n",
       "      <td>Омск</td>\n",
       "      <td>free</td>\n",
       "      <td>8</td>\n",
       "      <td>50</td>\n",
       "      <td>0</td>\n",
       "    </tr>\n",
       "    <tr>\n",
       "      <th>6504</th>\n",
       "      <td>700</td>\n",
       "      <td>3047.38</td>\n",
       "      <td>18</td>\n",
       "      <td>2021-02-14</td>\n",
       "      <td>2</td>\n",
       "      <td>Айдар</td>\n",
       "      <td>22</td>\n",
       "      <td>Омск</td>\n",
       "      <td>free</td>\n",
       "      <td>8</td>\n",
       "      <td>50</td>\n",
       "      <td>0</td>\n",
       "    </tr>\n",
       "    <tr>\n",
       "      <th>...</th>\n",
       "      <td>...</td>\n",
       "      <td>...</td>\n",
       "      <td>...</td>\n",
       "      <td>...</td>\n",
       "      <td>...</td>\n",
       "      <td>...</td>\n",
       "      <td>...</td>\n",
       "      <td>...</td>\n",
       "      <td>...</td>\n",
       "      <td>...</td>\n",
       "      <td>...</td>\n",
       "      <td>...</td>\n",
       "    </tr>\n",
       "    <tr>\n",
       "      <th>18063</th>\n",
       "      <td>1534</td>\n",
       "      <td>3781.10</td>\n",
       "      <td>20</td>\n",
       "      <td>2021-11-04</td>\n",
       "      <td>11</td>\n",
       "      <td>Альберт</td>\n",
       "      <td>25</td>\n",
       "      <td>Краснодар</td>\n",
       "      <td>free</td>\n",
       "      <td>8</td>\n",
       "      <td>50</td>\n",
       "      <td>0</td>\n",
       "    </tr>\n",
       "    <tr>\n",
       "      <th>18064</th>\n",
       "      <td>1534</td>\n",
       "      <td>2840.42</td>\n",
       "      <td>22</td>\n",
       "      <td>2021-11-16</td>\n",
       "      <td>11</td>\n",
       "      <td>Альберт</td>\n",
       "      <td>25</td>\n",
       "      <td>Краснодар</td>\n",
       "      <td>free</td>\n",
       "      <td>8</td>\n",
       "      <td>50</td>\n",
       "      <td>0</td>\n",
       "    </tr>\n",
       "    <tr>\n",
       "      <th>18065</th>\n",
       "      <td>1534</td>\n",
       "      <td>3826.19</td>\n",
       "      <td>19</td>\n",
       "      <td>2021-11-18</td>\n",
       "      <td>11</td>\n",
       "      <td>Альберт</td>\n",
       "      <td>25</td>\n",
       "      <td>Краснодар</td>\n",
       "      <td>free</td>\n",
       "      <td>8</td>\n",
       "      <td>50</td>\n",
       "      <td>0</td>\n",
       "    </tr>\n",
       "    <tr>\n",
       "      <th>18066</th>\n",
       "      <td>1534</td>\n",
       "      <td>2902.31</td>\n",
       "      <td>17</td>\n",
       "      <td>2021-11-27</td>\n",
       "      <td>11</td>\n",
       "      <td>Альберт</td>\n",
       "      <td>25</td>\n",
       "      <td>Краснодар</td>\n",
       "      <td>free</td>\n",
       "      <td>8</td>\n",
       "      <td>50</td>\n",
       "      <td>0</td>\n",
       "    </tr>\n",
       "    <tr>\n",
       "      <th>18067</th>\n",
       "      <td>1534</td>\n",
       "      <td>2371.71</td>\n",
       "      <td>16</td>\n",
       "      <td>2021-12-29</td>\n",
       "      <td>12</td>\n",
       "      <td>Альберт</td>\n",
       "      <td>25</td>\n",
       "      <td>Краснодар</td>\n",
       "      <td>free</td>\n",
       "      <td>8</td>\n",
       "      <td>50</td>\n",
       "      <td>0</td>\n",
       "    </tr>\n",
       "  </tbody>\n",
       "</table>\n",
       "<p>11568 rows × 12 columns</p>\n",
       "</div>"
      ],
      "text/plain": [
       "       user_id  distance  duration       date  month     name  age       city  \\\n",
       "6500       700   2515.69        15 2021-01-02      1    Айдар   22       Омск   \n",
       "6501       700    846.93        17 2021-02-01      2    Айдар   22       Омск   \n",
       "6502       700   4004.43        21 2021-02-04      2    Айдар   22       Омск   \n",
       "6503       700   1205.91        10 2021-02-10      2    Айдар   22       Омск   \n",
       "6504       700   3047.38        18 2021-02-14      2    Айдар   22       Омск   \n",
       "...        ...       ...       ...        ...    ...      ...  ...        ...   \n",
       "18063     1534   3781.10        20 2021-11-04     11  Альберт   25  Краснодар   \n",
       "18064     1534   2840.42        22 2021-11-16     11  Альберт   25  Краснодар   \n",
       "18065     1534   3826.19        19 2021-11-18     11  Альберт   25  Краснодар   \n",
       "18066     1534   2902.31        17 2021-11-27     11  Альберт   25  Краснодар   \n",
       "18067     1534   2371.71        16 2021-12-29     12  Альберт   25  Краснодар   \n",
       "\n",
       "      subscription_type  minute_price  start_ride_price  subscription_fee  \n",
       "6500               free             8                50                 0  \n",
       "6501               free             8                50                 0  \n",
       "6502               free             8                50                 0  \n",
       "6503               free             8                50                 0  \n",
       "6504               free             8                50                 0  \n",
       "...                 ...           ...               ...               ...  \n",
       "18063              free             8                50                 0  \n",
       "18064              free             8                50                 0  \n",
       "18065              free             8                50                 0  \n",
       "18066              free             8                50                 0  \n",
       "18067              free             8                50                 0  \n",
       "\n",
       "[11568 rows x 12 columns]"
      ]
     },
     "execution_count": 25,
     "metadata": {},
     "output_type": "execute_result"
    }
   ],
   "source": [
    "free_users = all_users.query(\"subscription_type == 'free'\")\n",
    "free_users"
   ]
  },
  {
   "cell_type": "markdown",
   "id": "d87b6e48",
   "metadata": {},
   "source": [
    "мы получили три таблицы, одна из которых содержит информацию обо всех **18068** заездах, вторая &mdash; данные о **6500** заездах пользователей с подпиской и третья &mdash; данные о **11568** заездах без подписки. ранее мы посчитали, что людей без подписки немногим больше: 835 против 699, однако не будем спешить с выводами, пока не изучим длительность поездок и прибыльность каждой группы.\n",
    "\n",
    "### 4.2. Сравнение распределений данных\n",
    "\n",
    "сперва сравним достижения в дальности заездов пользователей `ultra` и `free`:"
   ]
  },
  {
   "cell_type": "code",
   "execution_count": 26,
   "id": "6a5825a6",
   "metadata": {},
   "outputs": [
    {
     "data": {
      "image/png": "[encoded data removed]",
      "text/plain": [
       "<Figure size 1170x827 with 1 Axes>"
      ]
     },
     "metadata": {},
     "output_type": "display_data"
    },
    {
     "name": "stdout",
     "output_type": "stream",
     "text": [
      "медиана: 3148.6400000000003 \n",
      "среднее: 3115.4 \n",
      "min: 244.21 \n",
      "max: 5699.77 \n",
      "верхний порог выбросов: 4723.4 \n",
      "нижний порог выбросов: 1622.6 \n",
      "Q1: 2785.4 \n",
      "Q3: 3560.6\n"
     ]
    },
    {
     "data": {
      "image/png": "[encoded data removed]",
      "text/plain": [
       "<Figure size 1170x827 with 1 Axes>"
      ]
     },
     "metadata": {},
     "output_type": "display_data"
    },
    {
     "name": "stdout",
     "output_type": "stream",
     "text": [
      "медиана: 3114.6499999999996 \n",
      "среднее: 3045.5 \n",
      "min: 0.86 \n",
      "max: 7211.01 \n",
      "верхний порог выбросов: 6214.35 \n",
      "нижний порог выбросов: 57.95 \n",
      "Q1: 2366.6 \n",
      "Q3: 3905.7\n"
     ]
    }
   ],
   "source": [
    "data_boxplot(ultra_users, 'distance', 'дистанции пользователей ultra')\n",
    "\n",
    "data_boxplot(free_users, 'distance', 'дистанции пользователей free')"
   ]
  },
  {
   "cell_type": "markdown",
   "id": "9a33d4e5",
   "metadata": {},
   "source": [
    "средняя дистанция заезда примерно одинаковая для пользователей обеих групп, однако судя по первому квартилю, юзеры, решившие стать постоянными клиентами, не отказываются от поездки, едва встав на самокат (1623 метра против 58 метров). наименьшая дистанция, которая в группе с подпиской является выбросом (244 метра), почти в раза больше нижнего порога выбослв во второй группе. люди с подпиской катаются наверняка, зато люди без подписки, если не отказались от поездки, преодолевают б**о**льшие дистанции. для наглядности сравнения отобразим оба графика на одном поле:"
   ]
  },
  {
   "cell_type": "code",
   "execution_count": 27,
   "id": "ff531279",
   "metadata": {},
   "outputs": [
    {
     "data": {
      "image/png": "[encoded data removed]",
      "text/plain": [
       "<Figure size 1170x827 with 1 Axes>"
      ]
     },
     "metadata": {},
     "output_type": "display_data"
    }
   ],
   "source": [
    "free_users['distance'].hist(alpha=0.5, label='free', bins = 50)\n",
    "ultra_users['distance'].hist(alpha=0.5, label='ultra', bins = 50)\n",
    "\n",
    "plt.title('дальность заездов пользователей ultra и free')\n",
    "plt.xlabel('дистанция в метрах')\n",
    "plt.ylabel('количество человек')\n",
    "plt.legend()\n",
    "plt.show()"
   ]
  },
  {
   "cell_type": "markdown",
   "id": "1410cf89",
   "metadata": {},
   "source": [
    "а теперь построим аналогичные графики для продолжительности поездок в обеих категориях:"
   ]
  },
  {
   "cell_type": "code",
   "execution_count": 28,
   "id": "d0537be0",
   "metadata": {},
   "outputs": [
    {
     "data": {
      "image/png": "[encoded data removed]",
      "text/plain": [
       "<Figure size 1170x827 with 1 Axes>"
      ]
     },
     "metadata": {},
     "output_type": "display_data"
    },
    {
     "name": "stdout",
     "output_type": "stream",
     "text": [
      "медиана: 19.0 \n",
      "среднее: 19.0 \n",
      "min: 4 \n",
      "max: 41 \n",
      "верхний порог выбросов: 32.5 \n",
      "нижний порог выбросов: 4.5 \n",
      "Q1: 15.0 \n",
      "Q3: 22.0\n"
     ]
    },
    {
     "data": {
      "image/png": "[encoded data removed]",
      "text/plain": [
       "<Figure size 1170x827 with 1 Axes>"
      ]
     },
     "metadata": {},
     "output_type": "display_data"
    },
    {
     "name": "stdout",
     "output_type": "stream",
     "text": [
      "медиана: 18.0 \n",
      "среднее: 17.9 \n",
      "min: 1 \n",
      "max: 35 \n",
      "верхний порог выбросов: 35.5 \n",
      "нижний порог выбросов: -0.5 \n",
      "Q1: 13.0 \n",
      "Q3: 22.0\n"
     ]
    }
   ],
   "source": [
    "data_boxplot(ultra_users, 'duration', 'ultra: продолжительность поездки в минутах')\n",
    "\n",
    "data_boxplot(free_users, 'duration', 'free: продолжительность поездки в минутах')"
   ]
  },
  {
   "cell_type": "markdown",
   "id": "c860873e",
   "metadata": {},
   "source": [
    "в среднем поездка подписочных пользователей длится на минуту дольше, что ожидаемо, так как в среднем оформившие подписку проезжают б**о**льшие расстояния. также ранее мы подметили, что в датасете есть информация о 95 экстремально коротких заездов, длившихся не более 2 минут: по графикам выше видно, что такие заезды совершают пользователи, не офрмившие подписку.\n",
    "\n",
    "для наглядности визуализируем оба распределения на одном поле:"
   ]
  },
  {
   "cell_type": "code",
   "execution_count": 29,
   "id": "a132f84a",
   "metadata": {},
   "outputs": [
    {
     "data": {
      "image/png": "[encoded data removed]",
      "text/plain": [
       "<Figure size 1170x827 with 1 Axes>"
      ]
     },
     "metadata": {},
     "output_type": "display_data"
    }
   ],
   "source": [
    "free_users['duration'].hist(alpha=0.5, label='free', bins = 20)\n",
    "ultra_users['duration'].hist(alpha=0.5, label='ultra', bins = 20)\n",
    "\n",
    "plt.title('длительность заездов пользователей ultra и free')\n",
    "plt.xlabel('длительность в минутах')\n",
    "plt.ylabel('количество человек')\n",
    "plt.legend()\n",
    "plt.show()"
   ]
  },
  {
   "cell_type": "markdown",
   "id": "5af5c221",
   "metadata": {},
   "source": [
    "#### Промежуточный итог\n",
    "для статистического анализа данных мы подготовили три датасета с полной информацией о пользователях и совершённых ими поездках: один общий датасет и два &mdash; для групп клиентов с подпиской и без. сравнив распределение данных в разных группах пользователей, мы установили, что наличие подписки обеспечивает большую длину и продолжительность заездов.\n",
    "\n",
    "## 5. Подсчёт выручки\n",
    "\n",
    "создадим сводную таблицу, в которой агрегируем данные о поездках на основе датафрейма `all_users`: найдём общее расстояние, количество поездок и суммарное время для каждого пользователя за каждый месяц, а также посчитаем помесячную выручку для каждого пользователя.  "
   ]
  },
  {
   "cell_type": "code",
   "execution_count": 30,
   "id": "78d94948",
   "metadata": {},
   "outputs": [
    {
     "name": "stdout",
     "output_type": "stream",
     "text": [
      "Количество пропусков в данных: \n",
      "user_id             0\n",
      "month               0\n",
      "quantity            0\n",
      "distance            0\n",
      "duration            0\n",
      "minute_price        0\n",
      "start_ride_price    0\n",
      "subscription_fee    0\n",
      "dtype: int64\n"
     ]
    },
    {
     "data": {
      "text/html": [
       "<div>\n",
       "<style scoped>\n",
       "    .dataframe tbody tr th:only-of-type {\n",
       "        vertical-align: middle;\n",
       "    }\n",
       "\n",
       "    .dataframe tbody tr th {\n",
       "        vertical-align: top;\n",
       "    }\n",
       "\n",
       "    .dataframe thead th {\n",
       "        text-align: right;\n",
       "    }\n",
       "</style>\n",
       "<table border=\"1\" class=\"dataframe\">\n",
       "  <thead>\n",
       "    <tr style=\"text-align: right;\">\n",
       "      <th></th>\n",
       "      <th>user_id</th>\n",
       "      <th>month</th>\n",
       "      <th>quantity</th>\n",
       "      <th>distance</th>\n",
       "      <th>duration</th>\n",
       "      <th>minute_price</th>\n",
       "      <th>start_ride_price</th>\n",
       "      <th>subscription_fee</th>\n",
       "    </tr>\n",
       "  </thead>\n",
       "  <tbody>\n",
       "    <tr>\n",
       "      <th>0</th>\n",
       "      <td>1</td>\n",
       "      <td>1</td>\n",
       "      <td>2</td>\n",
       "      <td>7027.51</td>\n",
       "      <td>42</td>\n",
       "      <td>6.0</td>\n",
       "      <td>0.0</td>\n",
       "      <td>199.0</td>\n",
       "    </tr>\n",
       "    <tr>\n",
       "      <th>1</th>\n",
       "      <td>1</td>\n",
       "      <td>4</td>\n",
       "      <td>1</td>\n",
       "      <td>754.16</td>\n",
       "      <td>7</td>\n",
       "      <td>6.0</td>\n",
       "      <td>0.0</td>\n",
       "      <td>199.0</td>\n",
       "    </tr>\n",
       "    <tr>\n",
       "      <th>2</th>\n",
       "      <td>1</td>\n",
       "      <td>8</td>\n",
       "      <td>2</td>\n",
       "      <td>6723.47</td>\n",
       "      <td>46</td>\n",
       "      <td>6.0</td>\n",
       "      <td>0.0</td>\n",
       "      <td>199.0</td>\n",
       "    </tr>\n",
       "    <tr>\n",
       "      <th>3</th>\n",
       "      <td>1</td>\n",
       "      <td>10</td>\n",
       "      <td>2</td>\n",
       "      <td>5809.91</td>\n",
       "      <td>32</td>\n",
       "      <td>6.0</td>\n",
       "      <td>0.0</td>\n",
       "      <td>199.0</td>\n",
       "    </tr>\n",
       "    <tr>\n",
       "      <th>4</th>\n",
       "      <td>1</td>\n",
       "      <td>11</td>\n",
       "      <td>3</td>\n",
       "      <td>7003.50</td>\n",
       "      <td>56</td>\n",
       "      <td>6.0</td>\n",
       "      <td>0.0</td>\n",
       "      <td>199.0</td>\n",
       "    </tr>\n",
       "    <tr>\n",
       "      <th>...</th>\n",
       "      <td>...</td>\n",
       "      <td>...</td>\n",
       "      <td>...</td>\n",
       "      <td>...</td>\n",
       "      <td>...</td>\n",
       "      <td>...</td>\n",
       "      <td>...</td>\n",
       "      <td>...</td>\n",
       "    </tr>\n",
       "    <tr>\n",
       "      <th>11326</th>\n",
       "      <td>1534</td>\n",
       "      <td>6</td>\n",
       "      <td>2</td>\n",
       "      <td>3409.47</td>\n",
       "      <td>26</td>\n",
       "      <td>8.0</td>\n",
       "      <td>50.0</td>\n",
       "      <td>0.0</td>\n",
       "    </tr>\n",
       "    <tr>\n",
       "      <th>11327</th>\n",
       "      <td>1534</td>\n",
       "      <td>8</td>\n",
       "      <td>2</td>\n",
       "      <td>7622.45</td>\n",
       "      <td>48</td>\n",
       "      <td>8.0</td>\n",
       "      <td>50.0</td>\n",
       "      <td>0.0</td>\n",
       "    </tr>\n",
       "    <tr>\n",
       "      <th>11328</th>\n",
       "      <td>1534</td>\n",
       "      <td>9</td>\n",
       "      <td>1</td>\n",
       "      <td>4928.17</td>\n",
       "      <td>23</td>\n",
       "      <td>8.0</td>\n",
       "      <td>50.0</td>\n",
       "      <td>0.0</td>\n",
       "    </tr>\n",
       "    <tr>\n",
       "      <th>11329</th>\n",
       "      <td>1534</td>\n",
       "      <td>11</td>\n",
       "      <td>4</td>\n",
       "      <td>13350.02</td>\n",
       "      <td>78</td>\n",
       "      <td>8.0</td>\n",
       "      <td>50.0</td>\n",
       "      <td>0.0</td>\n",
       "    </tr>\n",
       "    <tr>\n",
       "      <th>11330</th>\n",
       "      <td>1534</td>\n",
       "      <td>12</td>\n",
       "      <td>1</td>\n",
       "      <td>2371.71</td>\n",
       "      <td>16</td>\n",
       "      <td>8.0</td>\n",
       "      <td>50.0</td>\n",
       "      <td>0.0</td>\n",
       "    </tr>\n",
       "  </tbody>\n",
       "</table>\n",
       "<p>11331 rows × 8 columns</p>\n",
       "</div>"
      ],
      "text/plain": [
       "       user_id  month  quantity  distance  duration  minute_price  \\\n",
       "0            1      1         2   7027.51        42           6.0   \n",
       "1            1      4         1    754.16         7           6.0   \n",
       "2            1      8         2   6723.47        46           6.0   \n",
       "3            1     10         2   5809.91        32           6.0   \n",
       "4            1     11         3   7003.50        56           6.0   \n",
       "...        ...    ...       ...       ...       ...           ...   \n",
       "11326     1534      6         2   3409.47        26           8.0   \n",
       "11327     1534      8         2   7622.45        48           8.0   \n",
       "11328     1534      9         1   4928.17        23           8.0   \n",
       "11329     1534     11         4  13350.02        78           8.0   \n",
       "11330     1534     12         1   2371.71        16           8.0   \n",
       "\n",
       "       start_ride_price  subscription_fee  \n",
       "0                   0.0             199.0  \n",
       "1                   0.0             199.0  \n",
       "2                   0.0             199.0  \n",
       "3                   0.0             199.0  \n",
       "4                   0.0             199.0  \n",
       "...                 ...               ...  \n",
       "11326              50.0               0.0  \n",
       "11327              50.0               0.0  \n",
       "11328              50.0               0.0  \n",
       "11329              50.0               0.0  \n",
       "11330              50.0               0.0  \n",
       "\n",
       "[11331 rows x 8 columns]"
      ]
     },
     "execution_count": 30,
     "metadata": {},
     "output_type": "execute_result"
    }
   ],
   "source": [
    "all_users_pivot = (all_users.pivot_table(index=['user_id', 'month'], \n",
    "                                         values=['distance', 'duration', 'minute_price',\n",
    "                                                 'start_ride_price', 'subscription_fee'],\n",
    "                                         aggfunc={'distance':{'count', 'sum'},\n",
    "                                                  'duration':'sum', 'minute_price': 'mean',\n",
    "                                                  'start_ride_price':'mean',\n",
    "                                                  'subscription_fee':'mean'}\n",
    "                                        )\n",
    "                   .reset_index()\n",
    "                   )\n",
    "all_users_pivot.columns = ['user_id', 'month', 'quantity', \n",
    "                           'distance', 'duration', 'minute_price', \n",
    "                           'start_ride_price', 'subscription_fee']\n",
    "\n",
    "print(f\"Количество пропусков в данных: \\n{all_users_pivot.isna().sum()}\")\n",
    "all_users_pivot"
   ]
  },
  {
   "cell_type": "markdown",
   "id": "f28bb36d",
   "metadata": {},
   "source": [
    "пропусков нет &mdash; можно рассычитывать помесячную выручку. создадим новый столбец `revenue`, в котором рассчитаем выручку по формуле: `соимость старта * количество поездок + стоимость минуты * длительность + стоимость подписки`."
   ]
  },
  {
   "cell_type": "code",
   "execution_count": 31,
   "id": "eeb16b19",
   "metadata": {},
   "outputs": [
    {
     "data": {
      "text/html": [
       "<div>\n",
       "<style scoped>\n",
       "    .dataframe tbody tr th:only-of-type {\n",
       "        vertical-align: middle;\n",
       "    }\n",
       "\n",
       "    .dataframe tbody tr th {\n",
       "        vertical-align: top;\n",
       "    }\n",
       "\n",
       "    .dataframe thead th {\n",
       "        text-align: right;\n",
       "    }\n",
       "</style>\n",
       "<table border=\"1\" class=\"dataframe\">\n",
       "  <thead>\n",
       "    <tr style=\"text-align: right;\">\n",
       "      <th></th>\n",
       "      <th>user_id</th>\n",
       "      <th>month</th>\n",
       "      <th>quantity</th>\n",
       "      <th>distance</th>\n",
       "      <th>duration</th>\n",
       "      <th>minute_price</th>\n",
       "      <th>start_ride_price</th>\n",
       "      <th>subscription_fee</th>\n",
       "      <th>revenue</th>\n",
       "    </tr>\n",
       "  </thead>\n",
       "  <tbody>\n",
       "    <tr>\n",
       "      <th>0</th>\n",
       "      <td>1</td>\n",
       "      <td>1</td>\n",
       "      <td>2</td>\n",
       "      <td>7027.51</td>\n",
       "      <td>42</td>\n",
       "      <td>6.0</td>\n",
       "      <td>0.0</td>\n",
       "      <td>199.0</td>\n",
       "      <td>451.0</td>\n",
       "    </tr>\n",
       "    <tr>\n",
       "      <th>1</th>\n",
       "      <td>1</td>\n",
       "      <td>4</td>\n",
       "      <td>1</td>\n",
       "      <td>754.16</td>\n",
       "      <td>7</td>\n",
       "      <td>6.0</td>\n",
       "      <td>0.0</td>\n",
       "      <td>199.0</td>\n",
       "      <td>241.0</td>\n",
       "    </tr>\n",
       "    <tr>\n",
       "      <th>2</th>\n",
       "      <td>1</td>\n",
       "      <td>8</td>\n",
       "      <td>2</td>\n",
       "      <td>6723.47</td>\n",
       "      <td>46</td>\n",
       "      <td>6.0</td>\n",
       "      <td>0.0</td>\n",
       "      <td>199.0</td>\n",
       "      <td>475.0</td>\n",
       "    </tr>\n",
       "    <tr>\n",
       "      <th>3</th>\n",
       "      <td>1</td>\n",
       "      <td>10</td>\n",
       "      <td>2</td>\n",
       "      <td>5809.91</td>\n",
       "      <td>32</td>\n",
       "      <td>6.0</td>\n",
       "      <td>0.0</td>\n",
       "      <td>199.0</td>\n",
       "      <td>391.0</td>\n",
       "    </tr>\n",
       "    <tr>\n",
       "      <th>4</th>\n",
       "      <td>1</td>\n",
       "      <td>11</td>\n",
       "      <td>3</td>\n",
       "      <td>7003.50</td>\n",
       "      <td>56</td>\n",
       "      <td>6.0</td>\n",
       "      <td>0.0</td>\n",
       "      <td>199.0</td>\n",
       "      <td>535.0</td>\n",
       "    </tr>\n",
       "    <tr>\n",
       "      <th>...</th>\n",
       "      <td>...</td>\n",
       "      <td>...</td>\n",
       "      <td>...</td>\n",
       "      <td>...</td>\n",
       "      <td>...</td>\n",
       "      <td>...</td>\n",
       "      <td>...</td>\n",
       "      <td>...</td>\n",
       "      <td>...</td>\n",
       "    </tr>\n",
       "    <tr>\n",
       "      <th>11326</th>\n",
       "      <td>1534</td>\n",
       "      <td>6</td>\n",
       "      <td>2</td>\n",
       "      <td>3409.47</td>\n",
       "      <td>26</td>\n",
       "      <td>8.0</td>\n",
       "      <td>50.0</td>\n",
       "      <td>0.0</td>\n",
       "      <td>308.0</td>\n",
       "    </tr>\n",
       "    <tr>\n",
       "      <th>11327</th>\n",
       "      <td>1534</td>\n",
       "      <td>8</td>\n",
       "      <td>2</td>\n",
       "      <td>7622.45</td>\n",
       "      <td>48</td>\n",
       "      <td>8.0</td>\n",
       "      <td>50.0</td>\n",
       "      <td>0.0</td>\n",
       "      <td>484.0</td>\n",
       "    </tr>\n",
       "    <tr>\n",
       "      <th>11328</th>\n",
       "      <td>1534</td>\n",
       "      <td>9</td>\n",
       "      <td>1</td>\n",
       "      <td>4928.17</td>\n",
       "      <td>23</td>\n",
       "      <td>8.0</td>\n",
       "      <td>50.0</td>\n",
       "      <td>0.0</td>\n",
       "      <td>234.0</td>\n",
       "    </tr>\n",
       "    <tr>\n",
       "      <th>11329</th>\n",
       "      <td>1534</td>\n",
       "      <td>11</td>\n",
       "      <td>4</td>\n",
       "      <td>13350.02</td>\n",
       "      <td>78</td>\n",
       "      <td>8.0</td>\n",
       "      <td>50.0</td>\n",
       "      <td>0.0</td>\n",
       "      <td>824.0</td>\n",
       "    </tr>\n",
       "    <tr>\n",
       "      <th>11330</th>\n",
       "      <td>1534</td>\n",
       "      <td>12</td>\n",
       "      <td>1</td>\n",
       "      <td>2371.71</td>\n",
       "      <td>16</td>\n",
       "      <td>8.0</td>\n",
       "      <td>50.0</td>\n",
       "      <td>0.0</td>\n",
       "      <td>178.0</td>\n",
       "    </tr>\n",
       "  </tbody>\n",
       "</table>\n",
       "<p>11331 rows × 9 columns</p>\n",
       "</div>"
      ],
      "text/plain": [
       "       user_id  month  quantity  distance  duration  minute_price  \\\n",
       "0            1      1         2   7027.51        42           6.0   \n",
       "1            1      4         1    754.16         7           6.0   \n",
       "2            1      8         2   6723.47        46           6.0   \n",
       "3            1     10         2   5809.91        32           6.0   \n",
       "4            1     11         3   7003.50        56           6.0   \n",
       "...        ...    ...       ...       ...       ...           ...   \n",
       "11326     1534      6         2   3409.47        26           8.0   \n",
       "11327     1534      8         2   7622.45        48           8.0   \n",
       "11328     1534      9         1   4928.17        23           8.0   \n",
       "11329     1534     11         4  13350.02        78           8.0   \n",
       "11330     1534     12         1   2371.71        16           8.0   \n",
       "\n",
       "       start_ride_price  subscription_fee  revenue  \n",
       "0                   0.0             199.0    451.0  \n",
       "1                   0.0             199.0    241.0  \n",
       "2                   0.0             199.0    475.0  \n",
       "3                   0.0             199.0    391.0  \n",
       "4                   0.0             199.0    535.0  \n",
       "...                 ...               ...      ...  \n",
       "11326              50.0               0.0    308.0  \n",
       "11327              50.0               0.0    484.0  \n",
       "11328              50.0               0.0    234.0  \n",
       "11329              50.0               0.0    824.0  \n",
       "11330              50.0               0.0    178.0  \n",
       "\n",
       "[11331 rows x 9 columns]"
      ]
     },
     "execution_count": 31,
     "metadata": {},
     "output_type": "execute_result"
    }
   ],
   "source": [
    "all_users_pivot['revenue'] = (all_users_pivot['start_ride_price']  * all_users_pivot['quantity']\n",
    "                              + all_users_pivot['duration'] *  all_users_pivot['minute_price']\n",
    "                              + all_users_pivot['subscription_fee']\n",
    "                             )\n",
    "all_users_pivot"
   ]
  },
  {
   "cell_type": "markdown",
   "id": "94876d84",
   "metadata": {},
   "source": [
    "посмотрим основные статистики и распределение для каждой группы пользователей в отдельности:"
   ]
  },
  {
   "cell_type": "code",
   "execution_count": 32,
   "id": "593e4d12",
   "metadata": {},
   "outputs": [
    {
     "data": {
      "image/png": "[encoded data removed]",
      "text/plain": [
       "<Figure size 1170x827 with 1 Axes>"
      ]
     },
     "metadata": {},
     "output_type": "display_data"
    },
    {
     "name": "stdout",
     "output_type": "stream",
     "text": [
      "медиана: 274.0 \n",
      "среднее: 328.6 \n",
      "min: 58.0 \n",
      "max: 1444.0 \n",
      "верхний порог выбросов: 779.0 \n",
      "нижний порог выбросов: -157.0 \n",
      "Q1: 194.0 \n",
      "Q3: 428.0\n"
     ]
    },
    {
     "data": {
      "image/png": "[encoded data removed]",
      "text/plain": [
       "<Figure size 1170x827 with 1 Axes>"
      ]
     },
     "metadata": {},
     "output_type": "display_data"
    },
    {
     "name": "stdout",
     "output_type": "stream",
     "text": [
      "медиана: 337.0 \n",
      "среднее: 362.8 \n",
      "min: 223.0 \n",
      "max: 955.0 \n",
      "верхний порог выбросов: 571.0 \n",
      "нижний порог выбросов: 139.0 \n",
      "Q1: 301.0 \n",
      "Q3: 409.0\n"
     ]
    }
   ],
   "source": [
    "data_boxplot(all_users_pivot.query('subscription_fee == 0'), \n",
    "             'revenue', \n",
    "             'free: помесячная выручка')\n",
    "\n",
    "data_boxplot(all_users_pivot.query('subscription_fee != 0'), \n",
    "             'revenue', \n",
    "             'ultra: помесячная выручка')"
   ]
  },
  {
   "cell_type": "markdown",
   "id": "8121b9e8",
   "metadata": {},
   "source": [
    "медианное значение помесячной выручки от пользователей с подпиской на 79 рублей больше, также есть отличия в большую сторону для первого и третьего квартиля. пользователи. очевидно, что пользователи от пользователей с подпиской можно получать стабильно большую прибыль, чем от простых пользователей. \n",
    "\n",
    "для наглядности визуализируем оба распределения на одном поле:"
   ]
  },
  {
   "cell_type": "code",
   "execution_count": 33,
   "id": "eaff5d36",
   "metadata": {},
   "outputs": [
    {
     "data": {
      "image/png": "[encoded data removed]",
      "text/plain": [
       "<Figure size 1170x827 with 1 Axes>"
      ]
     },
     "metadata": {},
     "output_type": "display_data"
    }
   ],
   "source": [
    "all_users_pivot.query('subscription_fee == 0')['revenue'].hist(alpha=0.5, label='free', bins = 50)\n",
    "all_users_pivot.query('subscription_fee != 0')['revenue'].hist(alpha=0.5, label='ultra', bins = 50)\n",
    "\n",
    "plt.title('помесячная выручка от пользователей ultra и free')\n",
    "plt.xlabel('размер выручки')\n",
    "plt.ylabel('количество человек')\n",
    "plt.legend()\n",
    "plt.show()"
   ]
  },
  {
   "cell_type": "markdown",
   "id": "843c716b",
   "metadata": {},
   "source": [
    "#### Промежуточный итог\n",
    "мы провели все необходимые манипуляции и с данными и подготовили их для проверки гипотез.\n",
    "## 6. Проверка гипотез\n",
    "\n",
    "### 6.1 Гипотеза 1. Продолжительность.\n",
    "\n",
    "$H_0$: средние продолжительности заездов в обеих группах одинановы  \n",
    "$H_1$: средняя продолжительность заездов у пользователей `ultra` выше\n",
    "\n",
    "для сравнения воспользуемся создаными ранее датасетами free_users и ultra_users.  \n",
    "ранее мы выяслили, что поездок, совершённых подписочными пользователями, почти в два раза меньше, это существенная разница в объёме выборок, поэтому при проведении t-теста установим `equal_var = False`. данные выборки являются независимыми &mdash; для анализа будем использовать соответствующий тест."
   ]
  },
  {
   "cell_type": "code",
   "execution_count": 34,
   "id": "c5b95ed4",
   "metadata": {},
   "outputs": [
    {
     "data": {
      "image/png": "[encoded data removed]",
      "text/plain": [
       "<Figure size 1170x827 with 1 Axes>"
      ]
     },
     "metadata": {},
     "output_type": "display_data"
    },
    {
     "name": "stdout",
     "output_type": "stream",
     "text": [
      "p-значение: 1.1814679253701353e-36\n",
      "Отвергаем нулевую гипотезу\n"
     ]
    }
   ],
   "source": [
    "sns.kdeplot(ultra_users['duration'], label=\"ultra\")\n",
    "sns.kdeplot(free_users['duration'], label=\"free\")\n",
    "\n",
    "plt.title('продолжительность заездов в минутах')\n",
    "plt.xlabel('продолжительность')\n",
    "plt.legend(prop={'size': 14}, title = 'тип подписки', loc=\"upper right\")\n",
    "\n",
    "plt.show()\n",
    "\n",
    "results = st.ttest_ind(ultra_users['duration'], \n",
    "                       free_users['duration'], \n",
    "                       equal_var = False, \n",
    "                       alternative='greater')\n",
    "alpha = 0.05\n",
    "\n",
    "print('p-значение:', results.pvalue)\n",
    "\n",
    "if results.pvalue < alpha:\n",
    "    print('Отвергаем нулевую гипотезу')\n",
    "else:\n",
    "    print('Не получилось отвергнуть нулевую гипотезу')\n"
   ]
  },
  {
   "cell_type": "markdown",
   "id": "ab3c8b33",
   "metadata": {},
   "source": [
    "действительно, можно отвергнуть гипотезу о равенстве средних в пользу гипотезы о том, что пользователи по подписке катаются дольше.\n",
    "\n",
    "### 6.2. Гипотеза 2 Дистанция\n",
    "3130 метров &mdash; оптимальное расстояние одной поездки с учётом износа самоката. на ранних этапах исследования мы обратили внимание на то, что для пользователей `ultra` характерны менее протяжённые заезды. а теперь проверим гипотезу коллег.\n",
    "\n",
    "$H_0$: средняя дистанция поездок `ultra` равна 3130 метров  \n",
    "$H_1$: средняя дистанция поездок `ultra` превышает оптимальные 3130 метров.\n",
    "\n",
    "для проверки гипотезы используем t-test для одной выборки с указанием параметра `alternative='less'`"
   ]
  },
  {
   "cell_type": "code",
   "execution_count": 35,
   "id": "2ef91b7f",
   "metadata": {},
   "outputs": [
    {
     "name": "stdout",
     "output_type": "stream",
     "text": [
      "p-значение: 0.9195362605842414\n",
      "Не получилось отвергнуть нулевую гипотезу\n"
     ]
    }
   ],
   "source": [
    "perfect_distance = 3130\n",
    "\n",
    "alpha = 0.05\n",
    "\n",
    "results = st.ttest_1samp(\n",
    "    ultra_users['distance'], \n",
    "    perfect_distance, alternative='greater')\n",
    "\n",
    "print('p-значение:', results.pvalue)\n",
    "\n",
    "if results.pvalue < alpha:\n",
    "    print('Отвергаем нулевую гипотезу')\n",
    "else:\n",
    "    print('Не получилось отвергнуть нулевую гипотезу')"
   ]
  },
  {
   "cell_type": "markdown",
   "id": "28658546",
   "metadata": {},
   "source": [
    "нам не удалось подтвердить гипотезу о том, что поездки пользователей, оформивших подписку, в среднем превышают дистанцию 3130 метров. следовательно, можно полагать, что поездки пользователей `ultra` не приводят к повышенному износу самокатов."
   ]
  },
  {
   "cell_type": "markdown",
   "id": "fa6593a4",
   "metadata": {},
   "source": [
    "### 6.3. Гипотеза 3 Выручка\n",
    "какая из групп пользователей приносит больше выручки сервису?  \n",
    "$H_0$: среднее помесячных выручек пользователей `ultra` равно агалогичному показателю `free`  \n",
    "$H_1$: среднее помесячных выручек пользователей `ultra` больше агалогичного показателя `free`\n",
    "\n",
    "для проверки гипотез воспользуемся t-тестом для двух независимых выборок. ранее в исследовании мы установили, что поездок, совершённых пользователями по подписке, почти в два раза меньше, поэтому при расчётах выставим `equal_var = False`"
   ]
  },
  {
   "cell_type": "code",
   "execution_count": 36,
   "id": "026c8323",
   "metadata": {},
   "outputs": [
    {
     "name": "stdout",
     "output_type": "stream",
     "text": [
      "p-значение: 8.874140893976874e-40\n",
      "Отвергаем нулевую гипотезу\n"
     ]
    }
   ],
   "source": [
    "# сформируем срез данных по вхождению значения user_id в ранее созданные списки:\n",
    "free_users_pivot = all_users_pivot.query('subscription_fee == 0')\n",
    "ultra_users_pivot = all_users_pivot.query('subscription_fee != 0')\n",
    "\n",
    "# проведём t-test:\n",
    "results = st.ttest_ind(ultra_users_pivot['revenue'], \n",
    "                       free_users_pivot['revenue'],\n",
    "                       equal_var = False,\n",
    "                       alternative='greater')\n",
    "alpha = 0.05\n",
    "\n",
    "print('p-значение:', results.pvalue)\n",
    "\n",
    "if results.pvalue < alpha:\n",
    "    print('Отвергаем нулевую гипотезу')\n",
    "else:\n",
    "    print('Не получилось отвергнуть нулевую гипотезу')"
   ]
  },
  {
   "cell_type": "markdown",
   "id": "99906159",
   "metadata": {},
   "source": [
    "можем отвергнуть нулевую гипотезу в пользу предположения о том, что средняя помесячая выручка пользователей с подпиской выше, чем пользователей без подписки. дело за малым: мотивировать пользователей оформлять подписку (:\n",
    "\n",
    "### 6.4. Обращения в техподдержку.\n",
    "для того чтобы изменить динамику обращений в техподдержку после обновления серверов, нам потребуется провести анализ двух выборок: список обращений, поступивших до обновлений, и список обращений после. инструментом анализа будет t-test для зависимых выборок, которые необходимо будет предварительно сделать равными по количеству элементов. **для проверки следует брать одностороннюю гипотезу, так как мв ожидаем значимое снижение количества обращений**\n"
   ]
  },
  {
   "cell_type": "markdown",
   "id": "052cd68f",
   "metadata": {},
   "source": [
    "## 7. Рассчёт маркетинговых активностей\n",
    "### 7.1. Промокоды на подписку\n",
    "отделу маркетинга необходимо узнать, какое количество промокодов на месяц бесплатной подписки нужно отправить пользователям, чтобы вероятность не выполнить план по продлению подписки не превысила 5%. ожидается, что не менее 100 человек продлят подписку. опыт аналогичных кампаний в прошлом показал, что 10% пользователей продлевают подписку после пробного периода."
   ]
  },
  {
   "cell_type": "code",
   "execution_count": 37,
   "id": "f5adea72",
   "metadata": {},
   "outputs": [
    {
     "name": "stdout",
     "output_type": "stream",
     "text": [
      "вероятность не выполнить план не превышает 0.05 \n",
      "при количестве промокодов равном 1161\n"
     ]
    },
    {
     "data": {
      "image/png": "[encoded data removed]",
      "text/plain": [
       "<Figure size 1170x827 with 1 Axes>"
      ]
     },
     "metadata": {},
     "output_type": "display_data"
    }
   ],
   "source": [
    "n = 1000\n",
    "k = 99 # вычитаем из 100 единицу, т.к. нас интересует вероятнось не выполнить план.\n",
    "p = 0.1\n",
    "\n",
    "p_2 = 0.05\n",
    "\n",
    "while p_2 < binom.cdf(k, n, p):\n",
    "    n += 1\n",
    "\n",
    "print(f\"вероятность не выполнить план не превышает {binom.cdf(k, n, p).round(2)} \\n\"\n",
    "      f\"при количестве промокодов равном {n}\")\n",
    "\n",
    "# т.к. распределение является биноминальным (подписку либо продолжат, либо нет),\n",
    "# вычислим mu и sigma по соответствующим формулам:\n",
    "mu = n * p\n",
    "sigma = (n * p * (1 - p))**0.5\n",
    "\n",
    "# зададим область построения графика слева и справа:      \n",
    "left = mu - 4 * sigma\n",
    "right = mu + 4 * sigma\n",
    "x = np.linspace(left, right, 1161) # сгенерируем значения в заданной области.\n",
    "\n",
    "theplot = plt.subplot()\n",
    "theplot.plot(x, st.norm.pdf(x, mu, sigma), 'b-', lw=2)\n",
    "plt.axvline (x=k, color='red', linestyle='--', label='порог успеха задачи')\n",
    "plt.legend() \n",
    "plt.show()"
   ]
  },
  {
   "cell_type": "markdown",
   "id": "0954f552",
   "metadata": {},
   "source": [
    "### 7.2. Рассылка push-уведомлений\n",
    "\n",
    "отдел маркетинга планирует разослать 1000000 уведомлений. мы знаем, что их открывают около 40% клиентов. построим примерный график распределения и оценим вероятность того, что уведомление откроют не более 399500 пользователей.\n",
    "\n",
    "так как поведение пользователей в данной ситуации является биноминальным распределением (пуш либо откроют, либо нет), а наблюдений у нас довольно много, посмользуемся нормальной аппроксимацией биномиального распределения и методом `.cdf()` "
   ]
  },
  {
   "cell_type": "code",
   "execution_count": 38,
   "id": "bb453142",
   "metadata": {},
   "outputs": [
    {
     "name": "stdout",
     "output_type": "stream",
     "text": [
      "Вероятность открытия сообщений: 0.15371708296369768\n"
     ]
    },
    {
     "data": {
      "image/png": "[encoded data removed]",
      "text/plain": [
       "<Figure size 1170x827 with 1 Axes>"
      ]
     },
     "metadata": {},
     "output_type": "display_data"
    }
   ],
   "source": [
    "n = 1000000\n",
    "p = 0.4\n",
    "k = 399500\n",
    "\n",
    "mu = n * p\n",
    "sigma = (n * p * (1 - p))**0.5\n",
    "\n",
    "distr = st.norm(mu, sigma)\n",
    "\n",
    "result = distr.cdf(k)\n",
    "print('Вероятность открытия сообщений:', result)\n",
    "\n",
    "left = mu - 4 * sigma\n",
    "right = mu + 4 * sigma\n",
    "\n",
    "x = np.linspace(left, right, 1000000)\n",
    "theplot = plt.subplot()\n",
    "theplot.plot(x, st.norm.pdf(x, mu, sigma), 'b-', lw=2)\n",
    "plt.axvline (x=k, color='red', linestyle='--', label='порог успеха задачи')\n",
    "plt.legend()\n",
    "\n",
    "plt.show()"
   ]
  },
  {
   "cell_type": "markdown",
   "id": "6da5b24e",
   "metadata": {},
   "source": [
    "## 8. Выводы\n",
    "нам удалось выяснить, что средний возраст нашего клиента &mdash; 25 лет, а большая часть наших пользователей &mdash; люди  22-28 лет, у которых средняя дистанция заезда чуть более 3 километров при средней продолжительности 18 минут, а основная доля поездок (по длительности) приходится на 14-22 минуты. при этом наличие подписки обеспечивает большую длину и продолдительность заездов. \n",
    "\n",
    "также мы:\n",
    "1. проверили три гипотезы от наших коллег:\n",
    "* средняя продолжительность заездов у пользователей ultra выше - это действительно так.\n",
    "* средняя дистанция поездок ultra не превышает оптимальных 3130 метров - поездки пользователей с подпиской не приводят к более сильному износу самокатов.\n",
    "* среднее помесячных выручек пользователей ultra больше агалогичного показателя free - статистически значимое подтверждение гипотезы получено.\n",
    "2. определили пороговые значения для маркетинговых кампаний:\n",
    "* нужно выдать 1161 промокод на пробную подписку, чтобы вероятность не выполнить план по подписке не превысила 5%\n",
    "* вероятность того, что из 1 млн. отправленных пушей будут открыты не более 399,5 тысяч, составляет 15.3%\n",
    "\n",
    "в целом можно говорить о том, что подписка  &mdash; выгодное решение для сервиса, так как постоянные клиенты `ultra` обеспечивают стабильно больший ежемесячный доход: медианное значение помесячной выручки **337 рублей** против аналогичного показателя **258 рублей** у обычных пользователей. максимальная помесячная (без учёта выбросов) выручка от пользователей с подпиской также больше: **634** против **571** рубля.\n",
    "\n",
    "стимулирование перевода пользователей из категории `free` в категорию `ultra` таже будет способствовать меньшему износу самокатов: мы выяснили, что наибольшая дистанция заездов (без учёта выбросов) у пользователей с подпиской почти на полтора километра меньше, чем у простых пользователей (4.7 км против 6.2 км). также есть основания полагать, что в среднем заезды подписчиков не превышают оптимальной дистанции в 3130 метров.\n",
    "\n",
    "при этом у пользователей `ultra` почти нет суперкоротких заездов, что может говорить о низком показателе отказа от поездки, что важно для бизнеса: самокатом, от которого через две минуты отказался пользователь без подписки, мог бы воспользоваться наш постоянный клиент."
   ]
  }
 ],
 "metadata": {
  "ExecuteTimeLog": [
   {
    "duration": 1483,
    "start_time": "2024-07-07T12:02:39.913Z"
   },
   {
    "duration": 0,
    "start_time": "2024-07-07T12:02:41.399Z"
   },
   {
    "duration": 0,
    "start_time": "2024-07-07T12:02:41.400Z"
   },
   {
    "duration": 0,
    "start_time": "2024-07-07T12:02:41.401Z"
   },
   {
    "duration": 0,
    "start_time": "2024-07-07T12:02:41.402Z"
   },
   {
    "duration": 0,
    "start_time": "2024-07-07T12:02:41.403Z"
   },
   {
    "duration": 0,
    "start_time": "2024-07-07T12:02:41.404Z"
   },
   {
    "duration": 0,
    "start_time": "2024-07-07T12:02:41.404Z"
   },
   {
    "duration": 0,
    "start_time": "2024-07-07T12:02:41.405Z"
   },
   {
    "duration": 0,
    "start_time": "2024-07-07T12:02:41.406Z"
   },
   {
    "duration": 0,
    "start_time": "2024-07-07T12:02:41.407Z"
   },
   {
    "duration": 0,
    "start_time": "2024-07-07T12:02:41.408Z"
   },
   {
    "duration": 0,
    "start_time": "2024-07-07T12:02:41.409Z"
   },
   {
    "duration": 0,
    "start_time": "2024-07-07T12:02:41.409Z"
   },
   {
    "duration": 0,
    "start_time": "2024-07-07T12:02:41.410Z"
   },
   {
    "duration": 0,
    "start_time": "2024-07-07T12:02:41.411Z"
   },
   {
    "duration": 0,
    "start_time": "2024-07-07T12:02:41.412Z"
   },
   {
    "duration": 0,
    "start_time": "2024-07-07T12:02:41.414Z"
   },
   {
    "duration": 0,
    "start_time": "2024-07-07T12:02:41.416Z"
   },
   {
    "duration": 0,
    "start_time": "2024-07-07T12:02:41.417Z"
   },
   {
    "duration": 0,
    "start_time": "2024-07-07T12:02:41.418Z"
   },
   {
    "duration": 0,
    "start_time": "2024-07-07T12:02:41.420Z"
   },
   {
    "duration": 0,
    "start_time": "2024-07-07T12:02:41.421Z"
   },
   {
    "duration": 0,
    "start_time": "2024-07-07T12:02:41.422Z"
   },
   {
    "duration": 0,
    "start_time": "2024-07-07T12:02:41.424Z"
   },
   {
    "duration": 0,
    "start_time": "2024-07-07T12:02:41.425Z"
   },
   {
    "duration": 0,
    "start_time": "2024-07-07T12:02:41.426Z"
   },
   {
    "duration": 0,
    "start_time": "2024-07-07T12:02:41.428Z"
   },
   {
    "duration": 0,
    "start_time": "2024-07-07T12:02:41.429Z"
   },
   {
    "duration": 0,
    "start_time": "2024-07-07T12:02:41.430Z"
   },
   {
    "duration": 0,
    "start_time": "2024-07-07T12:02:41.432Z"
   },
   {
    "duration": 512,
    "start_time": "2024-07-07T15:19:44.083Z"
   },
   {
    "duration": 198,
    "start_time": "2024-07-07T15:20:11.382Z"
   },
   {
    "duration": 53,
    "start_time": "2024-07-07T15:20:34.425Z"
   },
   {
    "duration": 174,
    "start_time": "2024-07-07T15:20:45.132Z"
   },
   {
    "duration": 79,
    "start_time": "2024-07-07T15:21:07.145Z"
   },
   {
    "duration": 1426,
    "start_time": "2024-07-07T15:21:42.772Z"
   },
   {
    "duration": 0,
    "start_time": "2024-07-07T15:21:44.201Z"
   },
   {
    "duration": 0,
    "start_time": "2024-07-07T15:21:44.202Z"
   },
   {
    "duration": 0,
    "start_time": "2024-07-07T15:21:44.203Z"
   },
   {
    "duration": 0,
    "start_time": "2024-07-07T15:21:44.204Z"
   },
   {
    "duration": 0,
    "start_time": "2024-07-07T15:21:44.205Z"
   },
   {
    "duration": 0,
    "start_time": "2024-07-07T15:21:44.206Z"
   },
   {
    "duration": 0,
    "start_time": "2024-07-07T15:21:44.207Z"
   },
   {
    "duration": 0,
    "start_time": "2024-07-07T15:21:44.207Z"
   },
   {
    "duration": 0,
    "start_time": "2024-07-07T15:21:44.208Z"
   },
   {
    "duration": 0,
    "start_time": "2024-07-07T15:21:44.209Z"
   },
   {
    "duration": 0,
    "start_time": "2024-07-07T15:21:44.211Z"
   },
   {
    "duration": 0,
    "start_time": "2024-07-07T15:21:44.212Z"
   },
   {
    "duration": 0,
    "start_time": "2024-07-07T15:21:44.213Z"
   },
   {
    "duration": 0,
    "start_time": "2024-07-07T15:21:44.214Z"
   },
   {
    "duration": 0,
    "start_time": "2024-07-07T15:21:44.215Z"
   },
   {
    "duration": 0,
    "start_time": "2024-07-07T15:21:44.216Z"
   },
   {
    "duration": 0,
    "start_time": "2024-07-07T15:21:44.218Z"
   },
   {
    "duration": 0,
    "start_time": "2024-07-07T15:21:44.219Z"
   },
   {
    "duration": 0,
    "start_time": "2024-07-07T15:21:44.219Z"
   },
   {
    "duration": 0,
    "start_time": "2024-07-07T15:21:44.220Z"
   },
   {
    "duration": 0,
    "start_time": "2024-07-07T15:21:44.221Z"
   },
   {
    "duration": 0,
    "start_time": "2024-07-07T15:21:44.222Z"
   },
   {
    "duration": 0,
    "start_time": "2024-07-07T15:21:44.223Z"
   },
   {
    "duration": 0,
    "start_time": "2024-07-07T15:21:44.224Z"
   },
   {
    "duration": 0,
    "start_time": "2024-07-07T15:21:44.225Z"
   },
   {
    "duration": 0,
    "start_time": "2024-07-07T15:21:44.225Z"
   },
   {
    "duration": 0,
    "start_time": "2024-07-07T15:21:44.226Z"
   },
   {
    "duration": 0,
    "start_time": "2024-07-07T15:21:44.227Z"
   },
   {
    "duration": 0,
    "start_time": "2024-07-07T15:21:44.227Z"
   },
   {
    "duration": 0,
    "start_time": "2024-07-07T15:21:44.228Z"
   },
   {
    "duration": 1681,
    "start_time": "2024-07-07T16:04:02.092Z"
   },
   {
    "duration": 375,
    "start_time": "2024-07-07T16:08:06.487Z"
   },
   {
    "duration": 65,
    "start_time": "2024-07-07T16:08:21.828Z"
   },
   {
    "duration": 376,
    "start_time": "2024-07-07T16:09:02.109Z"
   },
   {
    "duration": 1722,
    "start_time": "2024-07-07T20:36:43.345Z"
   },
   {
    "duration": 306,
    "start_time": "2024-07-07T20:37:13.601Z"
   },
   {
    "duration": 15,
    "start_time": "2024-07-07T20:39:19.985Z"
   },
   {
    "duration": 227,
    "start_time": "2024-07-07T20:39:38.966Z"
   },
   {
    "duration": 150,
    "start_time": "2024-07-07T20:39:48.868Z"
   },
   {
    "duration": 77,
    "start_time": "2024-07-07T20:39:53.903Z"
   },
   {
    "duration": 94,
    "start_time": "2024-07-07T20:41:02.164Z"
   },
   {
    "duration": 251,
    "start_time": "2024-07-07T20:41:15.294Z"
   },
   {
    "duration": 1111,
    "start_time": "2024-07-07T20:48:44.676Z"
   },
   {
    "duration": 318,
    "start_time": "2024-07-07T20:49:12.968Z"
   },
   {
    "duration": 18,
    "start_time": "2024-07-07T20:49:17.404Z"
   },
   {
    "duration": 17,
    "start_time": "2024-07-07T20:49:20.234Z"
   },
   {
    "duration": 12,
    "start_time": "2024-07-07T20:49:23.175Z"
   },
   {
    "duration": 13,
    "start_time": "2024-07-07T20:49:25.976Z"
   },
   {
    "duration": 9,
    "start_time": "2024-07-07T20:49:31.608Z"
   },
   {
    "duration": 13,
    "start_time": "2024-07-07T20:49:36.994Z"
   },
   {
    "duration": 17,
    "start_time": "2024-07-07T20:49:39.590Z"
   },
   {
    "duration": 10,
    "start_time": "2024-07-07T20:49:42.194Z"
   },
   {
    "duration": 7,
    "start_time": "2024-07-07T20:49:44.522Z"
   },
   {
    "duration": 6,
    "start_time": "2024-07-07T20:49:48.647Z"
   },
   {
    "duration": 168,
    "start_time": "2024-07-07T20:49:51.778Z"
   },
   {
    "duration": 56,
    "start_time": "2024-07-07T20:57:44.913Z"
   },
   {
    "duration": 105,
    "start_time": "2024-07-07T20:57:58.564Z"
   },
   {
    "duration": 5,
    "start_time": "2024-07-07T20:58:32.468Z"
   },
   {
    "duration": 5,
    "start_time": "2024-07-07T20:58:44.380Z"
   },
   {
    "duration": 206,
    "start_time": "2024-07-07T20:58:44.387Z"
   },
   {
    "duration": 14,
    "start_time": "2024-07-07T20:58:44.595Z"
   },
   {
    "duration": 86,
    "start_time": "2024-07-07T20:58:44.610Z"
   },
   {
    "duration": 13,
    "start_time": "2024-07-07T20:58:44.698Z"
   },
   {
    "duration": 12,
    "start_time": "2024-07-07T20:58:44.712Z"
   },
   {
    "duration": 8,
    "start_time": "2024-07-07T20:58:44.726Z"
   },
   {
    "duration": 13,
    "start_time": "2024-07-07T20:58:44.736Z"
   },
   {
    "duration": 50,
    "start_time": "2024-07-07T20:58:44.750Z"
   },
   {
    "duration": 9,
    "start_time": "2024-07-07T20:58:44.802Z"
   },
   {
    "duration": 8,
    "start_time": "2024-07-07T20:58:44.813Z"
   },
   {
    "duration": 6,
    "start_time": "2024-07-07T20:58:44.822Z"
   },
   {
    "duration": 202,
    "start_time": "2024-07-07T20:58:44.831Z"
   },
   {
    "duration": 11,
    "start_time": "2024-07-07T20:58:45.034Z"
   },
   {
    "duration": 270,
    "start_time": "2024-07-07T20:58:45.046Z"
   },
   {
    "duration": 150,
    "start_time": "2024-07-07T20:58:45.317Z"
   },
   {
    "duration": 35,
    "start_time": "2024-07-07T20:58:45.469Z"
   },
   {
    "duration": 29,
    "start_time": "2024-07-07T20:58:45.506Z"
   },
   {
    "duration": 175,
    "start_time": "2024-07-07T20:58:45.536Z"
   },
   {
    "duration": 12,
    "start_time": "2024-07-07T20:58:45.714Z"
   },
   {
    "duration": 70,
    "start_time": "2024-07-07T20:58:45.728Z"
   },
   {
    "duration": 28,
    "start_time": "2024-07-07T20:58:45.801Z"
   },
   {
    "duration": 21,
    "start_time": "2024-07-07T20:58:45.831Z"
   },
   {
    "duration": 275,
    "start_time": "2024-07-07T20:58:45.854Z"
   },
   {
    "duration": 275,
    "start_time": "2024-07-07T20:58:46.131Z"
   },
   {
    "duration": 377,
    "start_time": "2024-07-07T20:58:46.407Z"
   },
   {
    "duration": 26,
    "start_time": "2024-07-07T20:58:46.786Z"
   },
   {
    "duration": 479,
    "start_time": "2024-07-07T20:58:46.813Z"
   },
   {
    "duration": 5,
    "start_time": "2024-07-07T20:58:47.293Z"
   },
   {
    "duration": 16,
    "start_time": "2024-07-07T20:58:47.300Z"
   },
   {
    "duration": 207,
    "start_time": "2024-07-07T20:58:47.318Z"
   },
   {
    "duration": 0,
    "start_time": "2024-07-07T20:58:47.526Z"
   },
   {
    "duration": 5,
    "start_time": "2024-07-07T21:03:54.707Z"
   },
   {
    "duration": 221,
    "start_time": "2024-07-07T21:03:54.714Z"
   },
   {
    "duration": 20,
    "start_time": "2024-07-07T21:03:54.937Z"
   },
   {
    "duration": 15,
    "start_time": "2024-07-07T21:03:54.958Z"
   },
   {
    "duration": 12,
    "start_time": "2024-07-07T21:03:54.975Z"
   },
   {
    "duration": 13,
    "start_time": "2024-07-07T21:03:54.989Z"
   },
   {
    "duration": 15,
    "start_time": "2024-07-07T21:03:55.003Z"
   },
   {
    "duration": 13,
    "start_time": "2024-07-07T21:03:55.020Z"
   },
   {
    "duration": 13,
    "start_time": "2024-07-07T21:03:55.035Z"
   },
   {
    "duration": 98,
    "start_time": "2024-07-07T21:03:55.049Z"
   },
   {
    "duration": 8,
    "start_time": "2024-07-07T21:03:55.148Z"
   },
   {
    "duration": 7,
    "start_time": "2024-07-07T21:03:55.157Z"
   },
   {
    "duration": 193,
    "start_time": "2024-07-07T21:03:55.166Z"
   },
   {
    "duration": 11,
    "start_time": "2024-07-07T21:03:55.360Z"
   },
   {
    "duration": 239,
    "start_time": "2024-07-07T21:03:55.373Z"
   },
   {
    "duration": 145,
    "start_time": "2024-07-07T21:03:55.613Z"
   },
   {
    "duration": 34,
    "start_time": "2024-07-07T21:03:55.760Z"
   },
   {
    "duration": 21,
    "start_time": "2024-07-07T21:03:55.795Z"
   },
   {
    "duration": 161,
    "start_time": "2024-07-07T21:03:55.818Z"
   },
   {
    "duration": 14,
    "start_time": "2024-07-07T21:03:55.980Z"
   },
   {
    "duration": 36,
    "start_time": "2024-07-07T21:03:55.996Z"
   },
   {
    "duration": 21,
    "start_time": "2024-07-07T21:03:56.033Z"
   },
   {
    "duration": 55,
    "start_time": "2024-07-07T21:03:56.055Z"
   },
   {
    "duration": 261,
    "start_time": "2024-07-07T21:03:56.113Z"
   },
   {
    "duration": 343,
    "start_time": "2024-07-07T21:03:56.375Z"
   },
   {
    "duration": 342,
    "start_time": "2024-07-07T21:03:56.719Z"
   },
   {
    "duration": 34,
    "start_time": "2024-07-07T21:03:57.062Z"
   },
   {
    "duration": 471,
    "start_time": "2024-07-07T21:03:57.098Z"
   },
   {
    "duration": 5,
    "start_time": "2024-07-07T21:03:57.570Z"
   },
   {
    "duration": 14,
    "start_time": "2024-07-07T21:03:57.589Z"
   },
   {
    "duration": 187,
    "start_time": "2024-07-07T21:03:57.605Z"
   },
   {
    "duration": 0,
    "start_time": "2024-07-07T21:03:57.794Z"
   },
   {
    "duration": 316,
    "start_time": "2024-07-07T21:05:31.623Z"
   },
   {
    "duration": 863,
    "start_time": "2024-07-07T21:05:41.779Z"
   },
   {
    "duration": 4,
    "start_time": "2024-07-07T21:05:49.907Z"
   },
   {
    "duration": 249,
    "start_time": "2024-07-07T21:05:49.912Z"
   },
   {
    "duration": 15,
    "start_time": "2024-07-07T21:05:50.163Z"
   },
   {
    "duration": 42,
    "start_time": "2024-07-07T21:05:50.180Z"
   },
   {
    "duration": 12,
    "start_time": "2024-07-07T21:05:50.224Z"
   },
   {
    "duration": 53,
    "start_time": "2024-07-07T21:05:50.238Z"
   },
   {
    "duration": 13,
    "start_time": "2024-07-07T21:05:50.293Z"
   },
   {
    "duration": 34,
    "start_time": "2024-07-07T21:05:50.308Z"
   },
   {
    "duration": 14,
    "start_time": "2024-07-07T21:05:50.344Z"
   },
   {
    "duration": 23,
    "start_time": "2024-07-07T21:05:50.360Z"
   },
   {
    "duration": 19,
    "start_time": "2024-07-07T21:05:50.385Z"
   },
   {
    "duration": 7,
    "start_time": "2024-07-07T21:05:50.405Z"
   },
   {
    "duration": 214,
    "start_time": "2024-07-07T21:05:50.413Z"
   },
   {
    "duration": 11,
    "start_time": "2024-07-07T21:05:50.628Z"
   },
   {
    "duration": 249,
    "start_time": "2024-07-07T21:05:50.640Z"
   },
   {
    "duration": 143,
    "start_time": "2024-07-07T21:05:50.891Z"
   },
   {
    "duration": 27,
    "start_time": "2024-07-07T21:05:51.036Z"
   },
   {
    "duration": 92,
    "start_time": "2024-07-07T21:05:51.064Z"
   },
   {
    "duration": 149,
    "start_time": "2024-07-07T21:05:51.158Z"
   },
   {
    "duration": 9,
    "start_time": "2024-07-07T21:05:51.309Z"
   },
   {
    "duration": 42,
    "start_time": "2024-07-07T21:05:51.320Z"
   },
   {
    "duration": 28,
    "start_time": "2024-07-07T21:05:51.363Z"
   },
   {
    "duration": 19,
    "start_time": "2024-07-07T21:05:51.392Z"
   },
   {
    "duration": 357,
    "start_time": "2024-07-07T21:05:51.412Z"
   },
   {
    "duration": 299,
    "start_time": "2024-07-07T21:05:51.770Z"
   },
   {
    "duration": 342,
    "start_time": "2024-07-07T21:05:52.071Z"
   },
   {
    "duration": 26,
    "start_time": "2024-07-07T21:05:52.415Z"
   },
   {
    "duration": 429,
    "start_time": "2024-07-07T21:05:52.442Z"
   },
   {
    "duration": 5,
    "start_time": "2024-07-07T21:05:52.873Z"
   },
   {
    "duration": 46,
    "start_time": "2024-07-07T21:05:52.879Z"
   },
   {
    "duration": 379,
    "start_time": "2024-07-07T21:05:52.926Z"
   },
   {
    "duration": 861,
    "start_time": "2024-07-07T21:05:53.307Z"
   },
   {
    "duration": 266,
    "start_time": "2024-07-07T21:09:47.386Z"
   },
   {
    "duration": 402,
    "start_time": "2024-07-07T21:15:35.821Z"
   },
   {
    "duration": 337,
    "start_time": "2024-07-07T21:15:59.085Z"
   },
   {
    "duration": 393,
    "start_time": "2024-07-07T21:18:35.970Z"
   },
   {
    "duration": 324,
    "start_time": "2024-07-07T21:18:46.087Z"
   },
   {
    "duration": 289,
    "start_time": "2024-07-07T21:18:53.783Z"
   },
   {
    "duration": 327,
    "start_time": "2024-07-07T21:19:00.042Z"
   },
   {
    "duration": 927,
    "start_time": "2024-07-07T21:19:15.792Z"
   },
   {
    "duration": 4,
    "start_time": "2024-07-07T21:27:27.967Z"
   },
   {
    "duration": 203,
    "start_time": "2024-07-07T21:27:27.973Z"
   },
   {
    "duration": 15,
    "start_time": "2024-07-07T21:27:28.177Z"
   },
   {
    "duration": 20,
    "start_time": "2024-07-07T21:27:28.193Z"
   },
   {
    "duration": 17,
    "start_time": "2024-07-07T21:27:28.215Z"
   },
   {
    "duration": 17,
    "start_time": "2024-07-07T21:27:28.234Z"
   },
   {
    "duration": 45,
    "start_time": "2024-07-07T21:27:28.253Z"
   },
   {
    "duration": 17,
    "start_time": "2024-07-07T21:27:28.299Z"
   },
   {
    "duration": 17,
    "start_time": "2024-07-07T21:27:28.318Z"
   },
   {
    "duration": 7,
    "start_time": "2024-07-07T21:27:28.336Z"
   },
   {
    "duration": 24,
    "start_time": "2024-07-07T21:27:28.345Z"
   },
   {
    "duration": 6,
    "start_time": "2024-07-07T21:27:28.393Z"
   },
   {
    "duration": 182,
    "start_time": "2024-07-07T21:27:28.403Z"
   },
   {
    "duration": 14,
    "start_time": "2024-07-07T21:27:28.589Z"
   },
   {
    "duration": 242,
    "start_time": "2024-07-07T21:27:28.605Z"
   },
   {
    "duration": 148,
    "start_time": "2024-07-07T21:27:28.849Z"
   },
   {
    "duration": 23,
    "start_time": "2024-07-07T21:27:28.999Z"
   },
   {
    "duration": 21,
    "start_time": "2024-07-07T21:27:29.023Z"
   },
   {
    "duration": 170,
    "start_time": "2024-07-07T21:27:29.046Z"
   },
   {
    "duration": 12,
    "start_time": "2024-07-07T21:27:29.217Z"
   },
   {
    "duration": 60,
    "start_time": "2024-07-07T21:27:29.231Z"
   },
   {
    "duration": 19,
    "start_time": "2024-07-07T21:27:29.293Z"
   },
   {
    "duration": 19,
    "start_time": "2024-07-07T21:27:29.313Z"
   },
   {
    "duration": 360,
    "start_time": "2024-07-07T21:27:29.333Z"
   },
   {
    "duration": 282,
    "start_time": "2024-07-07T21:27:29.695Z"
   },
   {
    "duration": 352,
    "start_time": "2024-07-07T21:27:29.989Z"
   },
   {
    "duration": 31,
    "start_time": "2024-07-07T21:27:30.342Z"
   },
   {
    "duration": 648,
    "start_time": "2024-07-07T21:27:30.374Z"
   },
   {
    "duration": 4,
    "start_time": "2024-07-07T21:27:31.024Z"
   },
   {
    "duration": 92,
    "start_time": "2024-07-07T21:27:31.029Z"
   },
   {
    "duration": 481,
    "start_time": "2024-07-07T21:27:31.122Z"
   },
   {
    "duration": 882,
    "start_time": "2024-07-07T21:27:31.605Z"
   },
   {
    "duration": 2327,
    "start_time": "2024-07-08T10:51:44.897Z"
   },
   {
    "duration": 412,
    "start_time": "2024-07-08T10:51:47.227Z"
   },
   {
    "duration": 52,
    "start_time": "2024-07-08T10:51:47.641Z"
   },
   {
    "duration": 29,
    "start_time": "2024-07-08T10:51:47.695Z"
   },
   {
    "duration": 84,
    "start_time": "2024-07-08T10:51:47.728Z"
   },
   {
    "duration": 94,
    "start_time": "2024-07-08T10:51:47.814Z"
   },
   {
    "duration": 37,
    "start_time": "2024-07-08T10:51:47.910Z"
   },
   {
    "duration": 17,
    "start_time": "2024-07-08T10:51:47.992Z"
   },
   {
    "duration": 87,
    "start_time": "2024-07-08T10:51:48.011Z"
   },
   {
    "duration": 13,
    "start_time": "2024-07-08T10:51:48.100Z"
   },
   {
    "duration": 81,
    "start_time": "2024-07-08T10:51:48.115Z"
   },
   {
    "duration": 7,
    "start_time": "2024-07-08T10:51:48.198Z"
   },
   {
    "duration": 488,
    "start_time": "2024-07-08T10:51:48.207Z"
   },
   {
    "duration": 20,
    "start_time": "2024-07-08T10:51:48.700Z"
   },
   {
    "duration": 685,
    "start_time": "2024-07-08T10:51:48.722Z"
   },
   {
    "duration": 424,
    "start_time": "2024-07-08T10:51:49.409Z"
   },
   {
    "duration": 95,
    "start_time": "2024-07-08T10:51:49.835Z"
   },
   {
    "duration": 103,
    "start_time": "2024-07-08T10:51:49.993Z"
   },
   {
    "duration": 505,
    "start_time": "2024-07-08T10:51:50.099Z"
   },
   {
    "duration": 18,
    "start_time": "2024-07-08T10:51:50.607Z"
   },
   {
    "duration": 107,
    "start_time": "2024-07-08T10:51:50.628Z"
   },
   {
    "duration": 32,
    "start_time": "2024-07-08T10:51:50.792Z"
   },
   {
    "duration": 36,
    "start_time": "2024-07-08T10:51:50.891Z"
   },
   {
    "duration": 775,
    "start_time": "2024-07-08T10:51:50.930Z"
   },
   {
    "duration": 408,
    "start_time": "2024-07-08T10:51:51.707Z"
   },
   {
    "duration": 488,
    "start_time": "2024-07-08T10:51:52.117Z"
   },
   {
    "duration": 33,
    "start_time": "2024-07-08T10:51:52.607Z"
   },
   {
    "duration": 564,
    "start_time": "2024-07-08T10:51:52.642Z"
   },
   {
    "duration": 6,
    "start_time": "2024-07-08T10:51:53.208Z"
   },
   {
    "duration": 18,
    "start_time": "2024-07-08T10:51:53.216Z"
   },
   {
    "duration": 132,
    "start_time": "2024-07-08T10:51:53.236Z"
   },
   {
    "duration": 0,
    "start_time": "2024-07-08T10:51:53.370Z"
   },
   {
    "duration": 10,
    "start_time": "2024-07-08T13:07:02.659Z"
   },
   {
    "duration": 963,
    "start_time": "2024-07-08T13:13:33.457Z"
   },
   {
    "duration": 52,
    "start_time": "2024-07-08T15:16:30.316Z"
   },
   {
    "duration": 1348,
    "start_time": "2024-07-08T15:16:35.615Z"
   },
   {
    "duration": 342,
    "start_time": "2024-07-08T15:16:36.965Z"
   },
   {
    "duration": 29,
    "start_time": "2024-07-08T15:16:37.308Z"
   },
   {
    "duration": 16,
    "start_time": "2024-07-08T15:16:37.339Z"
   },
   {
    "duration": 17,
    "start_time": "2024-07-08T15:16:37.356Z"
   },
   {
    "duration": 12,
    "start_time": "2024-07-08T15:16:37.374Z"
   },
   {
    "duration": 30,
    "start_time": "2024-07-08T15:16:37.387Z"
   },
   {
    "duration": 5,
    "start_time": "2024-07-08T15:16:40.974Z"
   },
   {
    "duration": 7,
    "start_time": "2024-07-08T15:18:45.211Z"
   },
   {
    "duration": 59,
    "start_time": "2024-07-08T15:20:40.229Z"
   },
   {
    "duration": 5,
    "start_time": "2024-07-08T15:22:35.252Z"
   },
   {
    "duration": 3,
    "start_time": "2024-07-08T15:22:51.767Z"
   },
   {
    "duration": 331,
    "start_time": "2024-07-08T15:22:51.772Z"
   },
   {
    "duration": 16,
    "start_time": "2024-07-08T15:22:52.104Z"
   },
   {
    "duration": 15,
    "start_time": "2024-07-08T15:22:52.122Z"
   },
   {
    "duration": 12,
    "start_time": "2024-07-08T15:22:52.138Z"
   },
   {
    "duration": 12,
    "start_time": "2024-07-08T15:22:52.151Z"
   },
   {
    "duration": 9,
    "start_time": "2024-07-08T15:22:52.165Z"
   },
   {
    "duration": 9,
    "start_time": "2024-07-08T15:22:52.175Z"
   },
   {
    "duration": 367,
    "start_time": "2024-07-08T15:35:13.381Z"
   },
   {
    "duration": 14,
    "start_time": "2024-07-08T15:39:30.257Z"
   },
   {
    "duration": 9,
    "start_time": "2024-07-08T15:40:40.557Z"
   },
   {
    "duration": 11,
    "start_time": "2024-07-08T15:41:47.599Z"
   },
   {
    "duration": 13,
    "start_time": "2024-07-08T15:43:17.983Z"
   },
   {
    "duration": 12,
    "start_time": "2024-07-08T15:43:41.383Z"
   },
   {
    "duration": 13,
    "start_time": "2024-07-08T15:45:55.570Z"
   },
   {
    "duration": 13,
    "start_time": "2024-07-08T15:46:24.845Z"
   },
   {
    "duration": 12,
    "start_time": "2024-07-08T15:47:12.445Z"
   },
   {
    "duration": 18,
    "start_time": "2024-07-08T15:47:18.536Z"
   },
   {
    "duration": 77,
    "start_time": "2024-07-08T15:51:07.231Z"
   },
   {
    "duration": 9,
    "start_time": "2024-07-08T15:51:10.978Z"
   },
   {
    "duration": 21,
    "start_time": "2024-07-08T15:51:23.429Z"
   },
   {
    "duration": 15,
    "start_time": "2024-07-08T15:51:29.329Z"
   },
   {
    "duration": 12,
    "start_time": "2024-07-08T15:51:49.084Z"
   },
   {
    "duration": 14,
    "start_time": "2024-07-08T15:52:00.979Z"
   },
   {
    "duration": 17,
    "start_time": "2024-07-08T15:52:16.774Z"
   },
   {
    "duration": 11,
    "start_time": "2024-07-08T15:52:44.755Z"
   },
   {
    "duration": 87,
    "start_time": "2024-07-08T15:53:45.499Z"
   },
   {
    "duration": 164,
    "start_time": "2024-07-08T15:53:53.418Z"
   },
   {
    "duration": 139,
    "start_time": "2024-07-08T15:54:18.134Z"
   },
   {
    "duration": 141,
    "start_time": "2024-07-08T15:54:47.219Z"
   },
   {
    "duration": 159,
    "start_time": "2024-07-08T15:56:13.621Z"
   },
   {
    "duration": 168,
    "start_time": "2024-07-08T15:56:25.918Z"
   },
   {
    "duration": 10,
    "start_time": "2024-07-08T17:20:43.497Z"
   },
   {
    "duration": 6,
    "start_time": "2024-07-08T17:21:02.915Z"
   },
   {
    "duration": 518,
    "start_time": "2024-07-08T17:21:02.926Z"
   },
   {
    "duration": 14,
    "start_time": "2024-07-08T17:21:03.446Z"
   },
   {
    "duration": 28,
    "start_time": "2024-07-08T17:21:03.461Z"
   },
   {
    "duration": 13,
    "start_time": "2024-07-08T17:21:03.491Z"
   },
   {
    "duration": 17,
    "start_time": "2024-07-08T17:21:03.505Z"
   },
   {
    "duration": 6,
    "start_time": "2024-07-08T17:21:03.524Z"
   },
   {
    "duration": 10,
    "start_time": "2024-07-08T17:21:03.531Z"
   },
   {
    "duration": 16,
    "start_time": "2024-07-08T17:21:03.543Z"
   },
   {
    "duration": 14,
    "start_time": "2024-07-08T17:21:03.561Z"
   },
   {
    "duration": 35,
    "start_time": "2024-07-08T17:21:03.578Z"
   },
   {
    "duration": 12,
    "start_time": "2024-07-08T17:21:03.614Z"
   },
   {
    "duration": 6,
    "start_time": "2024-07-08T17:21:03.628Z"
   },
   {
    "duration": 327,
    "start_time": "2024-07-08T17:21:03.636Z"
   },
   {
    "duration": 140,
    "start_time": "2024-07-08T17:21:03.964Z"
   },
   {
    "duration": 218,
    "start_time": "2024-07-08T17:21:04.106Z"
   },
   {
    "duration": 202,
    "start_time": "2024-07-08T17:21:04.333Z"
   },
   {
    "duration": 29,
    "start_time": "2024-07-08T17:21:04.536Z"
   },
   {
    "duration": 20,
    "start_time": "2024-07-08T17:21:04.567Z"
   },
   {
    "duration": 167,
    "start_time": "2024-07-08T17:21:04.588Z"
   },
   {
    "duration": 9,
    "start_time": "2024-07-08T17:21:04.757Z"
   },
   {
    "duration": 32,
    "start_time": "2024-07-08T17:21:04.768Z"
   },
   {
    "duration": 3,
    "start_time": "2024-07-08T17:21:10.298Z"
   },
   {
    "duration": 7,
    "start_time": "2024-07-08T17:21:28.184Z"
   },
   {
    "duration": 9,
    "start_time": "2024-07-08T17:23:14.447Z"
   },
   {
    "duration": 8,
    "start_time": "2024-07-08T17:23:22.329Z"
   },
   {
    "duration": 12,
    "start_time": "2024-07-08T17:28:26.608Z"
   },
   {
    "duration": 3,
    "start_time": "2024-07-08T17:28:31.274Z"
   },
   {
    "duration": 310,
    "start_time": "2024-07-08T17:28:31.280Z"
   },
   {
    "duration": 18,
    "start_time": "2024-07-08T17:28:31.592Z"
   },
   {
    "duration": 67,
    "start_time": "2024-07-08T17:28:31.612Z"
   },
   {
    "duration": 18,
    "start_time": "2024-07-08T17:28:31.681Z"
   },
   {
    "duration": 23,
    "start_time": "2024-07-08T17:28:31.701Z"
   },
   {
    "duration": 56,
    "start_time": "2024-07-08T17:28:31.726Z"
   },
   {
    "duration": 30,
    "start_time": "2024-07-08T17:28:31.784Z"
   },
   {
    "duration": 16,
    "start_time": "2024-07-08T17:28:31.816Z"
   },
   {
    "duration": 56,
    "start_time": "2024-07-08T17:28:31.834Z"
   },
   {
    "duration": 53,
    "start_time": "2024-07-08T17:28:31.894Z"
   },
   {
    "duration": 10,
    "start_time": "2024-07-08T17:28:31.949Z"
   },
   {
    "duration": 10,
    "start_time": "2024-07-08T17:28:31.961Z"
   },
   {
    "duration": 316,
    "start_time": "2024-07-08T17:28:31.973Z"
   },
   {
    "duration": 221,
    "start_time": "2024-07-08T17:28:32.291Z"
   },
   {
    "duration": 242,
    "start_time": "2024-07-08T17:28:32.514Z"
   },
   {
    "duration": 155,
    "start_time": "2024-07-08T17:28:32.758Z"
   },
   {
    "duration": 23,
    "start_time": "2024-07-08T17:28:32.914Z"
   },
   {
    "duration": 22,
    "start_time": "2024-07-08T17:28:32.938Z"
   },
   {
    "duration": 179,
    "start_time": "2024-07-08T17:28:32.961Z"
   },
   {
    "duration": 16,
    "start_time": "2024-07-08T17:28:33.142Z"
   },
   {
    "duration": 98,
    "start_time": "2024-07-08T17:28:33.161Z"
   },
   {
    "duration": 9,
    "start_time": "2024-07-08T17:28:33.261Z"
   },
   {
    "duration": 23,
    "start_time": "2024-07-08T17:28:33.271Z"
   },
   {
    "duration": 35,
    "start_time": "2024-07-08T17:28:33.296Z"
   },
   {
    "duration": 340,
    "start_time": "2024-07-08T17:28:33.333Z"
   },
   {
    "duration": 1712,
    "start_time": "2024-07-08T17:28:44.258Z"
   },
   {
    "duration": 186,
    "start_time": "2024-07-08T17:29:12.642Z"
   },
   {
    "duration": 271,
    "start_time": "2024-07-08T17:29:43.068Z"
   },
   {
    "duration": 400,
    "start_time": "2024-07-08T17:32:53.289Z"
   },
   {
    "duration": 294,
    "start_time": "2024-07-08T17:33:09.165Z"
   },
   {
    "duration": 315,
    "start_time": "2024-07-08T17:33:15.016Z"
   },
   {
    "duration": 320,
    "start_time": "2024-07-08T17:33:29.575Z"
   },
   {
    "duration": 303,
    "start_time": "2024-07-08T17:33:40.825Z"
   },
   {
    "duration": 60,
    "start_time": "2024-07-08T17:35:02.305Z"
   },
   {
    "duration": 310,
    "start_time": "2024-07-08T17:37:58.435Z"
   },
   {
    "duration": 465,
    "start_time": "2024-07-08T17:39:22.704Z"
   },
   {
    "duration": 331,
    "start_time": "2024-07-08T17:41:13.997Z"
   },
   {
    "duration": 221,
    "start_time": "2024-07-08T17:41:29.800Z"
   },
   {
    "duration": 267,
    "start_time": "2024-07-08T17:43:43.084Z"
   },
   {
    "duration": 254,
    "start_time": "2024-07-08T17:48:43.681Z"
   },
   {
    "duration": 333,
    "start_time": "2024-07-08T17:48:53.032Z"
   },
   {
    "duration": 1166,
    "start_time": "2024-07-08T22:14:58.007Z"
   },
   {
    "duration": 687,
    "start_time": "2024-07-08T22:14:59.176Z"
   },
   {
    "duration": 17,
    "start_time": "2024-07-08T22:14:59.864Z"
   },
   {
    "duration": 15,
    "start_time": "2024-07-08T22:14:59.883Z"
   },
   {
    "duration": 11,
    "start_time": "2024-07-08T22:14:59.899Z"
   },
   {
    "duration": 11,
    "start_time": "2024-07-08T22:14:59.911Z"
   },
   {
    "duration": 4,
    "start_time": "2024-07-08T22:14:59.923Z"
   },
   {
    "duration": 8,
    "start_time": "2024-07-08T22:14:59.929Z"
   },
   {
    "duration": 11,
    "start_time": "2024-07-08T22:14:59.938Z"
   },
   {
    "duration": 10,
    "start_time": "2024-07-08T22:14:59.951Z"
   },
   {
    "duration": 42,
    "start_time": "2024-07-08T22:14:59.962Z"
   },
   {
    "duration": 7,
    "start_time": "2024-07-08T22:15:00.005Z"
   },
   {
    "duration": 20,
    "start_time": "2024-07-08T22:15:00.013Z"
   },
   {
    "duration": 396,
    "start_time": "2024-07-08T22:15:00.034Z"
   },
   {
    "duration": 148,
    "start_time": "2024-07-08T22:15:00.431Z"
   },
   {
    "duration": 189,
    "start_time": "2024-07-08T22:15:00.581Z"
   },
   {
    "duration": 142,
    "start_time": "2024-07-08T22:15:00.771Z"
   },
   {
    "duration": 26,
    "start_time": "2024-07-08T22:15:00.915Z"
   },
   {
    "duration": 40,
    "start_time": "2024-07-08T22:15:00.942Z"
   },
   {
    "duration": 158,
    "start_time": "2024-07-08T22:15:00.986Z"
   },
   {
    "duration": 9,
    "start_time": "2024-07-08T22:15:01.145Z"
   },
   {
    "duration": 71,
    "start_time": "2024-07-08T22:15:01.155Z"
   },
   {
    "duration": 13,
    "start_time": "2024-07-08T22:15:01.228Z"
   },
   {
    "duration": 40,
    "start_time": "2024-07-08T22:15:01.242Z"
   },
   {
    "duration": 36,
    "start_time": "2024-07-08T22:15:01.283Z"
   },
   {
    "duration": 295,
    "start_time": "2024-07-08T22:15:01.320Z"
   },
   {
    "duration": 293,
    "start_time": "2024-07-08T22:15:01.617Z"
   },
   {
    "duration": 307,
    "start_time": "2024-07-08T22:15:01.912Z"
   },
   {
    "duration": 250,
    "start_time": "2024-07-08T22:15:02.220Z"
   },
   {
    "duration": 299,
    "start_time": "2024-07-08T22:15:30.308Z"
   },
   {
    "duration": 265,
    "start_time": "2024-07-08T22:22:15.849Z"
   },
   {
    "duration": 357,
    "start_time": "2024-07-08T22:23:15.184Z"
   },
   {
    "duration": 331,
    "start_time": "2024-07-08T22:25:56.851Z"
   },
   {
    "duration": 475,
    "start_time": "2024-07-08T22:27:11.189Z"
   },
   {
    "duration": 468,
    "start_time": "2024-07-08T22:28:06.299Z"
   },
   {
    "duration": 531,
    "start_time": "2024-07-08T22:28:42.353Z"
   },
   {
    "duration": 1111,
    "start_time": "2024-07-08T22:29:24.062Z"
   },
   {
    "duration": 312,
    "start_time": "2024-07-08T22:29:30.540Z"
   },
   {
    "duration": 279,
    "start_time": "2024-07-08T22:30:19.926Z"
   },
   {
    "duration": 264,
    "start_time": "2024-07-08T22:30:58.014Z"
   },
   {
    "duration": 557,
    "start_time": "2024-07-08T22:31:06.795Z"
   },
   {
    "duration": 282,
    "start_time": "2024-07-08T22:34:27.484Z"
   },
   {
    "duration": 320,
    "start_time": "2024-07-08T22:35:16.823Z"
   },
   {
    "duration": 327,
    "start_time": "2024-07-08T22:35:49.133Z"
   },
   {
    "duration": 278,
    "start_time": "2024-07-08T22:36:16.913Z"
   },
   {
    "duration": 256,
    "start_time": "2024-07-08T22:38:07.672Z"
   },
   {
    "duration": 269,
    "start_time": "2024-07-08T22:38:17.397Z"
   },
   {
    "duration": 306,
    "start_time": "2024-07-08T22:46:30.769Z"
   },
   {
    "duration": 380,
    "start_time": "2024-07-08T22:47:07.858Z"
   },
   {
    "duration": 310,
    "start_time": "2024-07-08T22:47:47.675Z"
   },
   {
    "duration": 322,
    "start_time": "2024-07-08T22:50:13.161Z"
   },
   {
    "duration": 51,
    "start_time": "2024-07-08T22:50:35.453Z"
   },
   {
    "duration": 299,
    "start_time": "2024-07-08T22:51:11.705Z"
   },
   {
    "duration": 93,
    "start_time": "2024-07-08T22:51:47.807Z"
   },
   {
    "duration": 312,
    "start_time": "2024-07-08T22:52:35.384Z"
   },
   {
    "duration": 353,
    "start_time": "2024-07-08T22:54:13.544Z"
   },
   {
    "duration": 326,
    "start_time": "2024-07-08T23:01:58.399Z"
   },
   {
    "duration": 308,
    "start_time": "2024-07-08T23:02:14.315Z"
   },
   {
    "duration": 4,
    "start_time": "2024-07-08T23:04:02.351Z"
   },
   {
    "duration": 326,
    "start_time": "2024-07-08T23:04:02.356Z"
   },
   {
    "duration": 13,
    "start_time": "2024-07-08T23:04:02.684Z"
   },
   {
    "duration": 14,
    "start_time": "2024-07-08T23:04:02.698Z"
   },
   {
    "duration": 11,
    "start_time": "2024-07-08T23:04:02.714Z"
   },
   {
    "duration": 15,
    "start_time": "2024-07-08T23:04:02.726Z"
   },
   {
    "duration": 22,
    "start_time": "2024-07-08T23:04:02.743Z"
   },
   {
    "duration": 21,
    "start_time": "2024-07-08T23:04:02.767Z"
   },
   {
    "duration": 15,
    "start_time": "2024-07-08T23:04:02.789Z"
   },
   {
    "duration": 20,
    "start_time": "2024-07-08T23:04:02.806Z"
   },
   {
    "duration": 7,
    "start_time": "2024-07-08T23:04:02.829Z"
   },
   {
    "duration": 18,
    "start_time": "2024-07-08T23:04:02.837Z"
   },
   {
    "duration": 94,
    "start_time": "2024-07-08T23:04:02.856Z"
   },
   {
    "duration": 279,
    "start_time": "2024-07-08T23:04:02.951Z"
   },
   {
    "duration": 173,
    "start_time": "2024-07-08T23:04:03.231Z"
   },
   {
    "duration": 181,
    "start_time": "2024-07-08T23:04:03.405Z"
   },
   {
    "duration": 131,
    "start_time": "2024-07-08T23:04:03.588Z"
   },
   {
    "duration": 20,
    "start_time": "2024-07-08T23:04:03.721Z"
   },
   {
    "duration": 20,
    "start_time": "2024-07-08T23:04:03.743Z"
   },
   {
    "duration": 153,
    "start_time": "2024-07-08T23:04:03.765Z"
   },
   {
    "duration": 10,
    "start_time": "2024-07-08T23:04:03.919Z"
   },
   {
    "duration": 189,
    "start_time": "2024-07-08T23:04:03.931Z"
   },
   {
    "duration": 14,
    "start_time": "2024-07-08T23:04:04.122Z"
   },
   {
    "duration": 39,
    "start_time": "2024-07-08T23:04:04.138Z"
   },
   {
    "duration": 17,
    "start_time": "2024-07-08T23:04:04.178Z"
   },
   {
    "duration": 258,
    "start_time": "2024-07-08T23:04:04.197Z"
   },
   {
    "duration": 306,
    "start_time": "2024-07-08T23:04:04.457Z"
   },
   {
    "duration": 240,
    "start_time": "2024-07-08T23:04:04.765Z"
   },
   {
    "duration": 282,
    "start_time": "2024-07-08T23:04:05.008Z"
   },
   {
    "duration": 19,
    "start_time": "2024-07-08T23:04:10.256Z"
   },
   {
    "duration": 22,
    "start_time": "2024-07-08T23:04:44.049Z"
   },
   {
    "duration": 7,
    "start_time": "2024-07-08T23:13:14.997Z"
   },
   {
    "duration": 1041,
    "start_time": "2024-07-08T23:19:29.830Z"
   },
   {
    "duration": 21,
    "start_time": "2024-07-08T23:21:34.844Z"
   },
   {
    "duration": 24,
    "start_time": "2024-07-08T23:23:23.355Z"
   },
   {
    "duration": 17,
    "start_time": "2024-07-08T23:23:29.896Z"
   },
   {
    "duration": 25,
    "start_time": "2024-07-08T23:23:39.138Z"
   },
   {
    "duration": 25,
    "start_time": "2024-07-08T23:23:51.957Z"
   },
   {
    "duration": 70,
    "start_time": "2024-07-08T23:30:02.189Z"
   },
   {
    "duration": 918,
    "start_time": "2024-07-08T23:35:08.700Z"
   },
   {
    "duration": 981,
    "start_time": "2024-07-08T23:36:08.277Z"
   },
   {
    "duration": 921,
    "start_time": "2024-07-08T23:41:16.140Z"
   },
   {
    "duration": 4,
    "start_time": "2024-07-08T23:43:39.321Z"
   },
   {
    "duration": 3,
    "start_time": "2024-07-08T23:43:48.043Z"
   },
   {
    "duration": 3,
    "start_time": "2024-07-08T23:43:57.065Z"
   },
   {
    "duration": 4,
    "start_time": "2024-07-08T23:44:03.042Z"
   },
   {
    "duration": 4,
    "start_time": "2024-07-08T23:44:10.263Z"
   },
   {
    "duration": 5,
    "start_time": "2024-07-08T23:44:17.824Z"
   },
   {
    "duration": 934,
    "start_time": "2024-07-08T23:44:34.256Z"
   },
   {
    "duration": 284,
    "start_time": "2024-07-08T23:47:54.521Z"
   },
   {
    "duration": 295,
    "start_time": "2024-07-08T23:49:25.730Z"
   },
   {
    "duration": 338,
    "start_time": "2024-07-08T23:51:32.156Z"
   },
   {
    "duration": 4,
    "start_time": "2024-07-09T00:03:49.930Z"
   },
   {
    "duration": 7,
    "start_time": "2024-07-09T00:11:54.892Z"
   },
   {
    "duration": 10,
    "start_time": "2024-07-09T00:15:43.403Z"
   },
   {
    "duration": 3,
    "start_time": "2024-07-09T00:16:47.944Z"
   },
   {
    "duration": 3,
    "start_time": "2024-07-09T00:17:32.548Z"
   },
   {
    "duration": 514,
    "start_time": "2024-07-09T00:17:32.553Z"
   },
   {
    "duration": 12,
    "start_time": "2024-07-09T00:17:33.068Z"
   },
   {
    "duration": 16,
    "start_time": "2024-07-09T00:17:33.081Z"
   },
   {
    "duration": 10,
    "start_time": "2024-07-09T00:17:33.098Z"
   },
   {
    "duration": 10,
    "start_time": "2024-07-09T00:17:33.109Z"
   },
   {
    "duration": 51,
    "start_time": "2024-07-09T00:17:33.120Z"
   },
   {
    "duration": 62,
    "start_time": "2024-07-09T00:17:33.172Z"
   },
   {
    "duration": 12,
    "start_time": "2024-07-09T00:17:33.236Z"
   },
   {
    "duration": 12,
    "start_time": "2024-07-09T00:17:33.250Z"
   },
   {
    "duration": 7,
    "start_time": "2024-07-09T00:17:33.263Z"
   },
   {
    "duration": 7,
    "start_time": "2024-07-09T00:17:33.271Z"
   },
   {
    "duration": 5,
    "start_time": "2024-07-09T00:17:33.280Z"
   },
   {
    "duration": 286,
    "start_time": "2024-07-09T00:17:33.286Z"
   },
   {
    "duration": 118,
    "start_time": "2024-07-09T00:17:33.573Z"
   },
   {
    "duration": 195,
    "start_time": "2024-07-09T00:17:33.692Z"
   },
   {
    "duration": 125,
    "start_time": "2024-07-09T00:17:33.889Z"
   },
   {
    "duration": 19,
    "start_time": "2024-07-09T00:17:34.015Z"
   },
   {
    "duration": 18,
    "start_time": "2024-07-09T00:17:34.035Z"
   },
   {
    "duration": 137,
    "start_time": "2024-07-09T00:17:34.054Z"
   },
   {
    "duration": 14,
    "start_time": "2024-07-09T00:17:34.192Z"
   },
   {
    "duration": 29,
    "start_time": "2024-07-09T00:17:34.207Z"
   },
   {
    "duration": 6,
    "start_time": "2024-07-09T00:17:34.237Z"
   },
   {
    "duration": 25,
    "start_time": "2024-07-09T00:17:34.246Z"
   },
   {
    "duration": 17,
    "start_time": "2024-07-09T00:17:34.272Z"
   },
   {
    "duration": 240,
    "start_time": "2024-07-09T00:17:34.290Z"
   },
   {
    "duration": 304,
    "start_time": "2024-07-09T00:17:34.531Z"
   },
   {
    "duration": 233,
    "start_time": "2024-07-09T00:17:34.837Z"
   },
   {
    "duration": 259,
    "start_time": "2024-07-09T00:17:35.071Z"
   },
   {
    "duration": 22,
    "start_time": "2024-07-09T00:17:35.331Z"
   },
   {
    "duration": 899,
    "start_time": "2024-07-09T00:17:35.355Z"
   },
   {
    "duration": 236,
    "start_time": "2024-07-09T00:17:36.255Z"
   },
   {
    "duration": 386,
    "start_time": "2024-07-09T00:17:36.502Z"
   },
   {
    "duration": 374,
    "start_time": "2024-07-09T00:17:36.889Z"
   },
   {
    "duration": 4,
    "start_time": "2024-07-09T00:17:37.264Z"
   },
   {
    "duration": 13,
    "start_time": "2024-07-09T00:17:37.269Z"
   },
   {
    "duration": 288,
    "start_time": "2024-07-09T00:17:48.315Z"
   },
   {
    "duration": 4,
    "start_time": "2024-07-09T00:52:49.206Z"
   },
   {
    "duration": 305,
    "start_time": "2024-07-09T00:52:49.212Z"
   },
   {
    "duration": 13,
    "start_time": "2024-07-09T00:52:49.518Z"
   },
   {
    "duration": 32,
    "start_time": "2024-07-09T00:52:49.532Z"
   },
   {
    "duration": 13,
    "start_time": "2024-07-09T00:52:49.566Z"
   },
   {
    "duration": 40,
    "start_time": "2024-07-09T00:52:49.581Z"
   },
   {
    "duration": 5,
    "start_time": "2024-07-09T00:52:49.622Z"
   },
   {
    "duration": 14,
    "start_time": "2024-07-09T00:52:49.628Z"
   },
   {
    "duration": 11,
    "start_time": "2024-07-09T00:52:49.643Z"
   },
   {
    "duration": 11,
    "start_time": "2024-07-09T00:52:49.656Z"
   },
   {
    "duration": 39,
    "start_time": "2024-07-09T00:52:49.669Z"
   },
   {
    "duration": 19,
    "start_time": "2024-07-09T00:52:49.709Z"
   },
   {
    "duration": 36,
    "start_time": "2024-07-09T00:52:49.729Z"
   },
   {
    "duration": 307,
    "start_time": "2024-07-09T00:52:49.766Z"
   },
   {
    "duration": 128,
    "start_time": "2024-07-09T00:52:50.074Z"
   },
   {
    "duration": 207,
    "start_time": "2024-07-09T00:52:50.203Z"
   },
   {
    "duration": 133,
    "start_time": "2024-07-09T00:52:50.412Z"
   },
   {
    "duration": 19,
    "start_time": "2024-07-09T00:52:50.546Z"
   },
   {
    "duration": 28,
    "start_time": "2024-07-09T00:52:50.566Z"
   },
   {
    "duration": 136,
    "start_time": "2024-07-09T00:52:50.601Z"
   },
   {
    "duration": 8,
    "start_time": "2024-07-09T00:52:50.738Z"
   },
   {
    "duration": 78,
    "start_time": "2024-07-09T00:52:50.747Z"
   },
   {
    "duration": 6,
    "start_time": "2024-07-09T00:52:50.826Z"
   },
   {
    "duration": 21,
    "start_time": "2024-07-09T00:52:50.833Z"
   },
   {
    "duration": 15,
    "start_time": "2024-07-09T00:52:50.856Z"
   },
   {
    "duration": 244,
    "start_time": "2024-07-09T00:52:50.874Z"
   },
   {
    "duration": 308,
    "start_time": "2024-07-09T00:52:51.119Z"
   },
   {
    "duration": 320,
    "start_time": "2024-07-09T00:52:51.428Z"
   },
   {
    "duration": 239,
    "start_time": "2024-07-09T00:52:51.749Z"
   },
   {
    "duration": 25,
    "start_time": "2024-07-09T00:52:51.989Z"
   },
   {
    "duration": 897,
    "start_time": "2024-07-09T00:52:52.015Z"
   },
   {
    "duration": 227,
    "start_time": "2024-07-09T00:52:52.914Z"
   },
   {
    "duration": 303,
    "start_time": "2024-07-09T00:52:53.143Z"
   },
   {
    "duration": 412,
    "start_time": "2024-07-09T00:52:53.447Z"
   },
   {
    "duration": 3,
    "start_time": "2024-07-09T00:52:53.860Z"
   },
   {
    "duration": 10,
    "start_time": "2024-07-09T00:52:53.865Z"
   },
   {
    "duration": 315,
    "start_time": "2024-07-09T00:52:53.877Z"
   },
   {
    "duration": 769,
    "start_time": "2024-07-09T00:52:54.201Z"
   },
   {
    "duration": 124,
    "start_time": "2024-07-09T00:56:37.257Z"
   },
   {
    "duration": 4,
    "start_time": "2024-07-09T00:57:34.635Z"
   },
   {
    "duration": 257,
    "start_time": "2024-07-09T00:57:34.641Z"
   },
   {
    "duration": 13,
    "start_time": "2024-07-09T00:57:34.900Z"
   },
   {
    "duration": 13,
    "start_time": "2024-07-09T00:57:34.915Z"
   },
   {
    "duration": 13,
    "start_time": "2024-07-09T00:57:34.929Z"
   },
   {
    "duration": 11,
    "start_time": "2024-07-09T00:57:34.944Z"
   },
   {
    "duration": 6,
    "start_time": "2024-07-09T00:57:34.956Z"
   },
   {
    "duration": 50,
    "start_time": "2024-07-09T00:57:34.963Z"
   },
   {
    "duration": 18,
    "start_time": "2024-07-09T00:57:35.015Z"
   },
   {
    "duration": 14,
    "start_time": "2024-07-09T00:57:35.034Z"
   },
   {
    "duration": 7,
    "start_time": "2024-07-09T00:57:35.049Z"
   },
   {
    "duration": 21,
    "start_time": "2024-07-09T00:57:35.058Z"
   },
   {
    "duration": 8,
    "start_time": "2024-07-09T00:57:35.081Z"
   },
   {
    "duration": 293,
    "start_time": "2024-07-09T00:57:35.090Z"
   },
   {
    "duration": 142,
    "start_time": "2024-07-09T00:57:35.385Z"
   },
   {
    "duration": 203,
    "start_time": "2024-07-09T00:57:35.529Z"
   },
   {
    "duration": 228,
    "start_time": "2024-07-09T00:57:35.734Z"
   },
   {
    "duration": 20,
    "start_time": "2024-07-09T00:57:35.963Z"
   },
   {
    "duration": 49,
    "start_time": "2024-07-09T00:57:35.984Z"
   },
   {
    "duration": 131,
    "start_time": "2024-07-09T00:57:36.034Z"
   },
   {
    "duration": 8,
    "start_time": "2024-07-09T00:57:36.167Z"
   },
   {
    "duration": 51,
    "start_time": "2024-07-09T00:57:36.177Z"
   },
   {
    "duration": 15,
    "start_time": "2024-07-09T00:57:36.229Z"
   },
   {
    "duration": 41,
    "start_time": "2024-07-09T00:57:36.245Z"
   },
   {
    "duration": 35,
    "start_time": "2024-07-09T00:57:36.287Z"
   },
   {
    "duration": 250,
    "start_time": "2024-07-09T00:57:36.324Z"
   },
   {
    "duration": 322,
    "start_time": "2024-07-09T00:57:36.576Z"
   },
   {
    "duration": 241,
    "start_time": "2024-07-09T00:57:36.899Z"
   },
   {
    "duration": 239,
    "start_time": "2024-07-09T00:57:37.142Z"
   },
   {
    "duration": 30,
    "start_time": "2024-07-09T00:57:37.383Z"
   },
   {
    "duration": 972,
    "start_time": "2024-07-09T00:57:37.414Z"
   },
   {
    "duration": 238,
    "start_time": "2024-07-09T00:57:38.387Z"
   },
   {
    "duration": 289,
    "start_time": "2024-07-09T00:57:38.627Z"
   },
   {
    "duration": 450,
    "start_time": "2024-07-09T00:57:38.918Z"
   },
   {
    "duration": 4,
    "start_time": "2024-07-09T00:57:39.370Z"
   },
   {
    "duration": 68,
    "start_time": "2024-07-09T00:57:39.376Z"
   },
   {
    "duration": 330,
    "start_time": "2024-07-09T00:57:39.446Z"
   },
   {
    "duration": 786,
    "start_time": "2024-07-09T00:57:39.777Z"
   },
   {
    "duration": 1153,
    "start_time": "2024-07-09T08:41:28.409Z"
   },
   {
    "duration": 369,
    "start_time": "2024-07-09T08:41:29.564Z"
   },
   {
    "duration": 21,
    "start_time": "2024-07-09T08:41:29.934Z"
   },
   {
    "duration": 21,
    "start_time": "2024-07-09T08:41:29.958Z"
   },
   {
    "duration": 14,
    "start_time": "2024-07-09T08:41:29.980Z"
   },
   {
    "duration": 13,
    "start_time": "2024-07-09T08:41:29.996Z"
   },
   {
    "duration": 36,
    "start_time": "2024-07-09T08:41:30.011Z"
   },
   {
    "duration": 93,
    "start_time": "2024-07-09T08:41:30.049Z"
   },
   {
    "duration": 42,
    "start_time": "2024-07-09T08:41:30.143Z"
   },
   {
    "duration": 59,
    "start_time": "2024-07-09T08:41:30.188Z"
   },
   {
    "duration": 41,
    "start_time": "2024-07-09T08:41:30.249Z"
   },
   {
    "duration": 39,
    "start_time": "2024-07-09T08:41:30.292Z"
   },
   {
    "duration": 29,
    "start_time": "2024-07-09T08:41:30.333Z"
   },
   {
    "duration": 375,
    "start_time": "2024-07-09T08:41:30.363Z"
   },
   {
    "duration": 183,
    "start_time": "2024-07-09T08:41:30.740Z"
   },
   {
    "duration": 244,
    "start_time": "2024-07-09T08:41:30.925Z"
   },
   {
    "duration": 174,
    "start_time": "2024-07-09T08:41:31.171Z"
   },
   {
    "duration": 36,
    "start_time": "2024-07-09T08:41:31.347Z"
   },
   {
    "duration": 30,
    "start_time": "2024-07-09T08:41:31.385Z"
   },
   {
    "duration": 249,
    "start_time": "2024-07-09T08:41:31.416Z"
   },
   {
    "duration": 18,
    "start_time": "2024-07-09T08:41:31.667Z"
   },
   {
    "duration": 51,
    "start_time": "2024-07-09T08:41:31.687Z"
   },
   {
    "duration": 22,
    "start_time": "2024-07-09T08:41:31.740Z"
   },
   {
    "duration": 41,
    "start_time": "2024-07-09T08:41:31.763Z"
   },
   {
    "duration": 22,
    "start_time": "2024-07-09T08:41:31.806Z"
   },
   {
    "duration": 327,
    "start_time": "2024-07-09T08:41:31.830Z"
   },
   {
    "duration": 422,
    "start_time": "2024-07-09T08:41:32.159Z"
   },
   {
    "duration": 384,
    "start_time": "2024-07-09T08:41:32.584Z"
   },
   {
    "duration": 359,
    "start_time": "2024-07-09T08:41:32.969Z"
   },
   {
    "duration": 32,
    "start_time": "2024-07-09T08:41:33.330Z"
   },
   {
    "duration": 1075,
    "start_time": "2024-07-09T08:41:33.365Z"
   },
   {
    "duration": 312,
    "start_time": "2024-07-09T08:41:34.442Z"
   },
   {
    "duration": 393,
    "start_time": "2024-07-09T08:41:34.756Z"
   },
   {
    "duration": 437,
    "start_time": "2024-07-09T08:41:35.151Z"
   },
   {
    "duration": 5,
    "start_time": "2024-07-09T08:41:35.590Z"
   },
   {
    "duration": 23,
    "start_time": "2024-07-09T08:41:35.597Z"
   },
   {
    "duration": 375,
    "start_time": "2024-07-09T08:41:35.622Z"
   },
   {
    "duration": 938,
    "start_time": "2024-07-09T08:41:35.999Z"
   },
   {
    "duration": 1262,
    "start_time": "2024-07-09T15:25:55.529Z"
   },
   {
    "duration": 615,
    "start_time": "2024-07-09T15:25:56.792Z"
   },
   {
    "duration": 17,
    "start_time": "2024-07-09T15:25:57.409Z"
   },
   {
    "duration": 29,
    "start_time": "2024-07-09T15:25:57.428Z"
   },
   {
    "duration": 12,
    "start_time": "2024-07-09T15:25:57.458Z"
   },
   {
    "duration": 12,
    "start_time": "2024-07-09T15:25:57.471Z"
   },
   {
    "duration": 18,
    "start_time": "2024-07-09T15:25:57.484Z"
   },
   {
    "duration": 10,
    "start_time": "2024-07-09T15:25:57.503Z"
   },
   {
    "duration": 17,
    "start_time": "2024-07-09T15:25:57.514Z"
   },
   {
    "duration": 12,
    "start_time": "2024-07-09T15:25:57.533Z"
   },
   {
    "duration": 7,
    "start_time": "2024-07-09T15:25:57.546Z"
   },
   {
    "duration": 65,
    "start_time": "2024-07-09T15:25:57.554Z"
   },
   {
    "duration": 5,
    "start_time": "2024-07-09T15:25:57.621Z"
   },
   {
    "duration": 349,
    "start_time": "2024-07-09T15:25:57.627Z"
   },
   {
    "duration": 169,
    "start_time": "2024-07-09T15:25:57.978Z"
   },
   {
    "duration": 218,
    "start_time": "2024-07-09T15:25:58.148Z"
   },
   {
    "duration": 146,
    "start_time": "2024-07-09T15:25:58.368Z"
   },
   {
    "duration": 31,
    "start_time": "2024-07-09T15:25:58.516Z"
   },
   {
    "duration": 63,
    "start_time": "2024-07-09T15:25:58.549Z"
   },
   {
    "duration": 134,
    "start_time": "2024-07-09T15:25:58.613Z"
   },
   {
    "duration": 9,
    "start_time": "2024-07-09T15:25:58.748Z"
   },
   {
    "duration": 27,
    "start_time": "2024-07-09T15:25:58.758Z"
   },
   {
    "duration": 7,
    "start_time": "2024-07-09T15:25:58.786Z"
   },
   {
    "duration": 45,
    "start_time": "2024-07-09T15:25:58.794Z"
   },
   {
    "duration": 18,
    "start_time": "2024-07-09T15:25:58.841Z"
   },
   {
    "duration": 265,
    "start_time": "2024-07-09T15:25:58.860Z"
   },
   {
    "duration": 350,
    "start_time": "2024-07-09T15:25:59.127Z"
   },
   {
    "duration": 324,
    "start_time": "2024-07-09T15:25:59.480Z"
   },
   {
    "duration": 269,
    "start_time": "2024-07-09T15:25:59.805Z"
   },
   {
    "duration": 27,
    "start_time": "2024-07-09T15:26:00.075Z"
   },
   {
    "duration": 522,
    "start_time": "2024-07-09T15:26:11.560Z"
   },
   {
    "duration": 48,
    "start_time": "2024-07-09T15:27:12.175Z"
   },
   {
    "duration": 45,
    "start_time": "2024-07-09T15:30:14.174Z"
   },
   {
    "duration": 48,
    "start_time": "2024-07-09T15:31:24.125Z"
   },
   {
    "duration": 36,
    "start_time": "2024-07-09T15:31:59.657Z"
   },
   {
    "duration": 47,
    "start_time": "2024-07-09T15:32:08.585Z"
   },
   {
    "duration": 46,
    "start_time": "2024-07-09T15:32:27.285Z"
   },
   {
    "duration": 52,
    "start_time": "2024-07-09T15:32:57.569Z"
   },
   {
    "duration": 41,
    "start_time": "2024-07-09T15:36:59.831Z"
   },
   {
    "duration": 43,
    "start_time": "2024-07-09T15:37:05.615Z"
   },
   {
    "duration": 45,
    "start_time": "2024-07-09T15:39:43.449Z"
   },
   {
    "duration": 46,
    "start_time": "2024-07-09T15:40:13.921Z"
   },
   {
    "duration": 66,
    "start_time": "2024-07-09T15:45:21.442Z"
   },
   {
    "duration": 61,
    "start_time": "2024-07-09T15:45:31.488Z"
   },
   {
    "duration": 14,
    "start_time": "2024-07-09T15:45:46.948Z"
   },
   {
    "duration": 13,
    "start_time": "2024-07-09T15:54:01.646Z"
   },
   {
    "duration": 245,
    "start_time": "2024-07-09T15:56:15.807Z"
   },
   {
    "duration": 340,
    "start_time": "2024-07-09T15:57:06.327Z"
   },
   {
    "duration": 10,
    "start_time": "2024-07-09T15:57:50.729Z"
   },
   {
    "duration": 9,
    "start_time": "2024-07-09T15:58:47.276Z"
   },
   {
    "duration": 3,
    "start_time": "2024-07-09T15:59:04.465Z"
   },
   {
    "duration": 235,
    "start_time": "2024-07-09T15:59:04.470Z"
   },
   {
    "duration": 13,
    "start_time": "2024-07-09T15:59:04.707Z"
   },
   {
    "duration": 19,
    "start_time": "2024-07-09T15:59:04.722Z"
   },
   {
    "duration": 12,
    "start_time": "2024-07-09T15:59:04.742Z"
   },
   {
    "duration": 11,
    "start_time": "2024-07-09T15:59:04.755Z"
   },
   {
    "duration": 21,
    "start_time": "2024-07-09T15:59:04.767Z"
   },
   {
    "duration": 19,
    "start_time": "2024-07-09T15:59:04.789Z"
   },
   {
    "duration": 12,
    "start_time": "2024-07-09T15:59:04.809Z"
   },
   {
    "duration": 16,
    "start_time": "2024-07-09T15:59:04.823Z"
   },
   {
    "duration": 21,
    "start_time": "2024-07-09T15:59:04.840Z"
   },
   {
    "duration": 7,
    "start_time": "2024-07-09T15:59:04.862Z"
   },
   {
    "duration": 6,
    "start_time": "2024-07-09T15:59:04.871Z"
   },
   {
    "duration": 332,
    "start_time": "2024-07-09T15:59:04.878Z"
   },
   {
    "duration": 147,
    "start_time": "2024-07-09T15:59:05.211Z"
   },
   {
    "duration": 194,
    "start_time": "2024-07-09T15:59:05.360Z"
   },
   {
    "duration": 138,
    "start_time": "2024-07-09T15:59:05.555Z"
   },
   {
    "duration": 52,
    "start_time": "2024-07-09T15:59:05.694Z"
   },
   {
    "duration": 19,
    "start_time": "2024-07-09T15:59:05.747Z"
   },
   {
    "duration": 213,
    "start_time": "2024-07-09T15:59:05.768Z"
   },
   {
    "duration": 8,
    "start_time": "2024-07-09T15:59:05.983Z"
   },
   {
    "duration": 86,
    "start_time": "2024-07-09T15:59:05.992Z"
   },
   {
    "duration": 12,
    "start_time": "2024-07-09T15:59:06.079Z"
   },
   {
    "duration": 55,
    "start_time": "2024-07-09T15:59:06.092Z"
   },
   {
    "duration": 22,
    "start_time": "2024-07-09T15:59:06.149Z"
   },
   {
    "duration": 247,
    "start_time": "2024-07-09T15:59:06.172Z"
   },
   {
    "duration": 332,
    "start_time": "2024-07-09T15:59:06.421Z"
   },
   {
    "duration": 240,
    "start_time": "2024-07-09T15:59:06.755Z"
   },
   {
    "duration": 256,
    "start_time": "2024-07-09T15:59:06.996Z"
   },
   {
    "duration": 44,
    "start_time": "2024-07-09T15:59:07.254Z"
   },
   {
    "duration": 13,
    "start_time": "2024-07-09T15:59:07.299Z"
   },
   {
    "duration": 254,
    "start_time": "2024-07-09T15:59:07.328Z"
   },
   {
    "duration": 419,
    "start_time": "2024-07-09T15:59:07.583Z"
   },
   {
    "duration": 407,
    "start_time": "2024-07-09T15:59:08.003Z"
   },
   {
    "duration": 4,
    "start_time": "2024-07-09T15:59:08.412Z"
   },
   {
    "duration": 22,
    "start_time": "2024-07-09T15:59:08.418Z"
   },
   {
    "duration": 322,
    "start_time": "2024-07-09T15:59:08.441Z"
   },
   {
    "duration": 819,
    "start_time": "2024-07-09T15:59:08.764Z"
   },
   {
    "duration": 3,
    "start_time": "2024-07-09T16:09:50.077Z"
   },
   {
    "duration": 298,
    "start_time": "2024-07-09T16:09:50.280Z"
   },
   {
    "duration": 13,
    "start_time": "2024-07-09T16:09:50.580Z"
   },
   {
    "duration": 40,
    "start_time": "2024-07-09T16:09:50.594Z"
   },
   {
    "duration": 25,
    "start_time": "2024-07-09T16:09:50.635Z"
   },
   {
    "duration": 79,
    "start_time": "2024-07-09T16:09:50.662Z"
   },
   {
    "duration": 12,
    "start_time": "2024-07-09T16:09:50.743Z"
   },
   {
    "duration": 17,
    "start_time": "2024-07-09T16:09:50.757Z"
   },
   {
    "duration": 21,
    "start_time": "2024-07-09T16:09:50.775Z"
   },
   {
    "duration": 14,
    "start_time": "2024-07-09T16:09:50.797Z"
   },
   {
    "duration": 33,
    "start_time": "2024-07-09T16:09:50.812Z"
   },
   {
    "duration": 34,
    "start_time": "2024-07-09T16:09:50.847Z"
   },
   {
    "duration": 29,
    "start_time": "2024-07-09T16:09:50.883Z"
   },
   {
    "duration": 340,
    "start_time": "2024-07-09T16:09:50.914Z"
   },
   {
    "duration": 140,
    "start_time": "2024-07-09T16:09:51.256Z"
   },
   {
    "duration": 200,
    "start_time": "2024-07-09T16:09:51.398Z"
   },
   {
    "duration": 142,
    "start_time": "2024-07-09T16:09:51.600Z"
   },
   {
    "duration": 21,
    "start_time": "2024-07-09T16:09:51.744Z"
   },
   {
    "duration": 49,
    "start_time": "2024-07-09T16:09:51.767Z"
   },
   {
    "duration": 140,
    "start_time": "2024-07-09T16:09:51.817Z"
   },
   {
    "duration": 10,
    "start_time": "2024-07-09T16:09:51.958Z"
   },
   {
    "duration": 114,
    "start_time": "2024-07-09T16:09:51.969Z"
   },
   {
    "duration": 19,
    "start_time": "2024-07-09T16:09:52.085Z"
   },
   {
    "duration": 48,
    "start_time": "2024-07-09T16:09:52.105Z"
   },
   {
    "duration": 54,
    "start_time": "2024-07-09T16:09:52.154Z"
   },
   {
    "duration": 249,
    "start_time": "2024-07-09T16:09:52.209Z"
   },
   {
    "duration": 397,
    "start_time": "2024-07-09T16:09:52.460Z"
   },
   {
    "duration": 273,
    "start_time": "2024-07-09T16:09:52.858Z"
   },
   {
    "duration": 265,
    "start_time": "2024-07-09T16:09:53.133Z"
   },
   {
    "duration": 50,
    "start_time": "2024-07-09T16:09:53.400Z"
   },
   {
    "duration": 13,
    "start_time": "2024-07-09T16:09:53.451Z"
   },
   {
    "duration": 278,
    "start_time": "2024-07-09T16:09:53.466Z"
   },
   {
    "duration": 331,
    "start_time": "2024-07-09T16:09:53.745Z"
   },
   {
    "duration": 427,
    "start_time": "2024-07-09T16:09:54.077Z"
   },
   {
    "duration": 5,
    "start_time": "2024-07-09T16:09:54.506Z"
   },
   {
    "duration": 17,
    "start_time": "2024-07-09T16:09:54.512Z"
   },
   {
    "duration": 321,
    "start_time": "2024-07-09T16:09:54.530Z"
   },
   {
    "duration": 878,
    "start_time": "2024-07-09T16:09:54.852Z"
   },
   {
    "duration": 1038,
    "start_time": "2024-07-09T21:19:40.925Z"
   },
   {
    "duration": 455,
    "start_time": "2024-07-09T21:19:41.965Z"
   },
   {
    "duration": 19,
    "start_time": "2024-07-09T21:19:42.422Z"
   },
   {
    "duration": 23,
    "start_time": "2024-07-09T21:19:42.444Z"
   },
   {
    "duration": 13,
    "start_time": "2024-07-09T21:19:42.469Z"
   },
   {
    "duration": 12,
    "start_time": "2024-07-09T21:19:42.483Z"
   },
   {
    "duration": 8,
    "start_time": "2024-07-09T21:19:42.496Z"
   },
   {
    "duration": 17,
    "start_time": "2024-07-09T21:19:42.505Z"
   },
   {
    "duration": 17,
    "start_time": "2024-07-09T21:19:42.524Z"
   },
   {
    "duration": 12,
    "start_time": "2024-07-09T21:19:42.544Z"
   },
   {
    "duration": 11,
    "start_time": "2024-07-09T21:19:42.557Z"
   },
   {
    "duration": 9,
    "start_time": "2024-07-09T21:19:42.589Z"
   },
   {
    "duration": 8,
    "start_time": "2024-07-09T21:19:42.600Z"
   },
   {
    "duration": 375,
    "start_time": "2024-07-09T21:19:42.610Z"
   },
   {
    "duration": 159,
    "start_time": "2024-07-09T21:19:42.989Z"
   },
   {
    "duration": 208,
    "start_time": "2024-07-09T21:19:43.150Z"
   },
   {
    "duration": 151,
    "start_time": "2024-07-09T21:19:43.360Z"
   },
   {
    "duration": 23,
    "start_time": "2024-07-09T21:19:43.513Z"
   },
   {
    "duration": 22,
    "start_time": "2024-07-09T21:19:43.538Z"
   },
   {
    "duration": 177,
    "start_time": "2024-07-09T21:19:43.561Z"
   },
   {
    "duration": 10,
    "start_time": "2024-07-09T21:19:43.740Z"
   },
   {
    "duration": 46,
    "start_time": "2024-07-09T21:19:43.752Z"
   },
   {
    "duration": 9,
    "start_time": "2024-07-09T21:19:43.800Z"
   },
   {
    "duration": 20,
    "start_time": "2024-07-09T21:19:43.810Z"
   },
   {
    "duration": 18,
    "start_time": "2024-07-09T21:19:43.831Z"
   },
   {
    "duration": 301,
    "start_time": "2024-07-09T21:19:43.850Z"
   },
   {
    "duration": 372,
    "start_time": "2024-07-09T21:19:44.152Z"
   },
   {
    "duration": 319,
    "start_time": "2024-07-09T21:19:44.527Z"
   },
   {
    "duration": 265,
    "start_time": "2024-07-09T21:19:44.847Z"
   },
   {
    "duration": 48,
    "start_time": "2024-07-09T21:19:45.113Z"
   },
   {
    "duration": 31,
    "start_time": "2024-07-09T21:19:45.162Z"
   },
   {
    "duration": 279,
    "start_time": "2024-07-09T21:19:45.194Z"
   },
   {
    "duration": 343,
    "start_time": "2024-07-09T21:19:45.475Z"
   },
   {
    "duration": 449,
    "start_time": "2024-07-09T21:19:45.819Z"
   },
   {
    "duration": 5,
    "start_time": "2024-07-09T21:19:46.269Z"
   },
   {
    "duration": 24,
    "start_time": "2024-07-09T21:19:46.275Z"
   },
   {
    "duration": 324,
    "start_time": "2024-07-09T21:19:46.301Z"
   },
   {
    "duration": 833,
    "start_time": "2024-07-09T21:19:46.626Z"
   },
   {
    "duration": 50,
    "start_time": "2025-02-23T13:59:13.549Z"
   },
   {
    "duration": 8,
    "start_time": "2025-02-23T13:59:35.487Z"
   }
  ],
  "kernelspec": {
   "display_name": "Python 3 (ipykernel)",
   "language": "python",
   "name": "python3"
  },
  "language_info": {
   "codemirror_mode": {
    "name": "ipython",
    "version": 3
   },
   "file_extension": ".py",
   "mimetype": "text/x-python",
   "name": "python",
   "nbconvert_exporter": "python",
   "pygments_lexer": "ipython3",
   "version": "3.11.7"
  },
  "toc": {
   "base_numbering": 1,
   "nav_menu": {},
   "number_sections": true,
   "sideBar": true,
   "skip_h1_title": true,
   "title_cell": "Table of Contents",
   "title_sidebar": "Contents",
   "toc_cell": false,
   "toc_position": {},
   "toc_section_display": true,
   "toc_window_display": true
  }
 },
 "nbformat": 4,
 "nbformat_minor": 5
}
